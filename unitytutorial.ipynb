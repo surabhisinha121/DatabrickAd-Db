{
 "cells": [
  {
   "cell_type": "code",
   "execution_count": 0,
   "metadata": {
    "application/vnd.databricks.v1+cell": {
     "cellMetadata": {
      "byteLimit": 2048000,
      "rowLimit": 10000
     },
     "inputWidgets": {},
     "nuid": "e5a37761-602d-444e-85dc-a9dc4159ce1a",
     "showTitle": true,
     "tableResultSettingsMap": {},
     "title": "ytutorial"
    }
   },
   "outputs": [
    {
     "output_type": "stream",
     "name": "stdout",
     "output_type": "stream",
     "text": [
      "hello\n"
     ]
    }
   ],
   "source": [
    "print(\"hello\")"
   ]
  },
  {
   "cell_type": "markdown",
   "metadata": {
    "application/vnd.databricks.v1+cell": {
     "cellMetadata": {},
     "inputWidgets": {},
     "nuid": "6b482459-dfc6-4689-b4e5-0d3f7e6a48b3",
     "showTitle": false,
     "tableResultSettingsMap": {},
     "title": ""
    }
   },
   "source": [
    "scenerio 1\n",
    "** Managed Catalog**\n",
    "** Managed Schema **\n",
    "** Managed Table **\n"
   ]
  },
  {
   "cell_type": "code",
   "execution_count": 0,
   "metadata": {
    "application/vnd.databricks.v1+cell": {
     "cellMetadata": {
      "byteLimit": 2048000,
      "implicitDf": true,
      "rowLimit": 10000
     },
     "inputWidgets": {},
     "nuid": "cf50455e-ca3f-41f9-94b7-52a6f143c993",
     "showTitle": false,
     "tableResultSettingsMap": {},
     "title": ""
    }
   },
   "outputs": [
    {
     "output_type": "display_data",
     "data": {
      "text/html": [
       "<style scoped>\n",
       "  .table-result-container {\n",
       "    max-height: 300px;\n",
       "    overflow: auto;\n",
       "  }\n",
       "  table, th, td {\n",
       "    border: 1px solid black;\n",
       "    border-collapse: collapse;\n",
       "  }\n",
       "  th, td {\n",
       "    padding: 5px;\n",
       "  }\n",
       "  th {\n",
       "    text-align: left;\n",
       "  }\n",
       "</style><div class='table-result-container'><table class='table-result'><thead style='background-color: white'><tr></tr></thead><tbody></tbody></table></div>"
      ]
     },
     "metadata": {
      "application/vnd.databricks.v1+output": {
       "addedWidgets": {},
       "aggData": [],
       "aggError": "",
       "aggOverflow": false,
       "aggSchema": [],
       "aggSeriesLimitReached": false,
       "aggType": "",
       "arguments": {},
       "columnCustomDisplayInfos": {},
       "data": [],
       "datasetInfos": [],
       "dbfsResultPath": null,
       "isJsonSchema": true,
       "metadata": {
        "dataframeName": null
       },
       "overflow": false,
       "plotOptions": {
        "customPlotOptions": {},
        "displayType": "table",
        "pivotAggregation": null,
        "pivotColumns": null,
        "xColumns": null,
        "yColumns": null
       },
       "removedWidgets": [],
       "schema": [],
       "type": "table"
      }
     },
     "output_type": "display_data"
    }
   ],
   "source": [
    "%sql\n",
    "Create Catalog Managed_catalog"
   ]
  },
  {
   "cell_type": "code",
   "execution_count": 0,
   "metadata": {
    "application/vnd.databricks.v1+cell": {
     "cellMetadata": {
      "byteLimit": 2048000,
      "implicitDf": true,
      "rowLimit": 10000
     },
     "inputWidgets": {},
     "nuid": "529f9d14-f543-480b-98ed-3284c56773ba",
     "showTitle": false,
     "tableResultSettingsMap": {},
     "title": ""
    }
   },
   "outputs": [
    {
     "output_type": "display_data",
     "data": {
      "text/html": [
       "<style scoped>\n",
       "  .table-result-container {\n",
       "    max-height: 300px;\n",
       "    overflow: auto;\n",
       "  }\n",
       "  table, th, td {\n",
       "    border: 1px solid black;\n",
       "    border-collapse: collapse;\n",
       "  }\n",
       "  th, td {\n",
       "    padding: 5px;\n",
       "  }\n",
       "  th {\n",
       "    text-align: left;\n",
       "  }\n",
       "</style><div class='table-result-container'><table class='table-result'><thead style='background-color: white'><tr></tr></thead><tbody></tbody></table></div>"
      ]
     },
     "metadata": {
      "application/vnd.databricks.v1+output": {
       "addedWidgets": {},
       "aggData": [],
       "aggError": "",
       "aggOverflow": false,
       "aggSchema": [],
       "aggSeriesLimitReached": false,
       "aggType": "",
       "arguments": {},
       "columnCustomDisplayInfos": {},
       "data": [],
       "datasetInfos": [],
       "dbfsResultPath": null,
       "isJsonSchema": true,
       "metadata": {
        "dataframeName": null
       },
       "overflow": false,
       "plotOptions": {
        "customPlotOptions": {},
        "displayType": "table",
        "pivotAggregation": null,
        "pivotColumns": null,
        "xColumns": null,
        "yColumns": null
       },
       "removedWidgets": [],
       "schema": [],
       "type": "table"
      }
     },
     "output_type": "display_data"
    }
   ],
   "source": [
    "%sql\n",
    "create Schema Managed_catalog.man_schema"
   ]
  },
  {
   "cell_type": "code",
   "execution_count": 0,
   "metadata": {
    "application/vnd.databricks.v1+cell": {
     "cellMetadata": {
      "byteLimit": 2048000,
      "implicitDf": true,
      "rowLimit": 10000
     },
     "inputWidgets": {},
     "nuid": "6fe32547-24d1-4f65-ac58-fb7e8a8ed3d3",
     "showTitle": false,
     "tableResultSettingsMap": {},
     "title": ""
    }
   },
   "outputs": [
    {
     "output_type": "display_data",
     "data": {
      "text/html": [
       "<style scoped>\n",
       "  .table-result-container {\n",
       "    max-height: 300px;\n",
       "    overflow: auto;\n",
       "  }\n",
       "  table, th, td {\n",
       "    border: 1px solid black;\n",
       "    border-collapse: collapse;\n",
       "  }\n",
       "  th, td {\n",
       "    padding: 5px;\n",
       "  }\n",
       "  th {\n",
       "    text-align: left;\n",
       "  }\n",
       "</style><div class='table-result-container'><table class='table-result'><thead style='background-color: white'><tr></tr></thead><tbody></tbody></table></div>"
      ]
     },
     "metadata": {
      "application/vnd.databricks.v1+output": {
       "addedWidgets": {},
       "aggData": [],
       "aggError": "",
       "aggOverflow": false,
       "aggSchema": [],
       "aggSeriesLimitReached": false,
       "aggType": "",
       "arguments": {},
       "columnCustomDisplayInfos": {},
       "data": [],
       "datasetInfos": [],
       "dbfsResultPath": null,
       "isJsonSchema": true,
       "metadata": {
        "dataframeName": null
       },
       "overflow": false,
       "plotOptions": {
        "customPlotOptions": {},
        "displayType": "table",
        "pivotAggregation": null,
        "pivotColumns": null,
        "xColumns": null,
        "yColumns": null
       },
       "removedWidgets": [],
       "schema": [],
       "type": "table"
      }
     },
     "output_type": "display_data"
    }
   ],
   "source": [
    "%sql\n",
    "create table Managed_catalog.man_schema.man_table\n",
    "(\n",
    "id int,\n",
    "name string\n",
    "\n",
    ")\n",
    "using delta"
   ]
  },
  {
   "cell_type": "markdown",
   "metadata": {
    "application/vnd.databricks.v1+cell": {
     "cellMetadata": {},
     "inputWidgets": {},
     "nuid": "2b1e0973-7051-4a6a-8408-6a086f44672e",
     "showTitle": false,
     "tableResultSettingsMap": {},
     "title": ""
    }
   },
   "source": []
  },
  {
   "cell_type": "markdown",
   "metadata": {
    "application/vnd.databricks.v1+cell": {
     "cellMetadata": {},
     "inputWidgets": {},
     "nuid": "65350044-3eb8-4fc1-9e82-d29c283dd756",
     "showTitle": false,
     "tableResultSettingsMap": {},
     "title": ""
    }
   },
   "source": [
    "scenerio 2\n",
    "external catalog  managed schema managef table"
   ]
  },
  {
   "cell_type": "code",
   "execution_count": 0,
   "metadata": {
    "application/vnd.databricks.v1+cell": {
     "cellMetadata": {
      "byteLimit": 2048000,
      "implicitDf": true,
      "rowLimit": 10000
     },
     "inputWidgets": {},
     "nuid": "e83232e3-79d4-4ae2-a1e2-8631749fab76",
     "showTitle": false,
     "tableResultSettingsMap": {},
     "title": ""
    }
   },
   "outputs": [
    {
     "output_type": "display_data",
     "data": {
      "text/html": [
       "<style scoped>\n",
       "  .table-result-container {\n",
       "    max-height: 300px;\n",
       "    overflow: auto;\n",
       "  }\n",
       "  table, th, td {\n",
       "    border: 1px solid black;\n",
       "    border-collapse: collapse;\n",
       "  }\n",
       "  th, td {\n",
       "    padding: 5px;\n",
       "  }\n",
       "  th {\n",
       "    text-align: left;\n",
       "  }\n",
       "</style><div class='table-result-container'><table class='table-result'><thead style='background-color: white'><tr></tr></thead><tbody></tbody></table></div>"
      ]
     },
     "metadata": {
      "application/vnd.databricks.v1+output": {
       "addedWidgets": {},
       "aggData": [],
       "aggError": "",
       "aggOverflow": false,
       "aggSchema": [],
       "aggSeriesLimitReached": false,
       "aggType": "",
       "arguments": {},
       "columnCustomDisplayInfos": {},
       "data": [],
       "datasetInfos": [],
       "dbfsResultPath": null,
       "isJsonSchema": true,
       "metadata": {
        "dataframeName": null
       },
       "overflow": false,
       "plotOptions": {
        "customPlotOptions": {},
        "displayType": "table",
        "pivotAggregation": null,
        "pivotColumns": null,
        "xColumns": null,
        "yColumns": null
       },
       "removedWidgets": [],
       "schema": [],
       "type": "table"
      }
     },
     "output_type": "display_data"
    }
   ],
   "source": [
    "%sql\n",
    "create catalog ext_catlog\n",
    "managed location 'abfss://mycontainer@storagemoderns.dfs.core.windows.net/external_catalog'"
   ]
  },
  {
   "cell_type": "code",
   "execution_count": 0,
   "metadata": {
    "application/vnd.databricks.v1+cell": {
     "cellMetadata": {
      "byteLimit": 2048000,
      "implicitDf": true,
      "rowLimit": 10000
     },
     "inputWidgets": {},
     "nuid": "d6932d74-5d74-4881-b74d-2921d629ee50",
     "showTitle": false,
     "tableResultSettingsMap": {},
     "title": ""
    }
   },
   "outputs": [
    {
     "output_type": "display_data",
     "data": {
      "text/html": [
       "<style scoped>\n",
       "  .table-result-container {\n",
       "    max-height: 300px;\n",
       "    overflow: auto;\n",
       "  }\n",
       "  table, th, td {\n",
       "    border: 1px solid black;\n",
       "    border-collapse: collapse;\n",
       "  }\n",
       "  th, td {\n",
       "    padding: 5px;\n",
       "  }\n",
       "  th {\n",
       "    text-align: left;\n",
       "  }\n",
       "</style><div class='table-result-container'><table class='table-result'><thead style='background-color: white'><tr></tr></thead><tbody></tbody></table></div>"
      ]
     },
     "metadata": {
      "application/vnd.databricks.v1+output": {
       "addedWidgets": {},
       "aggData": [],
       "aggError": "",
       "aggOverflow": false,
       "aggSchema": [],
       "aggSeriesLimitReached": false,
       "aggType": "",
       "arguments": {},
       "columnCustomDisplayInfos": {},
       "data": [],
       "datasetInfos": [],
       "dbfsResultPath": null,
       "isJsonSchema": true,
       "metadata": {
        "dataframeName": null
       },
       "overflow": false,
       "plotOptions": {
        "customPlotOptions": {},
        "displayType": "table",
        "pivotAggregation": null,
        "pivotColumns": null,
        "xColumns": null,
        "yColumns": null
       },
       "removedWidgets": [],
       "schema": [],
       "type": "table"
      }
     },
     "output_type": "display_data"
    }
   ],
   "source": [
    "%sql\n",
    "create schema ext_catlog.man_schema"
   ]
  },
  {
   "cell_type": "code",
   "execution_count": 0,
   "metadata": {
    "application/vnd.databricks.v1+cell": {
     "cellMetadata": {
      "byteLimit": 2048000,
      "implicitDf": true,
      "rowLimit": 10000
     },
     "inputWidgets": {},
     "nuid": "8143210a-2462-472c-9a4e-f91d8cc05e31",
     "showTitle": false,
     "tableResultSettingsMap": {},
     "title": ""
    }
   },
   "outputs": [
    {
     "output_type": "display_data",
     "data": {
      "text/html": [
       "<style scoped>\n",
       "  .table-result-container {\n",
       "    max-height: 300px;\n",
       "    overflow: auto;\n",
       "  }\n",
       "  table, th, td {\n",
       "    border: 1px solid black;\n",
       "    border-collapse: collapse;\n",
       "  }\n",
       "  th, td {\n",
       "    padding: 5px;\n",
       "  }\n",
       "  th {\n",
       "    text-align: left;\n",
       "  }\n",
       "</style><div class='table-result-container'><table class='table-result'><thead style='background-color: white'><tr></tr></thead><tbody></tbody></table></div>"
      ]
     },
     "metadata": {
      "application/vnd.databricks.v1+output": {
       "addedWidgets": {},
       "aggData": [],
       "aggError": "",
       "aggOverflow": false,
       "aggSchema": [],
       "aggSeriesLimitReached": false,
       "aggType": "",
       "arguments": {},
       "columnCustomDisplayInfos": {},
       "data": [],
       "datasetInfos": [],
       "dbfsResultPath": null,
       "isJsonSchema": true,
       "metadata": {
        "dataframeName": null
       },
       "overflow": false,
       "plotOptions": {
        "customPlotOptions": {},
        "displayType": "table",
        "pivotAggregation": null,
        "pivotColumns": null,
        "xColumns": null,
        "yColumns": null
       },
       "removedWidgets": [],
       "schema": [],
       "type": "table"
      }
     },
     "output_type": "display_data"
    }
   ],
   "source": [
    "%sql\n",
    "create table ext_catlog.man_schema.man_table1\n",
    "(\n",
    "id int,\n",
    "name string\n",
    "\n",
    ")\n",
    "using delta"
   ]
  },
  {
   "cell_type": "markdown",
   "metadata": {
    "application/vnd.databricks.v1+cell": {
     "cellMetadata": {},
     "inputWidgets": {},
     "nuid": "e3d288cb-9548-4f88-b02d-adb67397611a",
     "showTitle": false,
     "tableResultSettingsMap": {},
     "title": ""
    }
   },
   "source": [
    "external catalog external schem managed table"
   ]
  },
  {
   "cell_type": "code",
   "execution_count": 0,
   "metadata": {
    "application/vnd.databricks.v1+cell": {
     "cellMetadata": {
      "byteLimit": 2048000,
      "implicitDf": true,
      "rowLimit": 10000
     },
     "inputWidgets": {},
     "nuid": "38f20453-7596-4d87-8651-31344e853e1b",
     "showTitle": false,
     "tableResultSettingsMap": {},
     "title": ""
    }
   },
   "outputs": [
    {
     "output_type": "display_data",
     "data": {
      "text/html": [
       "<style scoped>\n",
       "  .table-result-container {\n",
       "    max-height: 300px;\n",
       "    overflow: auto;\n",
       "  }\n",
       "  table, th, td {\n",
       "    border: 1px solid black;\n",
       "    border-collapse: collapse;\n",
       "  }\n",
       "  th, td {\n",
       "    padding: 5px;\n",
       "  }\n",
       "  th {\n",
       "    text-align: left;\n",
       "  }\n",
       "</style><div class='table-result-container'><table class='table-result'><thead style='background-color: white'><tr></tr></thead><tbody></tbody></table></div>"
      ]
     },
     "metadata": {
      "application/vnd.databricks.v1+output": {
       "addedWidgets": {},
       "aggData": [],
       "aggError": "",
       "aggOverflow": false,
       "aggSchema": [],
       "aggSeriesLimitReached": false,
       "aggType": "",
       "arguments": {},
       "columnCustomDisplayInfos": {},
       "data": [],
       "datasetInfos": [],
       "dbfsResultPath": null,
       "isJsonSchema": true,
       "metadata": {
        "dataframeName": null
       },
       "overflow": false,
       "plotOptions": {
        "customPlotOptions": {},
        "displayType": "table",
        "pivotAggregation": null,
        "pivotColumns": null,
        "xColumns": null,
        "yColumns": null
       },
       "removedWidgets": [],
       "schema": [],
       "type": "table"
      }
     },
     "output_type": "display_data"
    }
   ],
   "source": [
    "%sql\n",
    "create Schema ext_catlog.ext_schema\n",
    "managed location 'abfss://mycontainer@storagemoderns.dfs.core.windows.net/external_schema'"
   ]
  },
  {
   "cell_type": "code",
   "execution_count": 0,
   "metadata": {
    "application/vnd.databricks.v1+cell": {
     "cellMetadata": {
      "byteLimit": 2048000,
      "implicitDf": true,
      "rowLimit": 10000
     },
     "inputWidgets": {},
     "nuid": "a40eedc5-b803-4bc9-a13e-b2b4e9eb332d",
     "showTitle": false,
     "tableResultSettingsMap": {},
     "title": ""
    }
   },
   "outputs": [
    {
     "output_type": "display_data",
     "data": {
      "text/html": [
       "<style scoped>\n",
       "  .table-result-container {\n",
       "    max-height: 300px;\n",
       "    overflow: auto;\n",
       "  }\n",
       "  table, th, td {\n",
       "    border: 1px solid black;\n",
       "    border-collapse: collapse;\n",
       "  }\n",
       "  th, td {\n",
       "    padding: 5px;\n",
       "  }\n",
       "  th {\n",
       "    text-align: left;\n",
       "  }\n",
       "</style><div class='table-result-container'><table class='table-result'><thead style='background-color: white'><tr></tr></thead><tbody></tbody></table></div>"
      ]
     },
     "metadata": {
      "application/vnd.databricks.v1+output": {
       "addedWidgets": {},
       "aggData": [],
       "aggError": "",
       "aggOverflow": false,
       "aggSchema": [],
       "aggSeriesLimitReached": false,
       "aggType": "",
       "arguments": {},
       "columnCustomDisplayInfos": {},
       "data": [],
       "datasetInfos": [],
       "dbfsResultPath": null,
       "isJsonSchema": true,
       "metadata": {
        "dataframeName": null
       },
       "overflow": false,
       "plotOptions": {
        "customPlotOptions": {},
        "displayType": "table",
        "pivotAggregation": null,
        "pivotColumns": null,
        "xColumns": null,
        "yColumns": null
       },
       "removedWidgets": [],
       "schema": [],
       "type": "table"
      }
     },
     "output_type": "display_data"
    }
   ],
   "source": [
    "%sql\n",
    "create table ext_catlog.ext_schema.man_table3\n",
    "(\n",
    "id int,\n",
    "name string\n",
    ")\n",
    "\n",
    "using delta"
   ]
  },
  {
   "cell_type": "markdown",
   "metadata": {
    "application/vnd.databricks.v1+cell": {
     "cellMetadata": {},
     "inputWidgets": {},
     "nuid": "c5cc84dd-344e-445b-aede-0b251ce95cc0",
     "showTitle": false,
     "tableResultSettingsMap": {},
     "title": ""
    }
   },
   "source": []
  },
  {
   "cell_type": "markdown",
   "metadata": {
    "application/vnd.databricks.v1+cell": {
     "cellMetadata": {},
     "inputWidgets": {},
     "nuid": "c8f2893b-04a9-405a-a898-6942464ad358",
     "showTitle": false,
     "tableResultSettingsMap": {},
     "title": ""
    }
   },
   "source": [
    "scenerio4\n",
    "externaltable"
   ]
  },
  {
   "cell_type": "code",
   "execution_count": 0,
   "metadata": {
    "application/vnd.databricks.v1+cell": {
     "cellMetadata": {
      "byteLimit": 2048000,
      "implicitDf": true,
      "rowLimit": 10000
     },
     "inputWidgets": {},
     "nuid": "b92eda65-cfd2-46e9-aaf9-77eb1516d574",
     "showTitle": false,
     "tableResultSettingsMap": {},
     "title": ""
    }
   },
   "outputs": [
    {
     "output_type": "display_data",
     "data": {
      "text/html": [
       "<style scoped>\n",
       "  .table-result-container {\n",
       "    max-height: 300px;\n",
       "    overflow: auto;\n",
       "  }\n",
       "  table, th, td {\n",
       "    border: 1px solid black;\n",
       "    border-collapse: collapse;\n",
       "  }\n",
       "  th, td {\n",
       "    padding: 5px;\n",
       "  }\n",
       "  th {\n",
       "    text-align: left;\n",
       "  }\n",
       "</style><div class='table-result-container'><table class='table-result'><thead style='background-color: white'><tr></tr></thead><tbody></tbody></table></div>"
      ]
     },
     "metadata": {
      "application/vnd.databricks.v1+output": {
       "addedWidgets": {},
       "aggData": [],
       "aggError": "",
       "aggOverflow": false,
       "aggSchema": [],
       "aggSeriesLimitReached": false,
       "aggType": "",
       "arguments": {},
       "columnCustomDisplayInfos": {},
       "data": [],
       "datasetInfos": [],
       "dbfsResultPath": null,
       "isJsonSchema": true,
       "metadata": {
        "dataframeName": null
       },
       "overflow": false,
       "plotOptions": {
        "customPlotOptions": {},
        "displayType": "table",
        "pivotAggregation": null,
        "pivotColumns": null,
        "xColumns": null,
        "yColumns": null
       },
       "removedWidgets": [],
       "schema": [],
       "type": "table"
      }
     },
     "output_type": "display_data"
    }
   ],
   "source": [
    "%sql\n",
    "create table ext_catlog.ext_schema.sales\n",
    "(\n",
    "id int,\n",
    "name string\n",
    ")\n",
    "\n",
    "using delta\n",
    "location 'abfss://mycontainer@storagemoderns.dfs.core.windows.net/saledata/exttableext_catlog.ext_schema.mantbl'\n"
   ]
  },
  {
   "cell_type": "code",
   "execution_count": 0,
   "metadata": {
    "application/vnd.databricks.v1+cell": {
     "cellMetadata": {
      "byteLimit": 2048000,
      "implicitDf": true,
      "rowLimit": 10000
     },
     "inputWidgets": {},
     "nuid": "06ea5b41-e5c5-4864-94ed-af296b45154b",
     "showTitle": false,
     "tableResultSettingsMap": {},
     "title": ""
    }
   },
   "outputs": [
    {
     "output_type": "display_data",
     "data": {
      "text/html": [
       "<style scoped>\n",
       "  .table-result-container {\n",
       "    max-height: 300px;\n",
       "    overflow: auto;\n",
       "  }\n",
       "  table, th, td {\n",
       "    border: 1px solid black;\n",
       "    border-collapse: collapse;\n",
       "  }\n",
       "  th, td {\n",
       "    padding: 5px;\n",
       "  }\n",
       "  th {\n",
       "    text-align: left;\n",
       "  }\n",
       "</style><div class='table-result-container'><table class='table-result'><thead style='background-color: white'><tr><th>num_affected_rows</th><th>num_inserted_rows</th></tr></thead><tbody><tr><td>3</td><td>3</td></tr></tbody></table></div>"
      ]
     },
     "metadata": {
      "application/vnd.databricks.v1+output": {
       "addedWidgets": {},
       "aggData": [],
       "aggError": "",
       "aggOverflow": false,
       "aggSchema": [],
       "aggSeriesLimitReached": false,
       "aggType": "",
       "arguments": {},
       "columnCustomDisplayInfos": {},
       "data": [
        [
         3,
         3
        ]
       ],
       "datasetInfos": [],
       "dbfsResultPath": null,
       "isJsonSchema": true,
       "metadata": {
        "createTempViewForImplicitDf": true,
        "dataframeName": "_sqldf",
        "executionCount": 1
       },
       "overflow": false,
       "plotOptions": {
        "customPlotOptions": {},
        "displayType": "table",
        "pivotAggregation": null,
        "pivotColumns": null,
        "xColumns": null,
        "yColumns": null
       },
       "removedWidgets": [],
       "schema": [
        {
         "metadata": "{}",
         "name": "num_affected_rows",
         "type": "\"long\""
        },
        {
         "metadata": "{}",
         "name": "num_inserted_rows",
         "type": "\"long\""
        }
       ],
       "type": "table"
      }
     },
     "output_type": "display_data"
    }
   ],
   "source": [
    "%sql\n",
    "insert into ext_catlog.ext_schema.sales\n",
    "values\n",
    "\n",
    "  (1,'surabi'),\n",
    " (2,'Neha'),\n",
    "  (3,'Sneha')\n"
   ]
  },
  {
   "cell_type": "code",
   "execution_count": 0,
   "metadata": {
    "application/vnd.databricks.v1+cell": {
     "cellMetadata": {
      "byteLimit": 2048000,
      "implicitDf": true,
      "rowLimit": 10000
     },
     "inputWidgets": {},
     "nuid": "279a2562-ac3a-46ac-9bd1-ebb2b1248e96",
     "showTitle": false,
     "tableResultSettingsMap": {},
     "title": ""
    }
   },
   "outputs": [
    {
     "output_type": "display_data",
     "data": {
      "text/html": [
       "<style scoped>\n",
       "  .table-result-container {\n",
       "    max-height: 300px;\n",
       "    overflow: auto;\n",
       "  }\n",
       "  table, th, td {\n",
       "    border: 1px solid black;\n",
       "    border-collapse: collapse;\n",
       "  }\n",
       "  th, td {\n",
       "    padding: 5px;\n",
       "  }\n",
       "  th {\n",
       "    text-align: left;\n",
       "  }\n",
       "</style><div class='table-result-container'><table class='table-result'><thead style='background-color: white'><tr><th>id</th><th>name</th></tr></thead><tbody><tr><td>1</td><td>surabi</td></tr><tr><td>2</td><td>Neha</td></tr><tr><td>3</td><td>Sneha</td></tr></tbody></table></div>"
      ]
     },
     "metadata": {
      "application/vnd.databricks.v1+output": {
       "addedWidgets": {},
       "aggData": [],
       "aggError": "",
       "aggOverflow": false,
       "aggSchema": [],
       "aggSeriesLimitReached": false,
       "aggType": "",
       "arguments": {},
       "columnCustomDisplayInfos": {},
       "data": [
        [
         1,
         "surabi"
        ],
        [
         2,
         "Neha"
        ],
        [
         3,
         "Sneha"
        ]
       ],
       "datasetInfos": [],
       "dbfsResultPath": null,
       "isJsonSchema": true,
       "metadata": {
        "createTempViewForImplicitDf": true,
        "dataframeName": "_sqldf",
        "executionCount": 2
       },
       "overflow": false,
       "plotOptions": {
        "customPlotOptions": {},
        "displayType": "table",
        "pivotAggregation": null,
        "pivotColumns": null,
        "xColumns": null,
        "yColumns": null
       },
       "removedWidgets": [],
       "schema": [
        {
         "metadata": "{}",
         "name": "id",
         "type": "\"integer\""
        },
        {
         "metadata": "{}",
         "name": "name",
         "type": "\"string\""
        }
       ],
       "type": "table"
      }
     },
     "output_type": "display_data"
    }
   ],
   "source": [
    "%sql\n",
    "select * from  ext_catlog.ext_schema.sales"
   ]
  },
  {
   "cell_type": "code",
   "execution_count": 0,
   "metadata": {
    "application/vnd.databricks.v1+cell": {
     "cellMetadata": {},
     "inputWidgets": {},
     "nuid": "4b8e177a-1917-4cc2-a59e-08057e735096",
     "showTitle": false,
     "tableResultSettingsMap": {},
     "title": ""
    }
   },
   "outputs": [],
   "source": []
  },
  {
   "cell_type": "code",
   "execution_count": 0,
   "metadata": {
    "application/vnd.databricks.v1+cell": {
     "cellMetadata": {
      "byteLimit": 2048000,
      "implicitDf": true,
      "rowLimit": 10000
     },
     "inputWidgets": {},
     "nuid": "81c1206e-ae8e-4c58-93a3-452bc58df0dc",
     "showTitle": false,
     "tableResultSettingsMap": {},
     "title": ""
    }
   },
   "outputs": [
    {
     "output_type": "display_data",
     "data": {
      "text/html": [
       "<style scoped>\n",
       "  .table-result-container {\n",
       "    max-height: 300px;\n",
       "    overflow: auto;\n",
       "  }\n",
       "  table, th, td {\n",
       "    border: 1px solid black;\n",
       "    border-collapse: collapse;\n",
       "  }\n",
       "  th, td {\n",
       "    padding: 5px;\n",
       "  }\n",
       "  th {\n",
       "    text-align: left;\n",
       "  }\n",
       "</style><div class='table-result-container'><table class='table-result'><thead style='background-color: white'><tr><th>id</th><th>name</th></tr></thead><tbody><tr><td>1</td><td>surabi</td></tr><tr><td>2</td><td>Neha</td></tr><tr><td>3</td><td>Sneha</td></tr></tbody></table></div>"
      ]
     },
     "metadata": {
      "application/vnd.databricks.v1+output": {
       "addedWidgets": {},
       "aggData": [],
       "aggError": "",
       "aggOverflow": false,
       "aggSchema": [],
       "aggSeriesLimitReached": false,
       "aggType": "",
       "arguments": {},
       "columnCustomDisplayInfos": {},
       "data": [
        [
         1,
         "surabi"
        ],
        [
         2,
         "Neha"
        ],
        [
         3,
         "Sneha"
        ]
       ],
       "datasetInfos": [],
       "dbfsResultPath": null,
       "isJsonSchema": true,
       "metadata": {
        "createTempViewForImplicitDf": true,
        "dataframeName": "_sqldf",
        "executionCount": 3
       },
       "overflow": false,
       "plotOptions": {
        "customPlotOptions": {},
        "displayType": "table",
        "pivotAggregation": null,
        "pivotColumns": null,
        "xColumns": null,
        "yColumns": null
       },
       "removedWidgets": [],
       "schema": [
        {
         "metadata": "{}",
         "name": "id",
         "type": "\"integer\""
        },
        {
         "metadata": "{}",
         "name": "name",
         "type": "\"string\""
        }
       ],
       "type": "table"
      }
     },
     "output_type": "display_data"
    }
   ],
   "source": [
    "%sql\n",
    "select * from  delta.`abfss://mycontainer@storagemoderns.dfs.core.windows.net/saledata/exttableext_catlog.ext_schema.mantbl`"
   ]
  },
  {
   "cell_type": "code",
   "execution_count": 0,
   "metadata": {
    "application/vnd.databricks.v1+cell": {
     "cellMetadata": {
      "byteLimit": 2048000,
      "implicitDf": true,
      "rowLimit": 10000
     },
     "inputWidgets": {},
     "nuid": "7deb4599-dddf-44e2-9a1b-63d505c7d1af",
     "showTitle": false,
     "tableResultSettingsMap": {},
     "title": ""
    }
   },
   "outputs": [
    {
     "output_type": "display_data",
     "data": {
      "text/html": [
       "<style scoped>\n",
       "  .table-result-container {\n",
       "    max-height: 300px;\n",
       "    overflow: auto;\n",
       "  }\n",
       "  table, th, td {\n",
       "    border: 1px solid black;\n",
       "    border-collapse: collapse;\n",
       "  }\n",
       "  th, td {\n",
       "    padding: 5px;\n",
       "  }\n",
       "  th {\n",
       "    text-align: left;\n",
       "  }\n",
       "</style><div class='table-result-container'><table class='table-result'><thead style='background-color: white'><tr><th>id</th><th>name</th></tr></thead><tbody><tr><td>1</td><td>surabi</td></tr></tbody></table></div>"
      ]
     },
     "metadata": {
      "application/vnd.databricks.v1+output": {
       "addedWidgets": {},
       "aggData": [],
       "aggError": "",
       "aggOverflow": false,
       "aggSchema": [],
       "aggSeriesLimitReached": false,
       "aggType": "",
       "arguments": {},
       "columnCustomDisplayInfos": {},
       "data": [
        [
         1,
         "surabi"
        ]
       ],
       "datasetInfos": [],
       "dbfsResultPath": null,
       "isJsonSchema": true,
       "metadata": {
        "createTempViewForImplicitDf": true,
        "dataframeName": "_sqldf",
        "executionCount": 4
       },
       "overflow": false,
       "plotOptions": {
        "customPlotOptions": {},
        "displayType": "table",
        "pivotAggregation": null,
        "pivotColumns": null,
        "xColumns": null,
        "yColumns": null
       },
       "removedWidgets": [],
       "schema": [
        {
         "metadata": "{}",
         "name": "id",
         "type": "\"integer\""
        },
        {
         "metadata": "{}",
         "name": "name",
         "type": "\"string\""
        }
       ],
       "type": "table"
      }
     },
     "output_type": "display_data"
    }
   ],
   "source": [
    "%sql\n",
    "select * from  delta.`abfss://mycontainer@storagemoderns.dfs.core.windows.net/saledata/exttableext_catlog.ext_schema.mantbl` where id =1"
   ]
  },
  {
   "cell_type": "code",
   "execution_count": 0,
   "metadata": {
    "application/vnd.databricks.v1+cell": {
     "cellMetadata": {
      "byteLimit": 2048000,
      "implicitDf": true,
      "rowLimit": 10000
     },
     "inputWidgets": {},
     "nuid": "12fc21c7-17ed-43f5-8b98-3c9505f8a771",
     "showTitle": false,
     "tableResultSettingsMap": {},
     "title": ""
    }
   },
   "outputs": [
    {
     "output_type": "display_data",
     "data": {
      "text/html": [
       "<style scoped>\n",
       "  .table-result-container {\n",
       "    max-height: 300px;\n",
       "    overflow: auto;\n",
       "  }\n",
       "  table, th, td {\n",
       "    border: 1px solid black;\n",
       "    border-collapse: collapse;\n",
       "  }\n",
       "  th, td {\n",
       "    padding: 5px;\n",
       "  }\n",
       "  th {\n",
       "    text-align: left;\n",
       "  }\n",
       "</style><div class='table-result-container'><table class='table-result'><thead style='background-color: white'><tr></tr></thead><tbody></tbody></table></div>"
      ]
     },
     "metadata": {
      "application/vnd.databricks.v1+output": {
       "addedWidgets": {},
       "aggData": [],
       "aggError": "",
       "aggOverflow": false,
       "aggSchema": [],
       "aggSeriesLimitReached": false,
       "aggType": "",
       "arguments": {},
       "columnCustomDisplayInfos": {},
       "data": [],
       "datasetInfos": [],
       "dbfsResultPath": null,
       "isJsonSchema": true,
       "metadata": {
        "dataframeName": null
       },
       "overflow": false,
       "plotOptions": {
        "customPlotOptions": {},
        "displayType": "table",
        "pivotAggregation": null,
        "pivotColumns": null,
        "xColumns": null,
        "yColumns": null
       },
       "removedWidgets": [],
       "schema": [],
       "type": "table"
      }
     },
     "output_type": "display_data"
    }
   ],
   "source": [
    "%sql\n",
    "create view ext_catlog.ext_schema.view1\n",
    "as\n",
    "select * from  delta.`abfss://mycontainer@storagemoderns.dfs.core.windows.net/saledata/exttableext_catlog.ext_schema.mantbl` where id =1"
   ]
  },
  {
   "cell_type": "code",
   "execution_count": 0,
   "metadata": {
    "application/vnd.databricks.v1+cell": {
     "cellMetadata": {
      "byteLimit": 2048000,
      "implicitDf": true,
      "rowLimit": 10000
     },
     "inputWidgets": {},
     "nuid": "b005f939-68e2-4272-9525-274a42bf9b75",
     "showTitle": false,
     "tableResultSettingsMap": {},
     "title": ""
    }
   },
   "outputs": [
    {
     "output_type": "display_data",
     "data": {
      "text/html": [
       "<style scoped>\n",
       "  .table-result-container {\n",
       "    max-height: 300px;\n",
       "    overflow: auto;\n",
       "  }\n",
       "  table, th, td {\n",
       "    border: 1px solid black;\n",
       "    border-collapse: collapse;\n",
       "  }\n",
       "  th, td {\n",
       "    padding: 5px;\n",
       "  }\n",
       "  th {\n",
       "    text-align: left;\n",
       "  }\n",
       "</style><div class='table-result-container'><table class='table-result'><thead style='background-color: white'><tr><th>id</th><th>name</th></tr></thead><tbody><tr><td>1</td><td>surabi</td></tr></tbody></table></div>"
      ]
     },
     "metadata": {
      "application/vnd.databricks.v1+output": {
       "addedWidgets": {},
       "aggData": [],
       "aggError": "",
       "aggOverflow": false,
       "aggSchema": [],
       "aggSeriesLimitReached": false,
       "aggType": "",
       "arguments": {},
       "columnCustomDisplayInfos": {},
       "data": [
        [
         1,
         "surabi"
        ]
       ],
       "datasetInfos": [],
       "dbfsResultPath": null,
       "isJsonSchema": true,
       "metadata": {
        "createTempViewForImplicitDf": true,
        "dataframeName": "_sqldf",
        "executionCount": 5
       },
       "overflow": false,
       "plotOptions": {
        "customPlotOptions": {},
        "displayType": "table",
        "pivotAggregation": null,
        "pivotColumns": null,
        "xColumns": null,
        "yColumns": null
       },
       "removedWidgets": [],
       "schema": [
        {
         "metadata": "{}",
         "name": "id",
         "type": "\"integer\""
        },
        {
         "metadata": "{}",
         "name": "name",
         "type": "\"string\""
        }
       ],
       "type": "table"
      }
     },
     "output_type": "display_data"
    }
   ],
   "source": [
    "%sql\n",
    "select * from ext_catlog.ext_schema.view1"
   ]
  },
  {
   "cell_type": "code",
   "execution_count": 0,
   "metadata": {
    "application/vnd.databricks.v1+cell": {
     "cellMetadata": {},
     "inputWidgets": {},
     "nuid": "cfcdcc15-ba17-4b73-adde-e6b40b70ab82",
     "showTitle": false,
     "tableResultSettingsMap": {},
     "title": ""
    }
   },
   "outputs": [],
   "source": []
  },
  {
   "cell_type": "code",
   "execution_count": 0,
   "metadata": {
    "application/vnd.databricks.v1+cell": {
     "cellMetadata": {
      "byteLimit": 2048000,
      "implicitDf": true,
      "rowLimit": 10000
     },
     "inputWidgets": {},
     "nuid": "860e6f1a-846c-4270-be5f-e925ff4bee76",
     "showTitle": false,
     "tableResultSettingsMap": {},
     "title": ""
    }
   },
   "outputs": [
    {
     "output_type": "display_data",
     "data": {
      "text/html": [
       "<style scoped>\n",
       "  .table-result-container {\n",
       "    max-height: 300px;\n",
       "    overflow: auto;\n",
       "  }\n",
       "  table, th, td {\n",
       "    border: 1px solid black;\n",
       "    border-collapse: collapse;\n",
       "  }\n",
       "  th, td {\n",
       "    padding: 5px;\n",
       "  }\n",
       "  th {\n",
       "    text-align: left;\n",
       "  }\n",
       "</style><div class='table-result-container'><table class='table-result'><thead style='background-color: white'><tr></tr></thead><tbody></tbody></table></div>"
      ]
     },
     "metadata": {
      "application/vnd.databricks.v1+output": {
       "addedWidgets": {},
       "aggData": [],
       "aggError": "",
       "aggOverflow": false,
       "aggSchema": [],
       "aggSeriesLimitReached": false,
       "aggType": "",
       "arguments": {},
       "columnCustomDisplayInfos": {},
       "data": [],
       "datasetInfos": [],
       "dbfsResultPath": null,
       "isJsonSchema": true,
       "metadata": {
        "dataframeName": null
       },
       "overflow": false,
       "plotOptions": {
        "customPlotOptions": {},
        "displayType": "table",
        "pivotAggregation": null,
        "pivotColumns": null,
        "xColumns": null,
        "yColumns": null
       },
       "removedWidgets": [],
       "schema": [],
       "type": "table"
      }
     },
     "output_type": "display_data"
    }
   ],
   "source": [
    "%sql\n",
    "create or replace Temp view view2\n",
    "as\n",
    "select * from  delta.`abfss://mycontainer@storagemoderns.dfs.core.windows.net/saledata/exttableext_catlog.ext_schema.mantbl` where id =1"
   ]
  },
  {
   "cell_type": "code",
   "execution_count": 0,
   "metadata": {
    "application/vnd.databricks.v1+cell": {
     "cellMetadata": {
      "byteLimit": 2048000,
      "rowLimit": 10000
     },
     "inputWidgets": {},
     "nuid": "20884866-fea4-4e7c-8ffc-ae6768c882fd",
     "showTitle": false,
     "tableResultSettingsMap": {},
     "title": ""
    }
   },
   "outputs": [
    {
     "output_type": "execute_result",
     "data": {
      "text/plain": [
       "True"
      ]
     },
     "execution_count": 6,
     "metadata": {},
     "output_type": "execute_result"
    }
   ],
   "source": [
    "dbutils.fs.mkdirs('abfss://mycontainer@storagemoderns.dfs.core.windows.net/volumes')"
   ]
  },
  {
   "cell_type": "code",
   "execution_count": 0,
   "metadata": {
    "application/vnd.databricks.v1+cell": {
     "cellMetadata": {
      "byteLimit": 2048000,
      "implicitDf": true,
      "rowLimit": 10000
     },
     "inputWidgets": {},
     "nuid": "b7335c4d-8f23-483f-a67b-5d1a6d837757",
     "showTitle": false,
     "tableResultSettingsMap": {},
     "title": ""
    }
   },
   "outputs": [
    {
     "output_type": "display_data",
     "data": {
      "text/html": [
       "<style scoped>\n",
       "  .table-result-container {\n",
       "    max-height: 300px;\n",
       "    overflow: auto;\n",
       "  }\n",
       "  table, th, td {\n",
       "    border: 1px solid black;\n",
       "    border-collapse: collapse;\n",
       "  }\n",
       "  th, td {\n",
       "    padding: 5px;\n",
       "  }\n",
       "  th {\n",
       "    text-align: left;\n",
       "  }\n",
       "</style><div class='table-result-container'><table class='table-result'><thead style='background-color: white'><tr></tr></thead><tbody></tbody></table></div>"
      ]
     },
     "metadata": {
      "application/vnd.databricks.v1+output": {
       "addedWidgets": {},
       "aggData": [],
       "aggError": "",
       "aggOverflow": false,
       "aggSchema": [],
       "aggSeriesLimitReached": false,
       "aggType": "",
       "arguments": {},
       "columnCustomDisplayInfos": {},
       "data": [],
       "datasetInfos": [],
       "dbfsResultPath": null,
       "isJsonSchema": true,
       "metadata": {
        "dataframeName": null
       },
       "overflow": false,
       "plotOptions": {
        "customPlotOptions": {},
        "displayType": "table",
        "pivotAggregation": null,
        "pivotColumns": null,
        "xColumns": null,
        "yColumns": null
       },
       "removedWidgets": [],
       "schema": [],
       "type": "table"
      }
     },
     "output_type": "display_data"
    }
   ],
   "source": [
    "%sql\n",
    "Create External  Volume  ext_catlog.ext_schema.myvolumetext\n",
    "location 'abfss://mycontainer@storagemoderns.dfs.core.windows.net/volumes'"
   ]
  },
  {
   "cell_type": "code",
   "execution_count": 0,
   "metadata": {
    "application/vnd.databricks.v1+cell": {
     "cellMetadata": {
      "byteLimit": 2048000,
      "implicitDf": true,
      "rowLimit": 10000
     },
     "inputWidgets": {},
     "nuid": "694370a4-62f1-4a1b-b18d-219835305816",
     "showTitle": false,
     "tableResultSettingsMap": {},
     "title": ""
    }
   },
   "outputs": [
    {
     "output_type": "display_data",
     "data": {
      "text/plain": [
       "org.apache.spark.sql.AnalysisException: [UNSUPPORTED_DATASOURCE_FOR_DIRECT_QUERY] Unsupported data source type for direct query on files: csv SQLSTATE: 0A000; line 1 pos 14\n",
       "\tat org.apache.spark.sql.catalyst.analysis.package$AnalysisErrorAt.failAnalysis(package.scala:69)\n",
       "\tat org.apache.spark.sql.execution.datasources.ResolveSQLOnFile$$anonfun$apply$1.applyOrElse(rules.scala:182)\n",
       "\tat org.apache.spark.sql.execution.datasources.ResolveSQLOnFile$$anonfun$apply$1.applyOrElse(rules.scala:103)\n",
       "\tat org.apache.spark.sql.catalyst.plans.logical.AnalysisHelper.$anonfun$resolveOperatorsDownWithPruning$2(AnalysisHelper.scala:219)\n",
       "\tat org.apache.spark.sql.catalyst.trees.CurrentOrigin$.withOrigin(origin.scala:85)\n",
       "\tat org.apache.spark.sql.catalyst.plans.logical.AnalysisHelper.$anonfun$resolveOperatorsDownWithPruning$1(AnalysisHelper.scala:219)\n",
       "\tat org.apache.spark.sql.catalyst.plans.logical.AnalysisHelper$.allowInvokingTransformsInAnalyzer(AnalysisHelper.scala:436)\n",
       "\tat org.apache.spark.sql.catalyst.plans.logical.AnalysisHelper.resolveOperatorsDownWithPruning(AnalysisHelper.scala:217)\n",
       "\tat org.apache.spark.sql.catalyst.plans.logical.AnalysisHelper.resolveOperatorsDownWithPruning$(AnalysisHelper.scala:213)\n",
       "\tat org.apache.spark.sql.catalyst.plans.logical.LogicalPlan.resolveOperatorsDownWithPruning(LogicalPlan.scala:40)\n",
       "\tat org.apache.spark.sql.catalyst.plans.logical.AnalysisHelper.$anonfun$resolveOperatorsDownWithPruning$4(AnalysisHelper.scala:224)\n",
       "\tat org.apache.spark.sql.catalyst.trees.UnaryLike.mapChildren(TreeNode.scala:1314)\n",
       "\tat org.apache.spark.sql.catalyst.trees.UnaryLike.mapChildren$(TreeNode.scala:1313)\n",
       "\tat org.apache.spark.sql.catalyst.plans.logical.Project.mapChildren(basicLogicalOperators.scala:87)\n",
       "\tat org.apache.spark.sql.catalyst.plans.logical.AnalysisHelper.$anonfun$resolveOperatorsDownWithPruning$1(AnalysisHelper.scala:224)\n",
       "\tat org.apache.spark.sql.catalyst.plans.logical.AnalysisHelper$.allowInvokingTransformsInAnalyzer(AnalysisHelper.scala:436)\n",
       "\tat org.apache.spark.sql.catalyst.plans.logical.AnalysisHelper.resolveOperatorsDownWithPruning(AnalysisHelper.scala:217)\n",
       "\tat org.apache.spark.sql.catalyst.plans.logical.AnalysisHelper.resolveOperatorsDownWithPruning$(AnalysisHelper.scala:213)\n",
       "\tat org.apache.spark.sql.catalyst.plans.logical.LogicalPlan.resolveOperatorsDownWithPruning(LogicalPlan.scala:40)\n",
       "\tat org.apache.spark.sql.catalyst.plans.logical.AnalysisHelper.resolveOperatorsWithPruning(AnalysisHelper.scala:102)\n",
       "\tat org.apache.spark.sql.catalyst.plans.logical.AnalysisHelper.resolveOperatorsWithPruning$(AnalysisHelper.scala:99)\n",
       "\tat org.apache.spark.sql.catalyst.plans.logical.LogicalPlan.resolveOperatorsWithPruning(LogicalPlan.scala:40)\n",
       "\tat org.apache.spark.sql.catalyst.plans.logical.AnalysisHelper.resolveOperators(AnalysisHelper.scala:79)\n",
       "\tat org.apache.spark.sql.catalyst.plans.logical.AnalysisHelper.resolveOperators$(AnalysisHelper.scala:78)\n",
       "\tat org.apache.spark.sql.catalyst.plans.logical.LogicalPlan.resolveOperators(LogicalPlan.scala:40)\n",
       "\tat org.apache.spark.sql.execution.datasources.ResolveSQLOnFile.apply(rules.scala:103)\n",
       "\tat org.apache.spark.sql.execution.datasources.ResolveSQLOnFile.apply(rules.scala:59)\n",
       "\tat org.apache.spark.sql.catalyst.rules.RuleExecutor.$anonfun$execute$4(RuleExecutor.scala:327)\n",
       "\tat com.databricks.spark.util.FrameProfiler$.record(FrameProfiler.scala:94)\n",
       "\tat org.apache.spark.sql.catalyst.rules.RuleExecutor.$anonfun$execute$3(RuleExecutor.scala:327)\n",
       "\tat scala.collection.LinearSeqOptimized.foldLeft(LinearSeqOptimized.scala:126)\n",
       "\tat scala.collection.LinearSeqOptimized.foldLeft$(LinearSeqOptimized.scala:122)\n",
       "\tat scala.collection.immutable.List.foldLeft(List.scala:91)\n",
       "\tat org.apache.spark.sql.catalyst.rules.RuleExecutor.$anonfun$execute$2(RuleExecutor.scala:324)\n",
       "\tat scala.runtime.java8.JFunction0$mcV$sp.apply(JFunction0$mcV$sp.java:23)\n",
       "\tat com.databricks.spark.util.FrameProfiler$.record(FrameProfiler.scala:94)\n",
       "\tat org.apache.spark.sql.catalyst.rules.RuleExecutor.executeBatch$1(RuleExecutor.scala:307)\n",
       "\tat org.apache.spark.sql.catalyst.rules.RuleExecutor.$anonfun$execute$9(RuleExecutor.scala:411)\n",
       "\tat org.apache.spark.sql.catalyst.rules.RuleExecutor.$anonfun$execute$9$adapted(RuleExecutor.scala:411)\n",
       "\tat scala.collection.immutable.List.foreach(List.scala:431)\n",
       "\tat org.apache.spark.sql.catalyst.rules.RuleExecutor.$anonfun$execute$1(RuleExecutor.scala:411)\n",
       "\tat com.databricks.spark.util.FrameProfiler$.record(FrameProfiler.scala:94)\n",
       "\tat org.apache.spark.sql.catalyst.rules.RuleExecutor.execute(RuleExecutor.scala:270)\n",
       "\tat org.apache.spark.sql.catalyst.analysis.Analyzer.executeSameContext(Analyzer.scala:444)\n",
       "\tat org.apache.spark.sql.catalyst.analysis.Analyzer.$anonfun$execute$1(Analyzer.scala:437)\n",
       "\tat org.apache.spark.sql.catalyst.analysis.AnalysisContext$.withNewAnalysisContext(Analyzer.scala:350)\n",
       "\tat org.apache.spark.sql.catalyst.analysis.Analyzer.execute(Analyzer.scala:437)\n",
       "\tat org.apache.spark.sql.catalyst.analysis.Analyzer.execute(Analyzer.scala:369)\n",
       "\tat org.apache.spark.sql.catalyst.rules.RuleExecutor.$anonfun$executeAndTrack$1(RuleExecutor.scala:262)\n",
       "\tat org.apache.spark.sql.catalyst.QueryPlanningTracker$.withTracker(QueryPlanningTracker.scala:182)\n",
       "\tat org.apache.spark.sql.catalyst.rules.RuleExecutor.executeAndTrack(RuleExecutor.scala:262)\n",
       "\tat org.apache.spark.sql.catalyst.analysis.Analyzer.$anonfun$executeAndCheck$1(Analyzer.scala:422)\n",
       "\tat org.apache.spark.sql.catalyst.plans.logical.AnalysisHelper$.markInAnalyzer(AnalysisHelper.scala:443)\n",
       "\tat org.apache.spark.sql.catalyst.analysis.Analyzer.executeAndCheck(Analyzer.scala:421)\n",
       "\tat org.apache.spark.sql.execution.QueryExecution.$anonfun$analyzed$1(QueryExecution.scala:262)\n",
       "\tat com.databricks.spark.util.FrameProfiler$.record(FrameProfiler.scala:94)\n",
       "\tat org.apache.spark.sql.catalyst.QueryPlanningTracker.measurePhase(QueryPlanningTracker.scala:458)\n",
       "\tat org.apache.spark.sql.execution.QueryExecution.$anonfun$executePhase$5(QueryExecution.scala:613)\n",
       "\tat org.apache.spark.sql.execution.SQLExecution$.withExecutionPhase(SQLExecution.scala:144)\n",
       "\tat org.apache.spark.sql.execution.QueryExecution.$anonfun$executePhase$4(QueryExecution.scala:613)\n",
       "\tat org.apache.spark.sql.execution.QueryExecution$.withInternalError(QueryExecution.scala:1179)\n",
       "\tat org.apache.spark.sql.execution.QueryExecution.$anonfun$executePhase$2(QueryExecution.scala:612)\n",
       "\tat com.databricks.util.LexicalThreadLocal$Handle.runWith(LexicalThreadLocal.scala:63)\n",
       "\tat org.apache.spark.sql.execution.QueryExecution.$anonfun$executePhase$1(QueryExecution.scala:608)\n",
       "\tat org.apache.spark.sql.SparkSession.withActive(SparkSession.scala:1180)\n",
       "\tat org.apache.spark.sql.execution.QueryExecution.executePhase(QueryExecution.scala:608)\n",
       "\tat org.apache.spark.sql.execution.QueryExecution.analyzed$lzycompute(QueryExecution.scala:256)\n",
       "\tat org.apache.spark.sql.execution.QueryExecution.analyzed(QueryExecution.scala:255)\n",
       "\tat org.apache.spark.sql.execution.QueryExecution.assertAnalyzed(QueryExecution.scala:237)\n",
       "\tat org.apache.spark.sql.Dataset$.$anonfun$ofRows$2(Dataset.scala:130)\n",
       "\tat org.apache.spark.sql.SparkSession.withActive(SparkSession.scala:1180)\n",
       "\tat org.apache.spark.sql.SparkSession.$anonfun$withActiveAndFrameProfiler$1(SparkSession.scala:1187)\n",
       "\tat com.databricks.spark.util.FrameProfiler$.record(FrameProfiler.scala:94)\n",
       "\tat org.apache.spark.sql.SparkSession.withActiveAndFrameProfiler(SparkSession.scala:1187)\n",
       "\tat org.apache.spark.sql.Dataset$.ofRows(Dataset.scala:122)\n",
       "\tat org.apache.spark.sql.SparkSession.$anonfun$sql$4(SparkSession.scala:959)\n",
       "\tat org.apache.spark.sql.SparkSession.withActive(SparkSession.scala:1180)\n",
       "\tat org.apache.spark.sql.SparkSession.sql(SparkSession.scala:947)\n",
       "\tat org.apache.spark.sql.SparkSession.sql(SparkSession.scala:982)\n",
       "\tat com.databricks.backend.daemon.driver.DriverLocal$DbClassicStrategy.executeSQLQuery(DriverLocal.scala:301)\n",
       "\tat com.databricks.backend.daemon.driver.DriverLocal.executeSQLSubCommand(DriverLocal.scala:401)\n",
       "\tat com.databricks.backend.daemon.driver.DriverLocal.$anonfun$executeSql$1(DriverLocal.scala:423)\n",
       "\tat scala.collection.immutable.List.map(List.scala:293)\n",
       "\tat com.databricks.backend.daemon.driver.DriverLocal.executeSql(DriverLocal.scala:418)\n",
       "\tat com.databricks.backend.daemon.driver.JupyterDriverLocal.repl(JupyterDriverLocal.scala:1054)\n",
       "\tat com.databricks.backend.daemon.driver.DriverLocal.$anonfun$execute$33(DriverLocal.scala:1172)\n",
       "\tat com.databricks.unity.UCSEphemeralState$Handle.runWith(UCSEphemeralState.scala:51)\n",
       "\tat com.databricks.unity.HandleImpl.runWith(UCSHandle.scala:104)\n",
       "\tat com.databricks.backend.daemon.driver.DriverLocal.$anonfun$execute$28(DriverLocal.scala:1163)\n",
       "\tat com.databricks.logging.AttributionContextTracing.$anonfun$withAttributionContext$1(AttributionContextTracing.scala:48)\n",
       "\tat com.databricks.logging.AttributionContext$.$anonfun$withValue$1(AttributionContext.scala:276)\n",
       "\tat scala.util.DynamicVariable.withValue(DynamicVariable.scala:62)\n",
       "\tat com.databricks.logging.AttributionContext$.withValue(AttributionContext.scala:272)\n",
       "\tat com.databricks.logging.AttributionContextTracing.withAttributionContext(AttributionContextTracing.scala:46)\n",
       "\tat com.databricks.logging.AttributionContextTracing.withAttributionContext$(AttributionContextTracing.scala:43)\n",
       "\tat com.databricks.backend.daemon.driver.DriverLocal.withAttributionContext(DriverLocal.scala:96)\n",
       "\tat com.databricks.logging.AttributionContextTracing.withAttributionTags(AttributionContextTracing.scala:95)\n",
       "\tat com.databricks.logging.AttributionContextTracing.withAttributionTags$(AttributionContextTracing.scala:76)\n",
       "\tat com.databricks.backend.daemon.driver.DriverLocal.withAttributionTags(DriverLocal.scala:96)\n",
       "\tat com.databricks.backend.daemon.driver.DriverLocal.$anonfun$execute$1(DriverLocal.scala:1099)\n",
       "\tat com.databricks.backend.daemon.driver.DriverLocal$.$anonfun$maybeSynchronizeExecution$4(DriverLocal.scala:1519)\n",
       "\tat com.databricks.backend.daemon.driver.DriverLocal.execute(DriverLocal.scala:776)\n",
       "\tat com.databricks.backend.daemon.driver.DriverWrapper.$anonfun$tryExecutingCommand$2(DriverWrapper.scala:932)\n",
       "\tat scala.util.Try$.apply(Try.scala:213)\n",
       "\tat com.databricks.backend.daemon.driver.DriverWrapper.$anonfun$tryExecutingCommand$1(DriverWrapper.scala:921)\n",
       "\tat com.databricks.backend.daemon.driver.DriverWrapper.$anonfun$tryExecutingCommand$3(DriverWrapper.scala:967)\n",
       "\tat com.databricks.logging.UsageLogging.executeThunkAndCaptureResultTags$1(UsageLogging.scala:633)\n",
       "\tat com.databricks.logging.UsageLogging.$anonfun$recordOperationWithResultTags$4(UsageLogging.scala:656)\n",
       "\tat com.databricks.logging.AttributionContextTracing.$anonfun$withAttributionContext$1(AttributionContextTracing.scala:48)\n",
       "\tat com.databricks.logging.AttributionContext$.$anonfun$withValue$1(AttributionContext.scala:276)\n",
       "\tat scala.util.DynamicVariable.withValue(DynamicVariable.scala:62)\n",
       "\tat com.databricks.logging.AttributionContext$.withValue(AttributionContext.scala:272)\n",
       "\tat com.databricks.logging.AttributionContextTracing.withAttributionContext(AttributionContextTracing.scala:46)\n",
       "\tat com.databricks.logging.AttributionContextTracing.withAttributionContext$(AttributionContextTracing.scala:43)\n",
       "\tat com.databricks.backend.daemon.driver.DriverWrapper.withAttributionContext(DriverWrapper.scala:73)\n",
       "\tat com.databricks.logging.AttributionContextTracing.withAttributionTags(AttributionContextTracing.scala:95)\n",
       "\tat com.databricks.logging.AttributionContextTracing.withAttributionTags$(AttributionContextTracing.scala:76)\n",
       "\tat com.databricks.backend.daemon.driver.DriverWrapper.withAttributionTags(DriverWrapper.scala:73)\n",
       "\tat com.databricks.logging.UsageLogging.recordOperationWithResultTags(UsageLogging.scala:628)\n",
       "\tat com.databricks.logging.UsageLogging.recordOperationWithResultTags$(UsageLogging.scala:537)\n",
       "\tat com.databricks.backend.daemon.driver.DriverWrapper.recordOperationWithResultTags(DriverWrapper.scala:73)\n",
       "\tat com.databricks.backend.daemon.driver.DriverWrapper.tryExecutingCommand(DriverWrapper.scala:967)\n",
       "\tat com.databricks.backend.daemon.driver.DriverWrapper.executeCommandAndGetError(DriverWrapper.scala:717)\n",
       "\tat com.databricks.backend.daemon.driver.DriverWrapper.executeCommand(DriverWrapper.scala:785)\n",
       "\tat com.databricks.backend.daemon.driver.DriverWrapper.$anonfun$runInnerLoop$1(DriverWrapper.scala:590)\n",
       "\tat scala.runtime.java8.JFunction0$mcV$sp.apply(JFunction0$mcV$sp.java:23)\n",
       "\tat com.databricks.logging.AttributionContextTracing.$anonfun$withAttributionContext$1(AttributionContextTracing.scala:48)\n",
       "\tat com.databricks.logging.AttributionContext$.$anonfun$withValue$1(AttributionContext.scala:276)\n",
       "\tat scala.util.DynamicVariable.withValue(DynamicVariable.scala:62)\n",
       "\tat com.databricks.logging.AttributionContext$.withValue(AttributionContext.scala:272)\n",
       "\tat com.databricks.logging.AttributionContextTracing.withAttributionContext(AttributionContextTracing.scala:46)\n",
       "\tat com.databricks.logging.AttributionContextTracing.withAttributionContext$(AttributionContextTracing.scala:43)\n",
       "\tat com.databricks.backend.daemon.driver.DriverWrapper.withAttributionContext(DriverWrapper.scala:73)\n",
       "\tat com.databricks.backend.daemon.driver.DriverWrapper.runInnerLoop(DriverWrapper.scala:590)\n",
       "\tat com.databricks.backend.daemon.driver.DriverWrapper.runInner(DriverWrapper.scala:512)\n",
       "\tat com.databricks.backend.daemon.driver.DriverWrapper.run(DriverWrapper.scala:306)\n",
       "\tat java.lang.Thread.run(Thread.java:750)\n",
       "Caused by: com.databricks.backend.daemon.data.common.InvalidMountException: Error while using path /Volumes/ext_catlog.ext_schema.myvolumetext/myvolumetext for creating file system within mount at '/Volumes/ext_catlog.ext_schema.myvolumetext/myvolumetext'.\n",
       "\tat com.databricks.backend.daemon.data.common.InvalidMountException$.apply(DataMessages.scala:765)\n",
       "\tat com.databricks.backend.daemon.data.filesystem.MountEntryResolver.createFileSystem(MountEntryResolver.scala:154)\n",
       "\tat com.databricks.backend.daemon.data.client.DBFSOnUCFileSystemResolverImpl.createFileSystemByMountEntryResolver(DBFSOnUCFileSystemResolverImpl.scala:229)\n",
       "\tat com.databricks.backend.daemon.data.client.DBFSOnUCFileSystemResolverImpl.createFileSystem(DBFSOnUCFileSystemResolverImpl.scala:205)\n",
       "\tat com.databricks.backend.daemon.data.client.DBFSOnUCFileSystemResolverImpl.resolveAndGetFileSystem(DBFSOnUCFileSystemResolverImpl.scala:195)\n",
       "\tat com.databricks.backend.daemon.data.client.DBFSV2.resolveAndGetFileSystem(DatabricksFileSystemV2.scala:145)\n",
       "\tat com.databricks.backend.daemon.data.client.DatabricksFileSystemV2.resolve(DatabricksFileSystemV2.scala:773)\n",
       "\tat com.databricks.backend.daemon.data.client.DatabricksFileSystemV2.$anonfun$getFileStatus$2(DatabricksFileSystemV2.scala:1186)\n",
       "\tat com.databricks.s3a.S3AExceptionUtils$.convertAWSExceptionToJavaIOException(DatabricksStreamUtils.scala:66)\n",
       "\tat com.databricks.backend.daemon.data.client.DatabricksFileSystemV2.$anonfun$getFileStatus$1(DatabricksFileSystemV2.scala:1185)\n",
       "\tat com.databricks.logging.UsageLogging.$anonfun$recordOperation$1(UsageLogging.scala:528)\n",
       "\tat com.databricks.logging.UsageLogging.executeThunkAndCaptureResultTags$1(UsageLogging.scala:633)\n",
       "\tat com.databricks.logging.UsageLogging.$anonfun$recordOperationWithResultTags$4(UsageLogging.scala:656)\n",
       "\tat com.databricks.logging.AttributionContextTracing.$anonfun$withAttributionContext$1(AttributionContextTracing.scala:48)\n",
       "\tat com.databricks.logging.AttributionContext$.$anonfun$withValue$1(AttributionContext.scala:276)\n",
       "\tat scala.util.DynamicVariable.withValue(DynamicVariable.scala:62)\n",
       "\tat com.databricks.logging.AttributionContext$.withValue(AttributionContext.scala:272)\n",
       "\tat com.databricks.logging.AttributionContextTracing.withAttributionContext(AttributionContextTracing.scala:46)\n",
       "\tat com.databricks.logging.AttributionContextTracing.withAttributionContext$(AttributionContextTracing.scala:43)\n",
       "\tat com.databricks.backend.daemon.data.client.DatabricksFileSystemV2.withAttributionContext(DatabricksFileSystemV2.scala:741)\n",
       "\tat com.databricks.logging.AttributionContextTracing.withAttributionTags(AttributionContextTracing.scala:95)\n",
       "\tat com.databricks.logging.AttributionContextTracing.withAttributionTags$(AttributionContextTracing.scala:76)\n",
       "\tat com.databricks.backend.daemon.data.client.DatabricksFileSystemV2.withAttributionTags(DatabricksFileSystemV2.scala:741)\n",
       "\tat com.databricks.logging.UsageLogging.recordOperationWithResultTags(UsageLogging.scala:628)\n",
       "\tat com.databricks.logging.UsageLogging.recordOperationWithResultTags$(UsageLogging.scala:537)\n",
       "\tat com.databricks.backend.daemon.data.client.DatabricksFileSystemV2.recordOperationWithResultTags(DatabricksFileSystemV2.scala:741)\n",
       "\tat com.databricks.logging.UsageLogging.recordOperation(UsageLogging.scala:529)\n",
       "\tat com.databricks.logging.UsageLogging.recordOperation$(UsageLogging.scala:495)\n",
       "\tat com.databricks.backend.daemon.data.client.DatabricksFileSystemV2.recordOperation(DatabricksFileSystemV2.scala:741)\n",
       "\tat com.databricks.backend.daemon.data.client.DatabricksFileSystemV2.getFileStatus(DatabricksFileSystemV2.scala:1184)\n",
       "\tat com.databricks.backend.daemon.data.client.DatabricksFileSystem.getFileStatus(DatabricksFileSystem.scala:216)\n",
       "\tat com.databricks.common.filesystem.LokiFileSystem.getFileStatus(LokiFileSystem.scala:314)\n",
       "\tat org.apache.spark.deploy.SparkHadoopUtil$.isDirectory(SparkHadoopUtil.scala:773)\n",
       "\tat org.apache.spark.sql.execution.streaming.FileStreamSink$.hasMetadata(FileStreamSink.scala:62)\n",
       "\tat org.apache.spark.sql.execution.datasources.DataSource.resolveRelation(DataSource.scala:418)\n",
       "\tat org.apache.spark.sql.execution.datasources.ResolveSQLOnFile$$anonfun$apply$1.applyOrElse(rules.scala:169)\n",
       "\t... 135 more\n",
       "Caused by: java.lang.IllegalArgumentException: Entry must be a full volume path\n",
       "\tat com.databricks.unity.volumes.UCVolumesFileSystemFactory.createFileSystem(UCVolumesFileSystemFactory.scala:38)\n",
       "\tat com.databricks.backend.daemon.data.client.DatabricksFileSystemV2Factory.createFileSystem(DatabricksFileSystemV2Factory.scala:163)\n",
       "\tat com.databricks.backend.daemon.data.filesystem.MountEntryResolver.getOrCreateFileSystem(MountEntryResolver.scala:97)\n",
       "\tat com.databricks.backend.daemon.data.filesystem.MountEntryResolver.createFileSystem(MountEntryResolver.scala:133)\n",
       "\t... 169 more\n"
      ]
     },
     "metadata": {
      "application/vnd.databricks.v1+output": {
       "addedWidgets": {},
       "arguments": {},
       "datasetInfos": [],
       "jupyterProps": null,
       "metadata": {
        "errorSummary": "[UNSUPPORTED_DATASOURCE_FOR_DIRECT_QUERY] Unsupported data source type for direct query on files: csv SQLSTATE: 0A000"
       },
       "removedWidgets": [],
       "sqlProps": {
        "errorClass": "UNSUPPORTED_DATASOURCE_FOR_DIRECT_QUERY",
        "pysparkCallSite": null,
        "pysparkFragment": null,
        "sqlState": "0A000",
        "stackTrace": null,
        "startIndex": 14,
        "stopIndex": 75
       },
       "stackFrames": [
        "org.apache.spark.sql.AnalysisException: [UNSUPPORTED_DATASOURCE_FOR_DIRECT_QUERY] Unsupported data source type for direct query on files: csv SQLSTATE: 0A000; line 1 pos 14\n\tat org.apache.spark.sql.catalyst.analysis.package$AnalysisErrorAt.failAnalysis(package.scala:69)\n\tat org.apache.spark.sql.execution.datasources.ResolveSQLOnFile$$anonfun$apply$1.applyOrElse(rules.scala:182)\n\tat org.apache.spark.sql.execution.datasources.ResolveSQLOnFile$$anonfun$apply$1.applyOrElse(rules.scala:103)\n\tat org.apache.spark.sql.catalyst.plans.logical.AnalysisHelper.$anonfun$resolveOperatorsDownWithPruning$2(AnalysisHelper.scala:219)\n\tat org.apache.spark.sql.catalyst.trees.CurrentOrigin$.withOrigin(origin.scala:85)\n\tat org.apache.spark.sql.catalyst.plans.logical.AnalysisHelper.$anonfun$resolveOperatorsDownWithPruning$1(AnalysisHelper.scala:219)\n\tat org.apache.spark.sql.catalyst.plans.logical.AnalysisHelper$.allowInvokingTransformsInAnalyzer(AnalysisHelper.scala:436)\n\tat org.apache.spark.sql.catalyst.plans.logical.AnalysisHelper.resolveOperatorsDownWithPruning(AnalysisHelper.scala:217)\n\tat org.apache.spark.sql.catalyst.plans.logical.AnalysisHelper.resolveOperatorsDownWithPruning$(AnalysisHelper.scala:213)\n\tat org.apache.spark.sql.catalyst.plans.logical.LogicalPlan.resolveOperatorsDownWithPruning(LogicalPlan.scala:40)\n\tat org.apache.spark.sql.catalyst.plans.logical.AnalysisHelper.$anonfun$resolveOperatorsDownWithPruning$4(AnalysisHelper.scala:224)\n\tat org.apache.spark.sql.catalyst.trees.UnaryLike.mapChildren(TreeNode.scala:1314)\n\tat org.apache.spark.sql.catalyst.trees.UnaryLike.mapChildren$(TreeNode.scala:1313)\n\tat org.apache.spark.sql.catalyst.plans.logical.Project.mapChildren(basicLogicalOperators.scala:87)\n\tat org.apache.spark.sql.catalyst.plans.logical.AnalysisHelper.$anonfun$resolveOperatorsDownWithPruning$1(AnalysisHelper.scala:224)\n\tat org.apache.spark.sql.catalyst.plans.logical.AnalysisHelper$.allowInvokingTransformsInAnalyzer(AnalysisHelper.scala:436)\n\tat org.apache.spark.sql.catalyst.plans.logical.AnalysisHelper.resolveOperatorsDownWithPruning(AnalysisHelper.scala:217)\n\tat org.apache.spark.sql.catalyst.plans.logical.AnalysisHelper.resolveOperatorsDownWithPruning$(AnalysisHelper.scala:213)\n\tat org.apache.spark.sql.catalyst.plans.logical.LogicalPlan.resolveOperatorsDownWithPruning(LogicalPlan.scala:40)\n\tat org.apache.spark.sql.catalyst.plans.logical.AnalysisHelper.resolveOperatorsWithPruning(AnalysisHelper.scala:102)\n\tat org.apache.spark.sql.catalyst.plans.logical.AnalysisHelper.resolveOperatorsWithPruning$(AnalysisHelper.scala:99)\n\tat org.apache.spark.sql.catalyst.plans.logical.LogicalPlan.resolveOperatorsWithPruning(LogicalPlan.scala:40)\n\tat org.apache.spark.sql.catalyst.plans.logical.AnalysisHelper.resolveOperators(AnalysisHelper.scala:79)\n\tat org.apache.spark.sql.catalyst.plans.logical.AnalysisHelper.resolveOperators$(AnalysisHelper.scala:78)\n\tat org.apache.spark.sql.catalyst.plans.logical.LogicalPlan.resolveOperators(LogicalPlan.scala:40)\n\tat org.apache.spark.sql.execution.datasources.ResolveSQLOnFile.apply(rules.scala:103)\n\tat org.apache.spark.sql.execution.datasources.ResolveSQLOnFile.apply(rules.scala:59)\n\tat org.apache.spark.sql.catalyst.rules.RuleExecutor.$anonfun$execute$4(RuleExecutor.scala:327)\n\tat com.databricks.spark.util.FrameProfiler$.record(FrameProfiler.scala:94)\n\tat org.apache.spark.sql.catalyst.rules.RuleExecutor.$anonfun$execute$3(RuleExecutor.scala:327)\n\tat scala.collection.LinearSeqOptimized.foldLeft(LinearSeqOptimized.scala:126)\n\tat scala.collection.LinearSeqOptimized.foldLeft$(LinearSeqOptimized.scala:122)\n\tat scala.collection.immutable.List.foldLeft(List.scala:91)\n\tat org.apache.spark.sql.catalyst.rules.RuleExecutor.$anonfun$execute$2(RuleExecutor.scala:324)\n\tat scala.runtime.java8.JFunction0$mcV$sp.apply(JFunction0$mcV$sp.java:23)\n\tat com.databricks.spark.util.FrameProfiler$.record(FrameProfiler.scala:94)\n\tat org.apache.spark.sql.catalyst.rules.RuleExecutor.executeBatch$1(RuleExecutor.scala:307)\n\tat org.apache.spark.sql.catalyst.rules.RuleExecutor.$anonfun$execute$9(RuleExecutor.scala:411)\n\tat org.apache.spark.sql.catalyst.rules.RuleExecutor.$anonfun$execute$9$adapted(RuleExecutor.scala:411)\n\tat scala.collection.immutable.List.foreach(List.scala:431)\n\tat org.apache.spark.sql.catalyst.rules.RuleExecutor.$anonfun$execute$1(RuleExecutor.scala:411)\n\tat com.databricks.spark.util.FrameProfiler$.record(FrameProfiler.scala:94)\n\tat org.apache.spark.sql.catalyst.rules.RuleExecutor.execute(RuleExecutor.scala:270)\n\tat org.apache.spark.sql.catalyst.analysis.Analyzer.executeSameContext(Analyzer.scala:444)\n\tat org.apache.spark.sql.catalyst.analysis.Analyzer.$anonfun$execute$1(Analyzer.scala:437)\n\tat org.apache.spark.sql.catalyst.analysis.AnalysisContext$.withNewAnalysisContext(Analyzer.scala:350)\n\tat org.apache.spark.sql.catalyst.analysis.Analyzer.execute(Analyzer.scala:437)\n\tat org.apache.spark.sql.catalyst.analysis.Analyzer.execute(Analyzer.scala:369)\n\tat org.apache.spark.sql.catalyst.rules.RuleExecutor.$anonfun$executeAndTrack$1(RuleExecutor.scala:262)\n\tat org.apache.spark.sql.catalyst.QueryPlanningTracker$.withTracker(QueryPlanningTracker.scala:182)\n\tat org.apache.spark.sql.catalyst.rules.RuleExecutor.executeAndTrack(RuleExecutor.scala:262)\n\tat org.apache.spark.sql.catalyst.analysis.Analyzer.$anonfun$executeAndCheck$1(Analyzer.scala:422)\n\tat org.apache.spark.sql.catalyst.plans.logical.AnalysisHelper$.markInAnalyzer(AnalysisHelper.scala:443)\n\tat org.apache.spark.sql.catalyst.analysis.Analyzer.executeAndCheck(Analyzer.scala:421)\n\tat org.apache.spark.sql.execution.QueryExecution.$anonfun$analyzed$1(QueryExecution.scala:262)\n\tat com.databricks.spark.util.FrameProfiler$.record(FrameProfiler.scala:94)\n\tat org.apache.spark.sql.catalyst.QueryPlanningTracker.measurePhase(QueryPlanningTracker.scala:458)\n\tat org.apache.spark.sql.execution.QueryExecution.$anonfun$executePhase$5(QueryExecution.scala:613)\n\tat org.apache.spark.sql.execution.SQLExecution$.withExecutionPhase(SQLExecution.scala:144)\n\tat org.apache.spark.sql.execution.QueryExecution.$anonfun$executePhase$4(QueryExecution.scala:613)\n\tat org.apache.spark.sql.execution.QueryExecution$.withInternalError(QueryExecution.scala:1179)\n\tat org.apache.spark.sql.execution.QueryExecution.$anonfun$executePhase$2(QueryExecution.scala:612)\n\tat com.databricks.util.LexicalThreadLocal$Handle.runWith(LexicalThreadLocal.scala:63)\n\tat org.apache.spark.sql.execution.QueryExecution.$anonfun$executePhase$1(QueryExecution.scala:608)\n\tat org.apache.spark.sql.SparkSession.withActive(SparkSession.scala:1180)\n\tat org.apache.spark.sql.execution.QueryExecution.executePhase(QueryExecution.scala:608)\n\tat org.apache.spark.sql.execution.QueryExecution.analyzed$lzycompute(QueryExecution.scala:256)\n\tat org.apache.spark.sql.execution.QueryExecution.analyzed(QueryExecution.scala:255)\n\tat org.apache.spark.sql.execution.QueryExecution.assertAnalyzed(QueryExecution.scala:237)\n\tat org.apache.spark.sql.Dataset$.$anonfun$ofRows$2(Dataset.scala:130)\n\tat org.apache.spark.sql.SparkSession.withActive(SparkSession.scala:1180)\n\tat org.apache.spark.sql.SparkSession.$anonfun$withActiveAndFrameProfiler$1(SparkSession.scala:1187)\n\tat com.databricks.spark.util.FrameProfiler$.record(FrameProfiler.scala:94)\n\tat org.apache.spark.sql.SparkSession.withActiveAndFrameProfiler(SparkSession.scala:1187)\n\tat org.apache.spark.sql.Dataset$.ofRows(Dataset.scala:122)\n\tat org.apache.spark.sql.SparkSession.$anonfun$sql$4(SparkSession.scala:959)\n\tat org.apache.spark.sql.SparkSession.withActive(SparkSession.scala:1180)\n\tat org.apache.spark.sql.SparkSession.sql(SparkSession.scala:947)\n\tat org.apache.spark.sql.SparkSession.sql(SparkSession.scala:982)\n\tat com.databricks.backend.daemon.driver.DriverLocal$DbClassicStrategy.executeSQLQuery(DriverLocal.scala:301)\n\tat com.databricks.backend.daemon.driver.DriverLocal.executeSQLSubCommand(DriverLocal.scala:401)\n\tat com.databricks.backend.daemon.driver.DriverLocal.$anonfun$executeSql$1(DriverLocal.scala:423)\n\tat scala.collection.immutable.List.map(List.scala:293)\n\tat com.databricks.backend.daemon.driver.DriverLocal.executeSql(DriverLocal.scala:418)\n\tat com.databricks.backend.daemon.driver.JupyterDriverLocal.repl(JupyterDriverLocal.scala:1054)\n\tat com.databricks.backend.daemon.driver.DriverLocal.$anonfun$execute$33(DriverLocal.scala:1172)\n\tat com.databricks.unity.UCSEphemeralState$Handle.runWith(UCSEphemeralState.scala:51)\n\tat com.databricks.unity.HandleImpl.runWith(UCSHandle.scala:104)\n\tat com.databricks.backend.daemon.driver.DriverLocal.$anonfun$execute$28(DriverLocal.scala:1163)\n\tat com.databricks.logging.AttributionContextTracing.$anonfun$withAttributionContext$1(AttributionContextTracing.scala:48)\n\tat com.databricks.logging.AttributionContext$.$anonfun$withValue$1(AttributionContext.scala:276)\n\tat scala.util.DynamicVariable.withValue(DynamicVariable.scala:62)\n\tat com.databricks.logging.AttributionContext$.withValue(AttributionContext.scala:272)\n\tat com.databricks.logging.AttributionContextTracing.withAttributionContext(AttributionContextTracing.scala:46)\n\tat com.databricks.logging.AttributionContextTracing.withAttributionContext$(AttributionContextTracing.scala:43)\n\tat com.databricks.backend.daemon.driver.DriverLocal.withAttributionContext(DriverLocal.scala:96)\n\tat com.databricks.logging.AttributionContextTracing.withAttributionTags(AttributionContextTracing.scala:95)\n\tat com.databricks.logging.AttributionContextTracing.withAttributionTags$(AttributionContextTracing.scala:76)\n\tat com.databricks.backend.daemon.driver.DriverLocal.withAttributionTags(DriverLocal.scala:96)\n\tat com.databricks.backend.daemon.driver.DriverLocal.$anonfun$execute$1(DriverLocal.scala:1099)\n\tat com.databricks.backend.daemon.driver.DriverLocal$.$anonfun$maybeSynchronizeExecution$4(DriverLocal.scala:1519)\n\tat com.databricks.backend.daemon.driver.DriverLocal.execute(DriverLocal.scala:776)\n\tat com.databricks.backend.daemon.driver.DriverWrapper.$anonfun$tryExecutingCommand$2(DriverWrapper.scala:932)\n\tat scala.util.Try$.apply(Try.scala:213)\n\tat com.databricks.backend.daemon.driver.DriverWrapper.$anonfun$tryExecutingCommand$1(DriverWrapper.scala:921)\n\tat com.databricks.backend.daemon.driver.DriverWrapper.$anonfun$tryExecutingCommand$3(DriverWrapper.scala:967)\n\tat com.databricks.logging.UsageLogging.executeThunkAndCaptureResultTags$1(UsageLogging.scala:633)\n\tat com.databricks.logging.UsageLogging.$anonfun$recordOperationWithResultTags$4(UsageLogging.scala:656)\n\tat com.databricks.logging.AttributionContextTracing.$anonfun$withAttributionContext$1(AttributionContextTracing.scala:48)\n\tat com.databricks.logging.AttributionContext$.$anonfun$withValue$1(AttributionContext.scala:276)\n\tat scala.util.DynamicVariable.withValue(DynamicVariable.scala:62)\n\tat com.databricks.logging.AttributionContext$.withValue(AttributionContext.scala:272)\n\tat com.databricks.logging.AttributionContextTracing.withAttributionContext(AttributionContextTracing.scala:46)\n\tat com.databricks.logging.AttributionContextTracing.withAttributionContext$(AttributionContextTracing.scala:43)\n\tat com.databricks.backend.daemon.driver.DriverWrapper.withAttributionContext(DriverWrapper.scala:73)\n\tat com.databricks.logging.AttributionContextTracing.withAttributionTags(AttributionContextTracing.scala:95)\n\tat com.databricks.logging.AttributionContextTracing.withAttributionTags$(AttributionContextTracing.scala:76)\n\tat com.databricks.backend.daemon.driver.DriverWrapper.withAttributionTags(DriverWrapper.scala:73)\n\tat com.databricks.logging.UsageLogging.recordOperationWithResultTags(UsageLogging.scala:628)\n\tat com.databricks.logging.UsageLogging.recordOperationWithResultTags$(UsageLogging.scala:537)\n\tat com.databricks.backend.daemon.driver.DriverWrapper.recordOperationWithResultTags(DriverWrapper.scala:73)\n\tat com.databricks.backend.daemon.driver.DriverWrapper.tryExecutingCommand(DriverWrapper.scala:967)\n\tat com.databricks.backend.daemon.driver.DriverWrapper.executeCommandAndGetError(DriverWrapper.scala:717)\n\tat com.databricks.backend.daemon.driver.DriverWrapper.executeCommand(DriverWrapper.scala:785)\n\tat com.databricks.backend.daemon.driver.DriverWrapper.$anonfun$runInnerLoop$1(DriverWrapper.scala:590)\n\tat scala.runtime.java8.JFunction0$mcV$sp.apply(JFunction0$mcV$sp.java:23)\n\tat com.databricks.logging.AttributionContextTracing.$anonfun$withAttributionContext$1(AttributionContextTracing.scala:48)\n\tat com.databricks.logging.AttributionContext$.$anonfun$withValue$1(AttributionContext.scala:276)\n\tat scala.util.DynamicVariable.withValue(DynamicVariable.scala:62)\n\tat com.databricks.logging.AttributionContext$.withValue(AttributionContext.scala:272)\n\tat com.databricks.logging.AttributionContextTracing.withAttributionContext(AttributionContextTracing.scala:46)\n\tat com.databricks.logging.AttributionContextTracing.withAttributionContext$(AttributionContextTracing.scala:43)\n\tat com.databricks.backend.daemon.driver.DriverWrapper.withAttributionContext(DriverWrapper.scala:73)\n\tat com.databricks.backend.daemon.driver.DriverWrapper.runInnerLoop(DriverWrapper.scala:590)\n\tat com.databricks.backend.daemon.driver.DriverWrapper.runInner(DriverWrapper.scala:512)\n\tat com.databricks.backend.daemon.driver.DriverWrapper.run(DriverWrapper.scala:306)\n\tat java.lang.Thread.run(Thread.java:750)\nCaused by: com.databricks.backend.daemon.data.common.InvalidMountException: Error while using path /Volumes/ext_catlog.ext_schema.myvolumetext/myvolumetext for creating file system within mount at '/Volumes/ext_catlog.ext_schema.myvolumetext/myvolumetext'.\n\tat com.databricks.backend.daemon.data.common.InvalidMountException$.apply(DataMessages.scala:765)\n\tat com.databricks.backend.daemon.data.filesystem.MountEntryResolver.createFileSystem(MountEntryResolver.scala:154)\n\tat com.databricks.backend.daemon.data.client.DBFSOnUCFileSystemResolverImpl.createFileSystemByMountEntryResolver(DBFSOnUCFileSystemResolverImpl.scala:229)\n\tat com.databricks.backend.daemon.data.client.DBFSOnUCFileSystemResolverImpl.createFileSystem(DBFSOnUCFileSystemResolverImpl.scala:205)\n\tat com.databricks.backend.daemon.data.client.DBFSOnUCFileSystemResolverImpl.resolveAndGetFileSystem(DBFSOnUCFileSystemResolverImpl.scala:195)\n\tat com.databricks.backend.daemon.data.client.DBFSV2.resolveAndGetFileSystem(DatabricksFileSystemV2.scala:145)\n\tat com.databricks.backend.daemon.data.client.DatabricksFileSystemV2.resolve(DatabricksFileSystemV2.scala:773)\n\tat com.databricks.backend.daemon.data.client.DatabricksFileSystemV2.$anonfun$getFileStatus$2(DatabricksFileSystemV2.scala:1186)\n\tat com.databricks.s3a.S3AExceptionUtils$.convertAWSExceptionToJavaIOException(DatabricksStreamUtils.scala:66)\n\tat com.databricks.backend.daemon.data.client.DatabricksFileSystemV2.$anonfun$getFileStatus$1(DatabricksFileSystemV2.scala:1185)\n\tat com.databricks.logging.UsageLogging.$anonfun$recordOperation$1(UsageLogging.scala:528)\n\tat com.databricks.logging.UsageLogging.executeThunkAndCaptureResultTags$1(UsageLogging.scala:633)\n\tat com.databricks.logging.UsageLogging.$anonfun$recordOperationWithResultTags$4(UsageLogging.scala:656)\n\tat com.databricks.logging.AttributionContextTracing.$anonfun$withAttributionContext$1(AttributionContextTracing.scala:48)\n\tat com.databricks.logging.AttributionContext$.$anonfun$withValue$1(AttributionContext.scala:276)\n\tat scala.util.DynamicVariable.withValue(DynamicVariable.scala:62)\n\tat com.databricks.logging.AttributionContext$.withValue(AttributionContext.scala:272)\n\tat com.databricks.logging.AttributionContextTracing.withAttributionContext(AttributionContextTracing.scala:46)\n\tat com.databricks.logging.AttributionContextTracing.withAttributionContext$(AttributionContextTracing.scala:43)\n\tat com.databricks.backend.daemon.data.client.DatabricksFileSystemV2.withAttributionContext(DatabricksFileSystemV2.scala:741)\n\tat com.databricks.logging.AttributionContextTracing.withAttributionTags(AttributionContextTracing.scala:95)\n\tat com.databricks.logging.AttributionContextTracing.withAttributionTags$(AttributionContextTracing.scala:76)\n\tat com.databricks.backend.daemon.data.client.DatabricksFileSystemV2.withAttributionTags(DatabricksFileSystemV2.scala:741)\n\tat com.databricks.logging.UsageLogging.recordOperationWithResultTags(UsageLogging.scala:628)\n\tat com.databricks.logging.UsageLogging.recordOperationWithResultTags$(UsageLogging.scala:537)\n\tat com.databricks.backend.daemon.data.client.DatabricksFileSystemV2.recordOperationWithResultTags(DatabricksFileSystemV2.scala:741)\n\tat com.databricks.logging.UsageLogging.recordOperation(UsageLogging.scala:529)\n\tat com.databricks.logging.UsageLogging.recordOperation$(UsageLogging.scala:495)\n\tat com.databricks.backend.daemon.data.client.DatabricksFileSystemV2.recordOperation(DatabricksFileSystemV2.scala:741)\n\tat com.databricks.backend.daemon.data.client.DatabricksFileSystemV2.getFileStatus(DatabricksFileSystemV2.scala:1184)\n\tat com.databricks.backend.daemon.data.client.DatabricksFileSystem.getFileStatus(DatabricksFileSystem.scala:216)\n\tat com.databricks.common.filesystem.LokiFileSystem.getFileStatus(LokiFileSystem.scala:314)\n\tat org.apache.spark.deploy.SparkHadoopUtil$.isDirectory(SparkHadoopUtil.scala:773)\n\tat org.apache.spark.sql.execution.streaming.FileStreamSink$.hasMetadata(FileStreamSink.scala:62)\n\tat org.apache.spark.sql.execution.datasources.DataSource.resolveRelation(DataSource.scala:418)\n\tat org.apache.spark.sql.execution.datasources.ResolveSQLOnFile$$anonfun$apply$1.applyOrElse(rules.scala:169)\n\t... 135 more\nCaused by: java.lang.IllegalArgumentException: Entry must be a full volume path\n\tat com.databricks.unity.volumes.UCVolumesFileSystemFactory.createFileSystem(UCVolumesFileSystemFactory.scala:38)\n\tat com.databricks.backend.daemon.data.client.DatabricksFileSystemV2Factory.createFileSystem(DatabricksFileSystemV2Factory.scala:163)\n\tat com.databricks.backend.daemon.data.filesystem.MountEntryResolver.getOrCreateFileSystem(MountEntryResolver.scala:97)\n\tat com.databricks.backend.daemon.data.filesystem.MountEntryResolver.createFileSystem(MountEntryResolver.scala:133)\n\t... 169 more\n"
       ],
       "type": "baseError"
      }
     },
     "output_type": "display_data"
    }
   ],
   "source": [
    "%sql\n",
    "select * from csv.`/Volumes/ext_catlog.ext_schema.myvolumetext/myvolumetext`"
   ]
  },
  {
   "cell_type": "code",
   "execution_count": 0,
   "metadata": {
    "application/vnd.databricks.v1+cell": {
     "cellMetadata": {
      "byteLimit": 2048000,
      "rowLimit": 10000
     },
     "inputWidgets": {},
     "nuid": "06503e4d-8417-43c4-aa8e-a673d98be12c",
     "showTitle": false,
     "tableResultSettingsMap": {},
     "title": ""
    }
   },
   "outputs": [
    {
     "output_type": "execute_result",
     "data": {
      "text/plain": [
       "[FileInfo(path='abfss://mycontainer@storagemoderns.dfs.core.windows.net/ext_tbl/', name='ext_tbl/', size=0, modificationTime=1736638699000),\n",
       " FileInfo(path='abfss://mycontainer@storagemoderns.dfs.core.windows.net/ext_tbl2/', name='ext_tbl2/', size=0, modificationTime=1736638860000),\n",
       " FileInfo(path='abfss://mycontainer@storagemoderns.dfs.core.windows.net/external_catalog/', name='external_catalog/', size=0, modificationTime=1736637355000),\n",
       " FileInfo(path='abfss://mycontainer@storagemoderns.dfs.core.windows.net/external_schema/', name='external_schema/', size=0, modificationTime=1736637990000),\n",
       " FileInfo(path='abfss://mycontainer@storagemoderns.dfs.core.windows.net/saledata/', name='saledata/', size=0, modificationTime=1736638996000),\n",
       " FileInfo(path='abfss://mycontainer@storagemoderns.dfs.core.windows.net/volumes/', name='volumes/', size=0, modificationTime=1736641871000)]"
      ]
     },
     "execution_count": 12,
     "metadata": {},
     "output_type": "execute_result"
    }
   ],
   "source": [
    "dbutils.fs.ls('abfss://mycontainer@storagemoderns.dfs.core.windows.net/')"
   ]
  },
  {
   "cell_type": "code",
   "execution_count": 0,
   "metadata": {
    "application/vnd.databricks.v1+cell": {
     "cellMetadata": {
      "byteLimit": 2048000,
      "rowLimit": 10000
     },
     "inputWidgets": {},
     "nuid": "7806c5d5-2854-4793-bcce-bff0ac1c4b70",
     "showTitle": false,
     "tableResultSettingsMap": {},
     "title": ""
    }
   },
   "outputs": [
    {
     "output_type": "execute_result",
     "data": {
      "text/plain": [
       "True"
      ]
     },
     "execution_count": 27,
     "metadata": {},
     "output_type": "execute_result"
    }
   ],
   "source": [
    "dbutils.fs.cp('abfss://mycontainer@storagemoderns.dfs.core.windows.net/source/Products.csv', 'abfss://mycontainer@storagemoderns.dfs.core.windows.net/volumes/Products.csv')"
   ]
  },
  {
   "cell_type": "code",
   "execution_count": 0,
   "metadata": {
    "application/vnd.databricks.v1+cell": {
     "cellMetadata": {
      "byteLimit": 2048000,
      "implicitDf": true,
      "rowLimit": 10000
     },
     "inputWidgets": {},
     "nuid": "4d826559-6093-47e9-a85f-9b6be075aa75",
     "showTitle": false,
     "tableResultSettingsMap": {},
     "title": ""
    }
   },
   "outputs": [
    {
     "output_type": "display_data",
     "data": {
      "text/html": [
       "<style scoped>\n",
       "  .table-result-container {\n",
       "    max-height: 300px;\n",
       "    overflow: auto;\n",
       "  }\n",
       "  table, th, td {\n",
       "    border: 1px solid black;\n",
       "    border-collapse: collapse;\n",
       "  }\n",
       "  th, td {\n",
       "    padding: 5px;\n",
       "  }\n",
       "  th {\n",
       "    text-align: left;\n",
       "  }\n",
       "</style><div class='table-result-container'><table class='table-result'><thead style='background-color: white'><tr><th>_c0</th><th>_c1</th><th>_c2</th><th>_c3</th><th>_c4</th><th>_c5</th><th>_c6</th><th>_c7</th><th>_c8</th><th>_c9</th><th>_c10</th></tr></thead><tbody><tr><td>ProductKey</td><td>ProductSubcategoryKey</td><td>ProductSKU</td><td>ProductName</td><td>ModelName</td><td>ProductDescription</td><td>ProductColor</td><td>ProductSize</td><td>ProductStyle</td><td>ProductCost</td><td>ProductPrice</td></tr><tr><td>214</td><td>31</td><td>HL-U509-R</td><td>Sport-100 Helmet, Red</td><td>Sport-100</td><td>Universal fit, well-vented, lightweight , snap-on visor.</td><td>Red</td><td>0</td><td>0</td><td>13.0863</td><td>34.99</td></tr><tr><td>215</td><td>31</td><td>HL-U509</td><td>Sport-100 Helmet, Black</td><td>Sport-100</td><td>Universal fit, well-vented, lightweight , snap-on visor.</td><td>Black</td><td>0</td><td>0</td><td>12.0278</td><td>33.6442</td></tr><tr><td>218</td><td>23</td><td>SO-B909-M</td><td>Mountain Bike Socks, M</td><td>Mountain Bike Socks</td><td>Combination of natural and synthetic fibers stays dry and provides just the right cushioning.</td><td>White</td><td>M</td><td>U</td><td>3.3963</td><td>9.5</td></tr><tr><td>219</td><td>23</td><td>SO-B909-L</td><td>Mountain Bike Socks, L</td><td>Mountain Bike Socks</td><td>Combination of natural and synthetic fibers stays dry and provides just the right cushioning.</td><td>White</td><td>L</td><td>U</td><td>3.3963</td><td>9.5</td></tr><tr><td>220</td><td>31</td><td>HL-U509-B</td><td>Sport-100 Helmet, Blue</td><td>Sport-100</td><td>Universal fit, well-vented, lightweight , snap-on visor.</td><td>Blue</td><td>0</td><td>0</td><td>12.0278</td><td>33.6442</td></tr><tr><td>223</td><td>19</td><td>CA-1098</td><td>AWC Logo Cap</td><td>Cycling Cap</td><td>Traditional style with a flip-up brim; one-size fits all.</td><td>Multi</td><td>0</td><td>U</td><td>5.7052</td><td>8.6442</td></tr><tr><td>226</td><td>21</td><td>LJ-0192-S</td><td>Long-Sleeve Logo Jersey, S</td><td>Long-Sleeve Logo Jersey</td><td>Unisex long-sleeve AWC logo microfiber cycling jersey</td><td>Multi</td><td>S</td><td>U</td><td>31.7244</td><td>48.0673</td></tr><tr><td>229</td><td>21</td><td>LJ-0192-M</td><td>Long-Sleeve Logo Jersey, M</td><td>Long-Sleeve Logo Jersey</td><td>Unisex long-sleeve AWC logo microfiber cycling jersey</td><td>Multi</td><td>M</td><td>U</td><td>31.7244</td><td>48.0673</td></tr><tr><td>232</td><td>21</td><td>LJ-0192-L</td><td>Long-Sleeve Logo Jersey, L</td><td>Long-Sleeve Logo Jersey</td><td>Unisex long-sleeve AWC logo microfiber cycling jersey</td><td>Multi</td><td>L</td><td>U</td><td>31.7244</td><td>48.0673</td></tr><tr><td>235</td><td>21</td><td>LJ-0192-X</td><td>Long-Sleeve Logo Jersey, XL</td><td>Long-Sleeve Logo Jersey</td><td>Unisex long-sleeve AWC logo microfiber cycling jersey</td><td>Multi</td><td>XL</td><td>U</td><td>31.7244</td><td>48.0673</td></tr><tr><td>238</td><td>14</td><td>FR-R92R-62</td><td>HL Road Frame - Red, 62</td><td>HL Road Frame</td><td>Our lightest and best quality aluminum frame made from the newest alloy; it is welded and heat-treated for strength. Our innovative design results in maximum comfort and performance.</td><td>Red</td><td>62</td><td>U</td><td>747.9682</td><td>1263.4598</td></tr><tr><td>241</td><td>14</td><td>FR-R92R-44</td><td>HL Road Frame - Red, 44</td><td>HL Road Frame</td><td>Our lightest and best quality aluminum frame made from the newest alloy; it is welded and heat-treated for strength. Our innovative design results in maximum comfort and performance.</td><td>Red</td><td>44</td><td>U</td><td>747.9682</td><td>1263.4598</td></tr><tr><td>244</td><td>14</td><td>FR-R92R-48</td><td>HL Road Frame - Red, 48</td><td>HL Road Frame</td><td>Our lightest and best quality aluminum frame made from the newest alloy; it is welded and heat-treated for strength. Our innovative design results in maximum comfort and performance.</td><td>Red</td><td>48</td><td>U</td><td>747.9682</td><td>1263.4598</td></tr><tr><td>247</td><td>14</td><td>FR-R92R-52</td><td>HL Road Frame - Red, 52</td><td>HL Road Frame</td><td>Our lightest and best quality aluminum frame made from the newest alloy; it is welded and heat-treated for strength. Our innovative design results in maximum comfort and performance.</td><td>Red</td><td>52</td><td>U</td><td>747.9682</td><td>1263.4598</td></tr><tr><td>250</td><td>14</td><td>FR-R92R-56</td><td>HL Road Frame - Red, 56</td><td>HL Road Frame</td><td>Our lightest and best quality aluminum frame made from the newest alloy; it is welded and heat-treated for strength. Our innovative design results in maximum comfort and performance.</td><td>Red</td><td>56</td><td>U</td><td>747.9682</td><td>1263.4598</td></tr><tr><td>253</td><td>14</td><td>FR-R38B-58</td><td>LL Road Frame - Black, 58</td><td>LL Road Frame</td><td>The LL Frame provides a safe comfortable ride, while offering superior bump absorption in a value-priced aluminum frame.</td><td>Black</td><td>58</td><td>U</td><td>176.1997</td><td>297.6346</td></tr><tr><td>256</td><td>14</td><td>FR-R38B-60</td><td>LL Road Frame - Black, 60</td><td>LL Road Frame</td><td>The LL Frame provides a safe comfortable ride, while offering superior bump absorption in a value-priced aluminum frame.</td><td>Black</td><td>60</td><td>U</td><td>176.1997</td><td>297.6346</td></tr><tr><td>259</td><td>14</td><td>FR-R38B-62</td><td>LL Road Frame - Black, 62</td><td>LL Road Frame</td><td>The LL Frame provides a safe comfortable ride, while offering superior bump absorption in a value-priced aluminum frame.</td><td>Black</td><td>62</td><td>U</td><td>176.1997</td><td>297.6346</td></tr><tr><td>262</td><td>14</td><td>FR-R38R-44</td><td>LL Road Frame - Red, 44</td><td>LL Road Frame</td><td>The LL Frame provides a safe comfortable ride, while offering superior bump absorption in a value-priced aluminum frame.</td><td>Red</td><td>44</td><td>U</td><td>181.4857</td><td>306.5636</td></tr><tr><td>264</td><td>14</td><td>FR-R38R-48</td><td>LL Road Frame - Red, 48</td><td>LL Road Frame</td><td>The LL Frame provides a safe comfortable ride, while offering superior bump absorption in a value-priced aluminum frame.</td><td>Red</td><td>48</td><td>U</td><td>181.4857</td><td>306.5636</td></tr><tr><td>266</td><td>14</td><td>FR-R38R-52</td><td>LL Road Frame - Red, 52</td><td>LL Road Frame</td><td>The LL Frame provides a safe comfortable ride, while offering superior bump absorption in a value-priced aluminum frame.</td><td>Red</td><td>52</td><td>U</td><td>181.4857</td><td>306.5636</td></tr><tr><td>268</td><td>14</td><td>FR-R38R-58</td><td>LL Road Frame - Red, 58</td><td>LL Road Frame</td><td>The LL Frame provides a safe comfortable ride, while offering superior bump absorption in a value-priced aluminum frame.</td><td>Red</td><td>58</td><td>U</td><td>181.4857</td><td>306.5636</td></tr><tr><td>270</td><td>14</td><td>FR-R38R-60</td><td>LL Road Frame - Red, 60</td><td>LL Road Frame</td><td>The LL Frame provides a safe comfortable ride, while offering superior bump absorption in a value-priced aluminum frame.</td><td>Red</td><td>60</td><td>U</td><td>181.4857</td><td>306.5636</td></tr><tr><td>272</td><td>14</td><td>FR-R38R-62</td><td>LL Road Frame - Red, 62</td><td>LL Road Frame</td><td>The LL Frame provides a safe comfortable ride, while offering superior bump absorption in a value-priced aluminum frame.</td><td>Red</td><td>62</td><td>U</td><td>181.4857</td><td>306.5636</td></tr><tr><td>274</td><td>14</td><td>FR-R72R-44</td><td>ML Road Frame - Red, 44</td><td>ML Road Frame</td><td>Made from the same aluminum alloy as our top-of-the line HL frame, the ML features a lightweight down-tube milled to the perfect diameter for optimal strength. Men's version.</td><td>Red</td><td>44</td><td>U</td><td>352.1394</td><td>594.83</td></tr><tr><td>275</td><td>14</td><td>FR-R72R-48</td><td>ML Road Frame - Red, 48</td><td>ML Road Frame</td><td>Made from the same aluminum alloy as our top-of-the line HL frame, the ML features a lightweight down-tube milled to the perfect diameter for optimal strength. Men's version.</td><td>Red</td><td>48</td><td>U</td><td>352.1394</td><td>594.83</td></tr><tr><td>276</td><td>14</td><td>FR-R72R-52</td><td>ML Road Frame - Red, 52</td><td>ML Road Frame</td><td>Made from the same aluminum alloy as our top-of-the line HL frame, the ML features a lightweight down-tube milled to the perfect diameter for optimal strength. Men's version.</td><td>Red</td><td>52</td><td>U</td><td>352.1394</td><td>594.83</td></tr><tr><td>277</td><td>14</td><td>FR-R72R-58</td><td>ML Road Frame - Red, 58</td><td>ML Road Frame</td><td>Made from the same aluminum alloy as our top-of-the line HL frame, the ML features a lightweight down-tube milled to the perfect diameter for optimal strength. Men's version.</td><td>Red</td><td>58</td><td>U</td><td>352.1394</td><td>594.83</td></tr><tr><td>278</td><td>14</td><td>FR-R72R-60</td><td>ML Road Frame - Red, 60</td><td>ML Road Frame</td><td>Made from the same aluminum alloy as our top-of-the line HL frame, the ML features a lightweight down-tube milled to the perfect diameter for optimal strength. Men's version.</td><td>Red</td><td>60</td><td>U</td><td>352.1394</td><td>594.83</td></tr><tr><td>279</td><td>14</td><td>FR-R38B-44</td><td>LL Road Frame - Black, 44</td><td>LL Road Frame</td><td>The LL Frame provides a safe comfortable ride, while offering superior bump absorption in a value-priced aluminum frame.</td><td>Black</td><td>44</td><td>U</td><td>176.1997</td><td>297.6346</td></tr><tr><td>282</td><td>14</td><td>FR-R38B-48</td><td>LL Road Frame - Black, 48</td><td>LL Road Frame</td><td>The LL Frame provides a safe comfortable ride, while offering superior bump absorption in a value-priced aluminum frame.</td><td>Black</td><td>48</td><td>U</td><td>176.1997</td><td>297.6346</td></tr><tr><td>285</td><td>14</td><td>FR-R38B-52</td><td>LL Road Frame - Black, 52</td><td>LL Road Frame</td><td>The LL Frame provides a safe comfortable ride, while offering superior bump absorption in a value-priced aluminum frame.</td><td>Black</td><td>52</td><td>U</td><td>176.1997</td><td>297.6346</td></tr><tr><td>288</td><td>12</td><td>FR-M94S-42</td><td>HL Mountain Frame - Silver, 42</td><td>HL Mountain Frame</td><td>Each frame is hand-crafted in our Bothell facility to the optimum diameter and wall-thickness required of a premium mountain frame. The heat-treated welded aluminum frame has a larger diameter tube that absorbs the bumps.</td><td>Silver</td><td>42</td><td>U</td><td>623.8403</td><td>1204.3248</td></tr><tr><td>291</td><td>12</td><td>FR-M94S-44</td><td>HL Mountain Frame - Silver, 44</td><td>HL Mountain Frame</td><td>Each frame is hand-crafted in our Bothell facility to the optimum diameter and wall-thickness required of a premium mountain frame. The heat-treated welded aluminum frame has a larger diameter tube that absorbs the bumps.</td><td>Silver</td><td>44</td><td>U</td><td>706.811</td><td>1364.5</td></tr><tr><td>292</td><td>12</td><td>FR-M94S-52</td><td>HL Mountain Frame - Silver, 48</td><td>HL Mountain Frame</td><td>Each frame is hand-crafted in our Bothell facility to the optimum diameter and wall-thickness required of a premium mountain frame. The heat-treated welded aluminum frame has a larger diameter tube that absorbs the bumps.</td><td>Silver</td><td>48</td><td>U</td><td>706.811</td><td>1364.5</td></tr><tr><td>293</td><td>12</td><td>FR-M94S-46</td><td>HL Mountain Frame - Silver, 46</td><td>HL Mountain Frame</td><td>Each frame is hand-crafted in our Bothell facility to the optimum diameter and wall-thickness required of a premium mountain frame. The heat-treated welded aluminum frame has a larger diameter tube that absorbs the bumps.</td><td>Silver</td><td>46</td><td>U</td><td>623.8403</td><td>1204.3248</td></tr><tr><td>296</td><td>12</td><td>FR-M94B-42</td><td>HL Mountain Frame - Black, 42</td><td>HL Mountain Frame</td><td>Each frame is hand-crafted in our Bothell facility to the optimum diameter and wall-thickness required of a premium mountain frame. The heat-treated welded aluminum frame has a larger diameter tube that absorbs the bumps.</td><td>Black</td><td>42</td><td>U</td><td>617.0281</td><td>1191.1739</td></tr><tr><td>299</td><td>12</td><td>FR-M94B-44</td><td>HL Mountain Frame - Black, 44</td><td>HL Mountain Frame</td><td>Each frame is hand-crafted in our Bothell facility to the optimum diameter and wall-thickness required of a premium mountain frame. The heat-treated welded aluminum frame has a larger diameter tube that absorbs the bumps.</td><td>Black</td><td>44</td><td>U</td><td>699.0928</td><td>1349.6</td></tr><tr><td>300</td><td>12</td><td>FR-M94B-48</td><td>HL Mountain Frame - Black, 48</td><td>HL Mountain Frame</td><td>Each frame is hand-crafted in our Bothell facility to the optimum diameter and wall-thickness required of a premium mountain frame. The heat-treated welded aluminum frame has a larger diameter tube that absorbs the bumps.</td><td>Black</td><td>48</td><td>U</td><td>699.0928</td><td>1349.6</td></tr><tr><td>301</td><td>12</td><td>FR-M94B-46</td><td>HL Mountain Frame - Black, 46</td><td>HL Mountain Frame</td><td>Each frame is hand-crafted in our Bothell facility to the optimum diameter and wall-thickness required of a premium mountain frame. The heat-treated welded aluminum frame has a larger diameter tube that absorbs the bumps.</td><td>Black</td><td>46</td><td>U</td><td>617.0281</td><td>1191.1739</td></tr><tr><td>304</td><td>12</td><td>FR-M94B-38</td><td>HL Mountain Frame - Black, 38</td><td>HL Mountain Frame</td><td>Each frame is hand-crafted in our Bothell facility to the optimum diameter and wall-thickness required of a premium mountain frame. The heat-treated welded aluminum frame has a larger diameter tube that absorbs the bumps.</td><td>Black</td><td>38</td><td>U</td><td>617.0281</td><td>1191.1739</td></tr><tr><td>307</td><td>12</td><td>FR-M94S-38</td><td>HL Mountain Frame - Silver, 38</td><td>HL Mountain Frame</td><td>Each frame is hand-crafted in our Bothell facility to the optimum diameter and wall-thickness required of a premium mountain frame. The heat-treated welded aluminum frame has a larger diameter tube that absorbs the bumps.</td><td>Silver</td><td>38</td><td>U</td><td>623.8403</td><td>1204.3248</td></tr><tr><td>310</td><td>2</td><td>BK-R93R-62</td><td>Road-150 Red, 62</td><td>Road-150</td><td>This bike is ridden by race winners. Developed with the Adventure Works Cycles professional race team, it has a extremely light heat-treated aluminum frame, and steering that allows precision control.</td><td>Red</td><td>62</td><td>U</td><td>2171.2942</td><td>3578.27</td></tr><tr><td>311</td><td>2</td><td>BK-R93R-44</td><td>Road-150 Red, 44</td><td>Road-150</td><td>This bike is ridden by race winners. Developed with the Adventure Works Cycles professional race team, it has a extremely light heat-treated aluminum frame, and steering that allows precision control.</td><td>Red</td><td>44</td><td>U</td><td>2171.2942</td><td>3578.27</td></tr><tr><td>312</td><td>2</td><td>BK-R93R-48</td><td>Road-150 Red, 48</td><td>Road-150</td><td>This bike is ridden by race winners. Developed with the Adventure Works Cycles professional race team, it has a extremely light heat-treated aluminum frame, and steering that allows precision control.</td><td>Red</td><td>48</td><td>U</td><td>2171.2942</td><td>3578.27</td></tr><tr><td>313</td><td>2</td><td>BK-R93R-52</td><td>Road-150 Red, 52</td><td>Road-150</td><td>This bike is ridden by race winners. Developed with the Adventure Works Cycles professional race team, it has a extremely light heat-treated aluminum frame, and steering that allows precision control.</td><td>Red</td><td>52</td><td>U</td><td>2171.2942</td><td>3578.27</td></tr><tr><td>314</td><td>2</td><td>BK-R93R-56</td><td>Road-150 Red, 56</td><td>Road-150</td><td>This bike is ridden by race winners. Developed with the Adventure Works Cycles professional race team, it has a extremely light heat-treated aluminum frame, and steering that allows precision control.</td><td>Red</td><td>56</td><td>U</td><td>2171.2942</td><td>3578.27</td></tr><tr><td>315</td><td>2</td><td>BK-R68R-58</td><td>Road-450 Red, 58</td><td>Road-450</td><td>A true multi-sport bike that offers streamlined riding and a revolutionary design. Aerodynamic design lets you ride with the pros, and the gearing will conquer hilly roads.</td><td>Red</td><td>58</td><td>U</td><td>884.7083</td><td>1457.99</td></tr><tr><td>316</td><td>2</td><td>BK-R68R-60</td><td>Road-450 Red, 60</td><td>Road-450</td><td>A true multi-sport bike that offers streamlined riding and a revolutionary design. Aerodynamic design lets you ride with the pros, and the gearing will conquer hilly roads.</td><td>Red</td><td>60</td><td>U</td><td>884.7083</td><td>1457.99</td></tr><tr><td>317</td><td>2</td><td>BK-R68R-44</td><td>Road-450 Red, 44</td><td>Road-450</td><td>A true multi-sport bike that offers streamlined riding and a revolutionary design. Aerodynamic design lets you ride with the pros, and the gearing will conquer hilly roads.</td><td>Red</td><td>44</td><td>U</td><td>884.7083</td><td>1457.99</td></tr><tr><td>318</td><td>2</td><td>BK-R68R-48</td><td>Road-450 Red, 48</td><td>Road-450</td><td>A true multi-sport bike that offers streamlined riding and a revolutionary design. Aerodynamic design lets you ride with the pros, and the gearing will conquer hilly roads.</td><td>Red</td><td>48</td><td>U</td><td>884.7083</td><td>1457.99</td></tr><tr><td>319</td><td>2</td><td>BK-R68R-52</td><td>Road-450 Red, 52</td><td>Road-450</td><td>A true multi-sport bike that offers streamlined riding and a revolutionary design. Aerodynamic design lets you ride with the pros, and the gearing will conquer hilly roads.</td><td>Red</td><td>52</td><td>U</td><td>884.7083</td><td>1457.99</td></tr><tr><td>320</td><td>2</td><td>BK-R50R-58</td><td>Road-650 Red, 58</td><td>Road-650</td><td>Value-priced bike with many features of our top-of-the-line models. Has the same light, stiff frame, and the quick acceleration we're famous for.</td><td>Red</td><td>58</td><td>U</td><td>413.1463</td><td>699.0982</td></tr><tr><td>322</td><td>2</td><td>BK-R50R-60</td><td>Road-650 Red, 60</td><td>Road-650</td><td>Value-priced bike with many features of our top-of-the-line models. Has the same light, stiff frame, and the quick acceleration we're famous for.</td><td>Red</td><td>60</td><td>U</td><td>413.1463</td><td>699.0982</td></tr><tr><td>324</td><td>2</td><td>BK-R50R-62</td><td>Road-650 Red, 62</td><td>Road-650</td><td>Value-priced bike with many features of our top-of-the-line models. Has the same light, stiff frame, and the quick acceleration we're famous for.</td><td>Red</td><td>62</td><td>U</td><td>413.1463</td><td>699.0982</td></tr><tr><td>326</td><td>2</td><td>BK-R50R-44</td><td>Road-650 Red, 44</td><td>Road-650</td><td>Value-priced bike with many features of our top-of-the-line models. Has the same light, stiff frame, and the quick acceleration we're famous for.</td><td>Red</td><td>44</td><td>U</td><td>413.1463</td><td>699.0982</td></tr><tr><td>328</td><td>2</td><td>BK-R50R-48</td><td>Road-650 Red, 48</td><td>Road-650</td><td>Value-priced bike with many features of our top-of-the-line models. Has the same light, stiff frame, and the quick acceleration we're famous for.</td><td>Red</td><td>48</td><td>U</td><td>413.1463</td><td>699.0982</td></tr><tr><td>330</td><td>2</td><td>BK-R50R-52</td><td>Road-650 Red, 52</td><td>Road-650</td><td>Value-priced bike with many features of our top-of-the-line models. Has the same light, stiff frame, and the quick acceleration we're famous for.</td><td>Red</td><td>52</td><td>U</td><td>413.1463</td><td>699.0982</td></tr><tr><td>332</td><td>2</td><td>BK-R50B-58</td><td>Road-650 Black, 58</td><td>Road-650</td><td>Value-priced bike with many features of our top-of-the-line models. Has the same light, stiff frame, and the quick acceleration we're famous for.</td><td>Black</td><td>58</td><td>U</td><td>413.1463</td><td>699.0982</td></tr><tr><td>334</td><td>2</td><td>BK-R50B-60</td><td>Road-650 Black, 60</td><td>Road-650</td><td>Value-priced bike with many features of our top-of-the-line models. Has the same light, stiff frame, and the quick acceleration we're famous for.</td><td>Black</td><td>60</td><td>U</td><td>413.1463</td><td>699.0982</td></tr><tr><td>336</td><td>2</td><td>BK-R50B-62</td><td>Road-650 Black, 62</td><td>Road-650</td><td>Value-priced bike with many features of our top-of-the-line models. Has the same light, stiff frame, and the quick acceleration we're famous for.</td><td>Black</td><td>62</td><td>U</td><td>413.1463</td><td>699.0982</td></tr><tr><td>338</td><td>2</td><td>BK-R50B-44</td><td>Road-650 Black, 44</td><td>Road-650</td><td>Value-priced bike with many features of our top-of-the-line models. Has the same light, stiff frame, and the quick acceleration we're famous for.</td><td>Black</td><td>44</td><td>U</td><td>413.1463</td><td>699.0982</td></tr><tr><td>340</td><td>2</td><td>BK-R50B-48</td><td>Road-650 Black, 48</td><td>Road-650</td><td>Value-priced bike with many features of our top-of-the-line models. Has the same light, stiff frame, and the quick acceleration we're famous for.</td><td>Black</td><td>48</td><td>U</td><td>413.1463</td><td>699.0982</td></tr><tr><td>342</td><td>2</td><td>BK-R50B-52</td><td>Road-650 Black, 52</td><td>Road-650</td><td>Value-priced bike with many features of our top-of-the-line models. Has the same light, stiff frame, and the quick acceleration we're famous for.</td><td>Black</td><td>52</td><td>U</td><td>413.1463</td><td>699.0982</td></tr><tr><td>344</td><td>1</td><td>BK-M82S-38</td><td>Mountain-100 Silver, 38</td><td>Mountain-100</td><td>Top-of-the-line competition mountain bike. Performance-enhancing options include the innovative HL Frame, super-smooth front suspension, and traction for all terrain.</td><td>Silver</td><td>38</td><td>U</td><td>1912.1544</td><td>3399.99</td></tr><tr><td>345</td><td>1</td><td>BK-M82S-42</td><td>Mountain-100 Silver, 42</td><td>Mountain-100</td><td>Top-of-the-line competition mountain bike. Performance-enhancing options include the innovative HL Frame, super-smooth front suspension, and traction for all terrain.</td><td>Silver</td><td>42</td><td>U</td><td>1912.1544</td><td>3399.99</td></tr><tr><td>346</td><td>1</td><td>BK-M82S-44</td><td>Mountain-100 Silver, 44</td><td>Mountain-100</td><td>Top-of-the-line competition mountain bike. Performance-enhancing options include the innovative HL Frame, super-smooth front suspension, and traction for all terrain.</td><td>Silver</td><td>44</td><td>U</td><td>1912.1544</td><td>3399.99</td></tr><tr><td>347</td><td>1</td><td>BK-M82S-48</td><td>Mountain-100 Silver, 48</td><td>Mountain-100</td><td>Top-of-the-line competition mountain bike. Performance-enhancing options include the innovative HL Frame, super-smooth front suspension, and traction for all terrain.</td><td>Silver</td><td>48</td><td>U</td><td>1912.1544</td><td>3399.99</td></tr><tr><td>348</td><td>1</td><td>BK-M82B-38</td><td>Mountain-100 Black, 38</td><td>Mountain-100</td><td>Top-of-the-line competition mountain bike. Performance-enhancing options include the innovative HL Frame, super-smooth front suspension, and traction for all terrain.</td><td>Black</td><td>38</td><td>U</td><td>1898.0944</td><td>3374.99</td></tr><tr><td>349</td><td>1</td><td>BK-M82B-42</td><td>Mountain-100 Black, 42</td><td>Mountain-100</td><td>Top-of-the-line competition mountain bike. Performance-enhancing options include the innovative HL Frame, super-smooth front suspension, and traction for all terrain.</td><td>Black</td><td>42</td><td>U</td><td>1898.0944</td><td>3374.99</td></tr><tr><td>350</td><td>1</td><td>BK-M82B-44</td><td>Mountain-100 Black, 44</td><td>Mountain-100</td><td>Top-of-the-line competition mountain bike. Performance-enhancing options include the innovative HL Frame, super-smooth front suspension, and traction for all terrain.</td><td>Black</td><td>44</td><td>U</td><td>1898.0944</td><td>3374.99</td></tr><tr><td>351</td><td>1</td><td>BK-M82B-48</td><td>Mountain-100 Black, 48</td><td>Mountain-100</td><td>Top-of-the-line competition mountain bike. Performance-enhancing options include the innovative HL Frame, super-smooth front suspension, and traction for all terrain.</td><td>Black</td><td>48</td><td>U</td><td>1898.0944</td><td>3374.99</td></tr><tr><td>352</td><td>1</td><td>BK-M68S-38</td><td>Mountain-200 Silver, 38</td><td>Mountain-200</td><td>Serious back-country riding. Perfect for all levels of competition. Uses the same HL Frame as the Mountain-100.</td><td>Silver</td><td>38</td><td>U</td><td>1117.8559</td><td>2071.4196</td></tr><tr><td>354</td><td>1</td><td>BK-M68S-42</td><td>Mountain-200 Silver, 42</td><td>Mountain-200</td><td>Serious back-country riding. Perfect for all levels of competition. Uses the same HL Frame as the Mountain-100.</td><td>Silver</td><td>42</td><td>U</td><td>1117.8559</td><td>2071.4196</td></tr><tr><td>356</td><td>1</td><td>BK-M68S-46</td><td>Mountain-200 Silver, 46</td><td>Mountain-200</td><td>Serious back-country riding. Perfect for all levels of competition. Uses the same HL Frame as the Mountain-100.</td><td>Silver</td><td>46</td><td>U</td><td>1117.8559</td><td>2071.4196</td></tr><tr><td>358</td><td>1</td><td>BK-M68B-38</td><td>Mountain-200 Black, 38</td><td>Mountain-200</td><td>Serious back-country riding. Perfect for all levels of competition. Uses the same HL Frame as the Mountain-100.</td><td>Black</td><td>38</td><td>U</td><td>1105.81</td><td>2049.0982</td></tr><tr><td>360</td><td>1</td><td>BK-M68B-42</td><td>Mountain-200 Black, 42</td><td>Mountain-200</td><td>Serious back-country riding. Perfect for all levels of competition. Uses the same HL Frame as the Mountain-100.</td><td>Black</td><td>42</td><td>U</td><td>1105.81</td><td>2049.0982</td></tr><tr><td>362</td><td>1</td><td>BK-M68B-46</td><td>Mountain-200 Black, 46</td><td>Mountain-200</td><td>Serious back-country riding. Perfect for all levels of competition. Uses the same HL Frame as the Mountain-100.</td><td>Black</td><td>46</td><td>U</td><td>1105.81</td><td>2049.0982</td></tr><tr><td>364</td><td>1</td><td>BK-M47B-38</td><td>Mountain-300 Black, 38</td><td>Mountain-300</td><td>For true trail addicts.  An extremely durable bike that will go anywhere and keep you in control on challenging terrain - without breaking your budget.</td><td>Black</td><td>38</td><td>U</td><td>598.4354</td><td>1079.99</td></tr><tr><td>365</td><td>1</td><td>BK-M47B-40</td><td>Mountain-300 Black, 40</td><td>Mountain-300</td><td>For true trail addicts.  An extremely durable bike that will go anywhere and keep you in control on challenging terrain - without breaking your budget.</td><td>Black</td><td>40</td><td>U</td><td>598.4354</td><td>1079.99</td></tr><tr><td>366</td><td>1</td><td>BK-M47B-44</td><td>Mountain-300 Black, 44</td><td>Mountain-300</td><td>For true trail addicts.  An extremely durable bike that will go anywhere and keep you in control on challenging terrain - without breaking your budget.</td><td>Black</td><td>44</td><td>U</td><td>598.4354</td><td>1079.99</td></tr><tr><td>367</td><td>1</td><td>BK-M47B-48</td><td>Mountain-300 Black, 48</td><td>Mountain-300</td><td>For true trail addicts.  An extremely durable bike that will go anywhere and keep you in control on challenging terrain - without breaking your budget.</td><td>Black</td><td>48</td><td>U</td><td>598.4354</td><td>1079.99</td></tr><tr><td>368</td><td>2</td><td>BK-R89R-44</td><td>Road-250 Red, 44</td><td>Road-250</td><td>Alluminum-alloy frame provides a light, stiff ride, whether you are racing in the velodrome or on a demanding club ride on country roads.</td><td>Red</td><td>44</td><td>U</td><td>1518.7864</td><td>2443.35</td></tr><tr><td>369</td><td>2</td><td>BK-R89R-48</td><td>Road-250 Red, 48</td><td>Road-250</td><td>Alluminum-alloy frame provides a light, stiff ride, whether you are racing in the velodrome or on a demanding club ride on country roads.</td><td>Red</td><td>48</td><td>U</td><td>1518.7864</td><td>2443.35</td></tr><tr><td>370</td><td>2</td><td>BK-R89R-52</td><td>Road-250 Red, 52</td><td>Road-250</td><td>Alluminum-alloy frame provides a light, stiff ride, whether you are racing in the velodrome or on a demanding club ride on country roads.</td><td>Red</td><td>52</td><td>U</td><td>1518.7864</td><td>2443.35</td></tr><tr><td>371</td><td>2</td><td>BK-R89R-58</td><td>Road-250 Red, 58</td><td>Road-250</td><td>Alluminum-alloy frame provides a light, stiff ride, whether you are racing in the velodrome or on a demanding club ride on country roads.</td><td>Red</td><td>58</td><td>U</td><td>1320.6838</td><td>2181.5625</td></tr><tr><td>373</td><td>2</td><td>BK-R89B-44</td><td>Road-250 Black, 44</td><td>Road-250</td><td>Alluminum-alloy frame provides a light, stiff ride, whether you are racing in the velodrome or on a demanding club ride on country roads.</td><td>Black</td><td>44</td><td>U</td><td>1320.6838</td><td>2181.5625</td></tr><tr><td>375</td><td>2</td><td>BK-R89B-48</td><td>Road-250 Black, 48</td><td>Road-250</td><td>Alluminum-alloy frame provides a light, stiff ride, whether you are racing in the velodrome or on a demanding club ride on country roads.</td><td>Black</td><td>48</td><td>U</td><td>1320.6838</td><td>2181.5625</td></tr><tr><td>377</td><td>2</td><td>BK-R89B-52</td><td>Road-250 Black, 52</td><td>Road-250</td><td>Alluminum-alloy frame provides a light, stiff ride, whether you are racing in the velodrome or on a demanding club ride on country roads.</td><td>Black</td><td>52</td><td>U</td><td>1320.6838</td><td>2181.5625</td></tr><tr><td>379</td><td>2</td><td>BK-R89B-58</td><td>Road-250 Black, 58</td><td>Road-250</td><td>Alluminum-alloy frame provides a light, stiff ride, whether you are racing in the velodrome or on a demanding club ride on country roads.</td><td>Black</td><td>58</td><td>U</td><td>1320.6838</td><td>2181.5625</td></tr><tr><td>381</td><td>2</td><td>BK-R64Y-38</td><td>Road-550-W Yellow, 38</td><td>Road-550-W</td><td>Same technology as all of our Road series bikes, but the frame is sized for a woman.  Perfect all-around bike for road or racing.</td><td>Yellow</td><td>38</td><td>W</td><td>605.6492</td><td>1000.4375</td></tr><tr><td>383</td><td>2</td><td>BK-R64Y-40</td><td>Road-550-W Yellow, 40</td><td>Road-550-W</td><td>Same technology as all of our Road series bikes, but the frame is sized for a woman.  Perfect all-around bike for road or racing.</td><td>Yellow</td><td>40</td><td>W</td><td>605.6492</td><td>1000.4375</td></tr><tr><td>385</td><td>2</td><td>BK-R64Y-42</td><td>Road-550-W Yellow, 42</td><td>Road-550-W</td><td>Same technology as all of our Road series bikes, but the frame is sized for a woman.  Perfect all-around bike for road or racing.</td><td>Yellow</td><td>42</td><td>W</td><td>605.6492</td><td>1000.4375</td></tr><tr><td>387</td><td>2</td><td>BK-R64Y-44</td><td>Road-550-W Yellow, 44</td><td>Road-550-W</td><td>Same technology as all of our Road series bikes, but the frame is sized for a woman.  Perfect all-around bike for road or racing.</td><td>Yellow</td><td>44</td><td>W</td><td>605.6492</td><td>1000.4375</td></tr><tr><td>389</td><td>2</td><td>BK-R64Y-48</td><td>Road-550-W Yellow, 48</td><td>Road-550-W</td><td>Same technology as all of our Road series bikes, but the frame is sized for a woman.  Perfect all-around bike for road or racing.</td><td>Yellow</td><td>48</td><td>W</td><td>605.6492</td><td>1000.4375</td></tr><tr><td>391</td><td>10</td><td>FK-1639</td><td>LL Fork</td><td>LL Fork</td><td>Stout design absorbs shock and offers more precise steering.</td><td>NA</td><td>0</td><td>0</td><td>65.8097</td><td>148.22</td></tr><tr><td>392</td><td>10</td><td>FK-5136</td><td>ML Fork</td><td>ML Fork</td><td>Composite road fork with an aluminum steerer tube.</td><td>NA</td><td>0</td><td>0</td><td>77.9176</td><td>175.49</td></tr><tr><td>393</td><td>10</td><td>FK-9939</td><td>HL Fork</td><td>HL Fork</td><td>High-performance carbon road fork with curved legs.</td><td>NA</td><td>0</td><td>0</td><td>101.8936</td><td>229.49</td></tr><tr><td>394</td><td>11</td><td>HS-0296</td><td>LL Headset</td><td>LL Headset</td><td>Threadless headset provides quality at an economical price.</td><td>NA</td><td>0</td><td>0</td><td>15.1848</td><td>34.2</td></tr><tr><td>395</td><td>11</td><td>HS-2451</td><td>ML Headset</td><td>ML Headset</td><td>Sealed cartridge keeps dirt out.</td><td>NA</td><td>0</td><td>0</td><td>45.4168</td><td>102.29</td></tr><tr><td>396</td><td>11</td><td>HS-3479</td><td>HL Headset</td><td>HL Headset</td><td>\"High-quality 1\"\" threadless headset with a grease port for quick lubrication.\"</td><td>NA</td><td>0</td><td>0</td><td>55.3801</td><td>124.73</td></tr><tr><td>397</td><td>4</td><td>HB-M243</td><td>LL Mountain Handlebars</td><td>LL Mountain Handlebars</td><td>All-purpose bar for on or off-road.</td><td>NA</td><td>0</td><td>0</td><td>17.978</td><td>40.4909</td></tr><tr><td>399</td><td>4</td><td>HB-M763</td><td>ML Mountain Handlebars</td><td>ML Mountain Handlebars</td><td>Tough aluminum alloy bars for downhill.</td><td>NA</td><td>0</td><td>0</td><td>24.9932</td><td>56.2909</td></tr><tr><td>401</td><td>4</td><td>HB-M918</td><td>HL Mountain Handlebars</td><td>HL Mountain Handlebars</td><td>Flat bar strong enough for the pro circuit.</td><td>NA</td><td>0</td><td>0</td><td>48.5453</td><td>109.3364</td></tr><tr><td>403</td><td>4</td><td>HB-R504</td><td>LL Road Handlebars</td><td>LL Road Handlebars</td><td>Unique shape provides easier reach to the levers.</td><td>NA</td><td>0</td><td>0</td><td>17.978</td><td>40.4909</td></tr><tr><td>405</td><td>4</td><td>HB-R720</td><td>ML Road Handlebars</td><td>ML Road Handlebars</td><td>Anatomically shaped aluminum tube bar will suit all riders.</td><td>NA</td><td>0</td><td>0</td><td>24.9932</td><td>56.2909</td></tr><tr><td>407</td><td>4</td><td>HB-R956</td><td>HL Road Handlebars</td><td>HL Road Handlebars</td><td>Designed for racers; high-end anatomically shaped bar from aluminum alloy.</td><td>NA</td><td>0</td><td>0</td><td>48.5453</td><td>109.3364</td></tr><tr><td>409</td><td>12</td><td>FR-M63B-38</td><td>ML Mountain Frame - Black, 38</td><td>ML Mountain Frame-W</td><td>The ML frame is a heat-treated aluminum frame made with the same detail and quality as our HL frame. It offers superior performance. Men's version.</td><td>Black</td><td>38</td><td>U</td><td>185.8193</td><td>348.76</td></tr><tr><td>410</td><td>17</td><td>FW-M423</td><td>LL Mountain Front Wheel</td><td>LL Mountain Front Wheel</td><td>Replacement mountain wheel for entry-level rider.</td><td>Black</td><td>0</td><td>0</td><td>26.9708</td><td>60.745</td></tr><tr><td>411</td><td>17</td><td>FW-M762</td><td>ML Mountain Front Wheel</td><td>ML Mountain Front Wheel</td><td>Replacement mountain wheel for the casual to serious rider.</td><td>Black</td><td>0</td><td>0</td><td>92.8071</td><td>209.025</td></tr><tr><td>412</td><td>17</td><td>FW-M928</td><td>HL Mountain Front Wheel</td><td>HL Mountain Front Wheel</td><td>High-performance mountain replacement wheel.</td><td>Black</td><td>0</td><td>0</td><td>133.2955</td><td>300.215</td></tr><tr><td>413</td><td>17</td><td>FW-R623</td><td>LL Road Front Wheel</td><td>LL Road Front Wheel</td><td>Replacement road front wheel for entry-level cyclist.</td><td>Black</td><td>0</td><td>0</td><td>37.9909</td><td>85.565</td></tr><tr><td>414</td><td>17</td><td>FW-R762</td><td>ML Road Front Wheel</td><td>ML Road Front Wheel</td><td>Sturdy alloy features a quick-release hub.</td><td>Black</td><td>0</td><td>0</td><td>110.2829</td><td>248.385</td></tr><tr><td>415</td><td>17</td><td>FW-R820</td><td>HL Road Front Wheel</td><td>HL Road Front Wheel</td><td>Strong wheel with double-walled rim.</td><td>Black</td><td>0</td><td>0</td><td>146.5466</td><td>330.06</td></tr><tr><td>416</td><td>17</td><td>FW-T905</td><td>Touring Front Wheel</td><td>Touring Front Wheel</td><td>Aerodynamic rims for smooth riding.</td><td>Black</td><td>0</td><td>0</td><td>96.7964</td><td>218.01</td></tr><tr><td>417</td><td>14</td><td>FR-R72Y-38</td><td>ML Road Frame-W - Yellow, 38</td><td>ML Road Frame-W</td><td>Made from the same aluminum alloy as our top-of-the line HL frame, the ML features a lightweight down-tube milled to the perfect diameter for optimal strength. Women's version.</td><td>Yellow</td><td>38</td><td>W</td><td>300.1188</td><td>540.7545</td></tr><tr><td>419</td><td>17</td><td>RW-M423</td><td>LL Mountain Rear Wheel</td><td>LL Mountain Rear Wheel</td><td>Replacement mountain wheel for entry-level rider.</td><td>Black</td><td>0</td><td>0</td><td>38.9588</td><td>87.745</td></tr><tr><td>420</td><td>17</td><td>RW-M762</td><td>ML Mountain Rear Wheel</td><td>ML Mountain Rear Wheel</td><td>Replacement mountain wheel for the casual to serious rider.</td><td>Black</td><td>0</td><td>0</td><td>104.7951</td><td>236.025</td></tr><tr><td>421</td><td>17</td><td>RW-M928</td><td>HL Mountain Rear Wheel</td><td>HL Mountain Rear Wheel</td><td>High-performance mountain replacement wheel.</td><td>Black</td><td>0</td><td>0</td><td>145.2835</td><td>327.215</td></tr><tr><td>422</td><td>17</td><td>RW-R623</td><td>LL Road Rear Wheel</td><td>LL Road Rear Wheel</td><td>Replacement road rear wheel for entry-level cyclist.</td><td>Black</td><td>0</td><td>0</td><td>49.9789</td><td>112.565</td></tr><tr><td>423</td><td>17</td><td>RW-R762</td><td>ML Road Rear Wheel</td><td>ML Road Rear Wheel</td><td>Aluminum alloy rim with stainless steel spokes; built for speed.</td><td>Black</td><td>0</td><td>0</td><td>122.2709</td><td>275.385</td></tr><tr><td>424</td><td>17</td><td>RW-R820</td><td>HL Road Rear Wheel</td><td>HL Road Rear Wheel</td><td>Strong rear wheel with double-walled rim.</td><td>Black</td><td>0</td><td>0</td><td>158.5346</td><td>357.06</td></tr><tr><td>425</td><td>17</td><td>RW-T905</td><td>Touring Rear Wheel</td><td>Touring Rear Wheel</td><td>Excellent aerodynamic rims guarantee a smooth ride.</td><td>Black</td><td>0</td><td>0</td><td>108.7844</td><td>245.01</td></tr><tr><td>426</td><td>12</td><td>FR-M63B-40</td><td>ML Mountain Frame - Black, 40</td><td>ML Mountain Frame</td><td>The ML frame is a heat-treated aluminum frame made with the same detail and quality as our HL frame. It offers superior performance. Women's version.</td><td>Black</td><td>40</td><td>U</td><td>185.8193</td><td>348.76</td></tr><tr><td>427</td><td>12</td><td>FR-M63B-44</td><td>ML Mountain Frame - Black, 44</td><td>ML Mountain Frame</td><td>The ML frame is a heat-treated aluminum frame made with the same detail and quality as our HL frame. It offers superior performance. Women's version.</td><td>Black</td><td>44</td><td>U</td><td>185.8193</td><td>348.76</td></tr><tr><td>428</td><td>12</td><td>FR-M63B-48</td><td>ML Mountain Frame - Black, 48</td><td>ML Mountain Frame</td><td>The ML frame is a heat-treated aluminum frame made with the same detail and quality as our HL frame. It offers superior performance. Women's version.</td><td>Black</td><td>48</td><td>U</td><td>185.8193</td><td>348.76</td></tr><tr><td>429</td><td>14</td><td>FR-R72Y-40</td><td>ML Road Frame-W - Yellow, 40</td><td>ML Road Frame-W</td><td>Made from the same aluminum alloy as our top-of-the line HL frame, the ML features a lightweight down-tube milled to the perfect diameter for optimal strength. Women's version.</td><td>Yellow</td><td>40</td><td>W</td><td>300.1188</td><td>540.7545</td></tr><tr><td>431</td><td>14</td><td>FR-R72Y-42</td><td>ML Road Frame-W - Yellow, 42</td><td>ML Road Frame-W</td><td>Made from the same aluminum alloy as our top-of-the line HL frame, the ML features a lightweight down-tube milled to the perfect diameter for optimal strength. Women's version.</td><td>Yellow</td><td>42</td><td>W</td><td>300.1188</td><td>540.7545</td></tr><tr><td>433</td><td>14</td><td>FR-R72Y-44</td><td>ML Road Frame-W - Yellow, 44</td><td>ML Road Frame-W</td><td>Made from the same aluminum alloy as our top-of-the line HL frame, the ML features a lightweight down-tube milled to the perfect diameter for optimal strength. Women's version.</td><td>Yellow</td><td>44</td><td>W</td><td>300.1188</td><td>540.7545</td></tr><tr><td>435</td><td>14</td><td>FR-R72Y-48</td><td>ML Road Frame-W - Yellow, 48</td><td>ML Road Frame-W</td><td>Made from the same aluminum alloy as our top-of-the line HL frame, the ML features a lightweight down-tube milled to the perfect diameter for optimal strength. Women's version.</td><td>Yellow</td><td>48</td><td>W</td><td>300.1188</td><td>540.7545</td></tr><tr><td>437</td><td>14</td><td>FR-R92B-62</td><td>HL Road Frame - Black, 62</td><td>HL Road Frame</td><td>Our lightest and best quality aluminum frame made from the newest alloy; it is welded and heat-treated for strength. Our innovative design results in maximum comfort and performance.</td><td>Black</td><td>62</td><td>U</td><td>722.2568</td><td>1301.3636</td></tr><tr><td>439</td><td>14</td><td>FR-R92B-44</td><td>HL Road Frame - Black, 44</td><td>HL Road Frame</td><td>Our lightest and best quality aluminum frame made from the newest alloy; it is welded and heat-treated for strength. Our innovative design results in maximum comfort and performance.</td><td>Black</td><td>44</td><td>U</td><td>722.2568</td><td>1301.3636</td></tr><tr><td>441</td><td>14</td><td>FR-R92B-48</td><td>HL Road Frame - Black, 48</td><td>HL Road Frame</td><td>Our lightest and best quality aluminum frame made from the newest alloy; it is welded and heat-treated for strength. Our innovative design results in maximum comfort and performance.</td><td>Black</td><td>48</td><td>U</td><td>722.2568</td><td>1301.3636</td></tr><tr><td>443</td><td>14</td><td>FR-R92B-52</td><td>HL Road Frame - Black, 52</td><td>HL Road Frame</td><td>Our lightest and best quality aluminum frame made from the newest alloy; it is welded and heat-treated for strength. Our innovative design results in maximum comfort and performance.</td><td>Black</td><td>52</td><td>U</td><td>722.2568</td><td>1301.3636</td></tr><tr><td>445</td><td>22</td><td>SH-M897-S</td><td>Men's Sports Shorts, S</td><td>Men's Sports Shorts</td><td>Men's 8-panel racing shorts - lycra with an elastic waistband and leg grippers.</td><td>Black</td><td>S</td><td>M</td><td>24.7459</td><td>59.99</td></tr><tr><td>446</td><td>35</td><td>PA-T100</td><td>Touring-Panniers, Large</td><td>Touring-Panniers</td><td>Durable, water-proof nylon construction with easy access. Large enough for weekend trips.</td><td>Grey</td><td>0</td><td>0</td><td>51.5625</td><td>125</td></tr><tr><td>447</td><td>34</td><td>LO-C100</td><td>Cable Lock</td><td>Cable Lock</td><td>Wraps to fit front and rear tires, carrier and 2 keys included.</td><td>NA</td><td>0</td><td>0</td><td>10.3125</td><td>25</td></tr><tr><td>448</td><td>36</td><td>PU-0452</td><td>Minipump</td><td>Minipump</td><td>Designed for convenience. Fits in your pocket. Aluminum barrel. 160psi rated.</td><td>NA</td><td>0</td><td>0</td><td>8.2459</td><td>19.99</td></tr><tr><td>449</td><td>36</td><td>PU-M044</td><td>Mountain Pump</td><td>Mountain Pump</td><td>Simple and light-weight. Emergency patches stored in handle.</td><td>NA</td><td>0</td><td>0</td><td>10.3084</td><td>24.99</td></tr><tr><td>450</td><td>33</td><td>LT-T990</td><td>Taillights - Battery-Powered</td><td>Taillight</td><td>Affordable light for safe night riding - uses 3 AAA batteries</td><td>NA</td><td>0</td><td>0</td><td>5.7709</td><td>13.99</td></tr><tr><td>451</td><td>33</td><td>LT-H902</td><td>Headlights - Dual-Beam</td><td>Headlights - Dual-Beam</td><td>Rechargeable dual-beam headlight.</td><td>NA</td><td>0</td><td>0</td><td>14.4334</td><td>34.99</td></tr><tr><td>452</td><td>33</td><td>LT-H903</td><td>Headlights - Weatherproof</td><td>Headlights - Weatherproof</td><td>Rugged weatherproof headlight.</td><td>NA</td><td>0</td><td>0</td><td>18.5584</td><td>44.99</td></tr><tr><td>453</td><td>22</td><td>SH-M897-M</td><td>Men's Sports Shorts, M</td><td>Men's Sports Shorts</td><td>Men's 8-panel racing shorts - lycra with an elastic waistband and leg grippers.</td><td>Black</td><td>M</td><td>M</td><td>24.7459</td><td>59.99</td></tr><tr><td>454</td><td>22</td><td>SH-M897-L</td><td>Men's Sports Shorts, L</td><td>Men's Sports Shorts</td><td>Men's 8-panel racing shorts - lycra with an elastic waistband and leg grippers.</td><td>Black</td><td>L</td><td>M</td><td>24.7459</td><td>59.99</td></tr><tr><td>455</td><td>22</td><td>SH-M897-X</td><td>Men's Sports Shorts, XL</td><td>Men's Sports Shorts</td><td>Men's 8-panel racing shorts - lycra with an elastic waistband and leg grippers.</td><td>Black</td><td>XL</td><td>M</td><td>24.7459</td><td>59.99</td></tr><tr><td>456</td><td>24</td><td>TG-W091-S</td><td>Women's Tights, S</td><td>Women's Tights</td><td>Warm spandex tights for winter riding; seamless chamois construction eliminates pressure points.</td><td>Black</td><td>S</td><td>W</td><td>30.9334</td><td>74.99</td></tr><tr><td>457</td><td>24</td><td>TG-W091-M</td><td>Women's Tights, M</td><td>Women's Tights</td><td>Warm spandex tights for winter riding; seamless chamois construction eliminates pressure points.</td><td>Black</td><td>M</td><td>W</td><td>30.9334</td><td>74.99</td></tr><tr><td>458</td><td>24</td><td>TG-W091-L</td><td>Women's Tights, L</td><td>Women's Tights</td><td>Warm spandex tights for winter riding; seamless chamois construction eliminates pressure points.</td><td>Black</td><td>L</td><td>W</td><td>30.9334</td><td>74.99</td></tr><tr><td>459</td><td>18</td><td>SB-M891-S</td><td>Men's Bib-Shorts, S</td><td>Men's Bib-Shorts</td><td>Designed for the AWC team with stay-put straps, moisture-control, chamois padding, and leg grippers.</td><td>Multi</td><td>S</td><td>M</td><td>37.1209</td><td>89.99</td></tr><tr><td>460</td><td>18</td><td>SB-M891-M</td><td>Men's Bib-Shorts, M</td><td>Men's Bib-Shorts</td><td>Designed for the AWC team with stay-put straps, moisture-control, chamois padding, and leg grippers.</td><td>Multi</td><td>M</td><td>M</td><td>37.1209</td><td>89.99</td></tr><tr><td>461</td><td>18</td><td>SB-M891-L</td><td>Men's Bib-Shorts, L</td><td>Men's Bib-Shorts</td><td>Designed for the AWC team with stay-put straps, moisture-control, chamois padding, and leg grippers.</td><td>Multi</td><td>L</td><td>M</td><td>37.1209</td><td>89.99</td></tr><tr><td>462</td><td>20</td><td>GL-H102-S</td><td>Half-Finger Gloves, S</td><td>Half-Finger Gloves</td><td>Full padding, improved finger flex, durable palm, adjustable closure.</td><td>Black</td><td>S</td><td>U</td><td>9.7136</td><td>23.5481</td></tr><tr><td>464</td><td>20</td><td>GL-H102-M</td><td>Half-Finger Gloves, M</td><td>Half-Finger Gloves</td><td>Full padding, improved finger flex, durable palm, adjustable closure.</td><td>Black</td><td>M</td><td>U</td><td>9.7136</td><td>23.5481</td></tr><tr><td>466</td><td>20</td><td>GL-H102-L</td><td>Half-Finger Gloves, L</td><td>Half-Finger Gloves</td><td>Full padding, improved finger flex, durable palm, adjustable closure.</td><td>Black</td><td>L</td><td>U</td><td>9.7136</td><td>23.5481</td></tr><tr><td>468</td><td>20</td><td>GL-F110-S</td><td>Full-Finger Gloves, S</td><td>Full-Finger Gloves</td><td>Synthetic palm, flexible knuckles, breathable mesh upper. Worn by the AWC team riders.</td><td>Black</td><td>S</td><td>U</td><td>15.6709</td><td>37.99</td></tr><tr><td>469</td><td>20</td><td>GL-F110-M</td><td>Full-Finger Gloves, M</td><td>Full-Finger Gloves</td><td>Synthetic palm, flexible knuckles, breathable mesh upper. Worn by the AWC team riders.</td><td>Black</td><td>M</td><td>U</td><td>15.6709</td><td>37.99</td></tr><tr><td>470</td><td>20</td><td>GL-F110-L</td><td>Full-Finger Gloves, L</td><td>Full-Finger Gloves</td><td>Synthetic palm, flexible knuckles, breathable mesh upper. Worn by the AWC team riders.</td><td>Black</td><td>L</td><td>U</td><td>15.6709</td><td>37.99</td></tr><tr><td>471</td><td>25</td><td>VE-C304-S</td><td>Classic Vest, S</td><td>Classic Vest</td><td>Light-weight, wind-resistant, packs to fit into a pocket.</td><td>Blue</td><td>S</td><td>U</td><td>23.749</td><td>63.5</td></tr><tr><td>472</td><td>25</td><td>VE-C304-M</td><td>Classic Vest, M</td><td>Classic Vest</td><td>Light-weight, wind-resistant, packs to fit into a pocket.</td><td>Blue</td><td>M</td><td>U</td><td>23.749</td><td>63.5</td></tr><tr><td>473</td><td>25</td><td>VE-C304-L</td><td>Classic Vest, L</td><td>Classic Vest</td><td>Light-weight, wind-resistant, packs to fit into a pocket.</td><td>Blue</td><td>L</td><td>U</td><td>23.749</td><td>63.5</td></tr><tr><td>474</td><td>22</td><td>SH-W890-S</td><td>Women's Mountain Shorts, S</td><td>Women's Mountain Shorts</td><td>Heavy duty, abrasion-resistant shorts feature seamless, lycra inner shorts with anti-bacterial chamois for comfort.</td><td>Black</td><td>S</td><td>W</td><td>26.1763</td><td>69.99</td></tr><tr><td>475</td><td>22</td><td>SH-W890-M</td><td>Women's Mountain Shorts, M</td><td>Women's Mountain Shorts</td><td>Heavy duty, abrasion-resistant shorts feature seamless, lycra inner shorts with anti-bacterial chamois for comfort.</td><td>Black</td><td>M</td><td>W</td><td>26.1763</td><td>69.99</td></tr><tr><td>476</td><td>22</td><td>SH-W890-L</td><td>Women's Mountain Shorts, L</td><td>Women's Mountain Shorts</td><td>Heavy duty, abrasion-resistant shorts feature seamless, lycra inner shorts with anti-bacterial chamois for comfort.</td><td>Black</td><td>L</td><td>W</td><td>26.1763</td><td>69.99</td></tr><tr><td>477</td><td>28</td><td>WB-H098</td><td>Water Bottle - 30 oz.</td><td>Water Bottle</td><td>AWC logo water bottle - holds 30 oz; leak-proof.</td><td>NA</td><td>0</td><td>0</td><td>1.8663</td><td>4.99</td></tr><tr><td>478</td><td>28</td><td>BC-M005</td><td>Mountain Bottle Cage</td><td>Mountain Bottle Cage</td><td>Tough aluminum cage holds bottle securly on tough terrain.</td><td>NA</td><td>0</td><td>0</td><td>3.7363</td><td>9.99</td></tr><tr><td>479</td><td>28</td><td>BC-R205</td><td>Road Bottle Cage</td><td>Road Bottle Cage</td><td>Aluminum cage is lighter than our mountain version; perfect for long distance trips.</td><td>NA</td><td>0</td><td>0</td><td>3.3623</td><td>8.99</td></tr><tr><td>480</td><td>37</td><td>PK-7098</td><td>Patch Kit/8 Patches</td><td>Patch kit</td><td>Includes 8 different size patches, glue and sandpaper.</td><td>NA</td><td>0</td><td>0</td><td>0.8565</td><td>2.29</td></tr><tr><td>481</td><td>23</td><td>SO-R809-M</td><td>Racing Socks, M</td><td>Racing Socks</td><td>Thin, lightweight and durable with cuffs that stay up.</td><td>White</td><td>M</td><td>U</td><td>3.3623</td><td>8.99</td></tr><tr><td>482</td><td>23</td><td>SO-R809-L</td><td>Racing Socks, L</td><td>Racing Socks</td><td>Thin, lightweight and durable with cuffs that stay up.</td><td>White</td><td>L</td><td>U</td><td>3.3623</td><td>8.99</td></tr><tr><td>483</td><td>26</td><td>RA-H123</td><td>Hitch Rack - 4-Bike</td><td>Hitch Rack - 4-Bike</td><td>\"Carries 4 bikes securely; steel construction, fits 2\"\" receiver hitch.\"</td><td>NA</td><td>0</td><td>0</td><td>44.88</td><td>120</td></tr><tr><td>484</td><td>29</td><td>CL-9009</td><td>Bike Wash - Dissolver</td><td>Bike Wash</td><td>Washes off the toughest road grime; dissolves grease, environmentally safe. 1-liter bottle.</td><td>NA</td><td>0</td><td>0</td><td>2.9733</td><td>7.95</td></tr><tr><td>485</td><td>30</td><td>FE-6654</td><td>Fender Set - Mountain</td><td>Fender Set - Mountain</td><td>Clip-on fenders fit most mountain bikes.</td><td>NA</td><td>0</td><td>0</td><td>8.2205</td><td>21.98</td></tr><tr><td>486</td><td>27</td><td>ST-1401</td><td>All-Purpose Bike Stand</td><td>All-Purpose Bike Stand</td><td>Perfect all-purpose bike stand for working on your bike at home. Quick-adjusting clamps and steel construction.</td><td>NA</td><td>0</td><td>0</td><td>59.466</td><td>159</td></tr><tr><td>487</td><td>32</td><td>HY-1023-70</td><td>Hydration Pack - 70 oz.</td><td>Hydration Pack</td><td>Versatile 70 oz hydration pack offers extra storage, easy-fill access, and a waist belt.</td><td>Silver</td><td>70</td><td>0</td><td>20.5663</td><td>54.99</td></tr><tr><td>488</td><td>21</td><td>SJ-0194-S</td><td>Short-Sleeve Classic Jersey, S</td><td>Short-Sleeve Classic Jersey</td><td>Short sleeve classic breathable jersey with superior moisture control, front zipper, and 3 back pockets.</td><td>Yellow</td><td>S</td><td>U</td><td>41.5723</td><td>53.99</td></tr><tr><td>489</td><td>21</td><td>SJ-0194-M</td><td>Short-Sleeve Classic Jersey, M</td><td>Short-Sleeve Classic Jersey</td><td>Short sleeve classic breathable jersey with superior moisture control, front zipper, and 3 back pockets.</td><td>Yellow</td><td>M</td><td>U</td><td>41.5723</td><td>53.99</td></tr><tr><td>490</td><td>21</td><td>SJ-0194-L</td><td>Short-Sleeve Classic Jersey, L</td><td>Short-Sleeve Classic Jersey</td><td>Short sleeve classic breathable jersey with superior moisture control, front zipper, and 3 back pockets.</td><td>Yellow</td><td>L</td><td>U</td><td>41.5723</td><td>53.99</td></tr><tr><td>491</td><td>21</td><td>SJ-0194-X</td><td>Short-Sleeve Classic Jersey, XL</td><td>Short-Sleeve Classic Jersey</td><td>Short sleeve classic breathable jersey with superior moisture control, front zipper, and 3 back pockets.</td><td>Yellow</td><td>XL</td><td>U</td><td>41.5723</td><td>53.99</td></tr><tr><td>492</td><td>16</td><td>FR-T98Y-60</td><td>HL Touring Frame - Yellow, 60</td><td>HL Touring Frame</td><td>The HL aluminum frame is custom-shaped for both good looks and strength; it will withstand the most rigorous challenges of daily riding. Men's version.</td><td>Yellow</td><td>60</td><td>U</td><td>601.7437</td><td>1003.91</td></tr><tr><td>493</td><td>16</td><td>FR-T67Y-62</td><td>LL Touring Frame - Yellow, 62</td><td>LL Touring Frame</td><td>Lightweight butted aluminum frame provides a more upright riding position for a trip around town.  Our ground-breaking design provides optimum comfort.</td><td>Yellow</td><td>62</td><td>U</td><td>199.8519</td><td>333.42</td></tr><tr><td>494</td><td>16</td><td>FR-T98Y-46</td><td>HL Touring Frame - Yellow, 46</td><td>HL Touring Frame</td><td>The HL aluminum frame is custom-shaped for both good looks and strength; it will withstand the most rigorous challenges of daily riding. Men's version.</td><td>Yellow</td><td>46</td><td>U</td><td>601.7437</td><td>1003.91</td></tr><tr><td>495</td><td>16</td><td>FR-T98Y-50</td><td>HL Touring Frame - Yellow, 50</td><td>HL Touring Frame</td><td>The HL aluminum frame is custom-shaped for both good looks and strength; it will withstand the most rigorous challenges of daily riding. Men's version.</td><td>Yellow</td><td>50</td><td>U</td><td>601.7437</td><td>1003.91</td></tr><tr><td>496</td><td>16</td><td>FR-T98Y-54</td><td>HL Touring Frame - Yellow, 54</td><td>HL Touring Frame</td><td>The HL aluminum frame is custom-shaped for both good looks and strength; it will withstand the most rigorous challenges of daily riding. Men's version.</td><td>Yellow</td><td>54</td><td>U</td><td>601.7437</td><td>1003.91</td></tr><tr><td>497</td><td>16</td><td>FR-T98U-46</td><td>HL Touring Frame - Blue, 46</td><td>HL Touring Frame</td><td>The HL aluminum frame is custom-shaped for both good looks and strength; it will withstand the most rigorous challenges of daily riding. Men's version.</td><td>Blue</td><td>46</td><td>U</td><td>601.7437</td><td>1003.91</td></tr><tr><td>498</td><td>16</td><td>FR-T98U-50</td><td>HL Touring Frame - Blue, 50</td><td>HL Touring Frame</td><td>The HL aluminum frame is custom-shaped for both good looks and strength; it will withstand the most rigorous challenges of daily riding. Men's version.</td><td>Blue</td><td>50</td><td>U</td><td>601.7437</td><td>1003.91</td></tr><tr><td>499</td><td>16</td><td>FR-T98U-54</td><td>HL Touring Frame - Blue, 54</td><td>HL Touring Frame</td><td>The HL aluminum frame is custom-shaped for both good looks and strength; it will withstand the most rigorous challenges of daily riding. Men's version.</td><td>Blue</td><td>54</td><td>U</td><td>601.7437</td><td>1003.91</td></tr><tr><td>500</td><td>16</td><td>FR-T98U-60</td><td>HL Touring Frame - Blue, 60</td><td>HL Touring Frame</td><td>The HL aluminum frame is custom-shaped for both good looks and strength; it will withstand the most rigorous challenges of daily riding. Men's version.</td><td>Blue</td><td>60</td><td>U</td><td>601.7437</td><td>1003.91</td></tr><tr><td>501</td><td>9</td><td>RD-2308</td><td>Rear Derailleur</td><td>Rear Derailleur</td><td>Wide-link design.</td><td>Silver</td><td>0</td><td>0</td><td>53.9282</td><td>121.46</td></tr><tr><td>502</td><td>16</td><td>FR-T67U-50</td><td>LL Touring Frame - Blue, 50</td><td>LL Touring Frame</td><td>Lightweight butted aluminum frame provides a more upright riding position for a trip around town.  Our ground-breaking design provides optimum comfort.</td><td>Blue</td><td>50</td><td>U</td><td>199.8519</td><td>333.42</td></tr><tr><td>503</td><td>16</td><td>FR-T67U-54</td><td>LL Touring Frame - Blue, 54</td><td>LL Touring Frame</td><td>Lightweight butted aluminum frame provides a more upright riding position for a trip around town.  Our ground-breaking design provides optimum comfort.</td><td>Blue</td><td>54</td><td>U</td><td>199.8519</td><td>333.42</td></tr><tr><td>504</td><td>16</td><td>FR-T67U-58</td><td>LL Touring Frame - Blue, 58</td><td>LL Touring Frame</td><td>Lightweight butted aluminum frame provides a more upright riding position for a trip around town.  Our ground-breaking design provides optimum comfort.</td><td>Blue</td><td>58</td><td>U</td><td>199.8519</td><td>333.42</td></tr><tr><td>505</td><td>16</td><td>FR-T67U-62</td><td>LL Touring Frame - Blue, 62</td><td>LL Touring Frame</td><td>Lightweight butted aluminum frame provides a more upright riding position for a trip around town.  Our ground-breaking design provides optimum comfort.</td><td>Blue</td><td>62</td><td>U</td><td>199.8519</td><td>333.42</td></tr><tr><td>506</td><td>16</td><td>FR-T67Y-44</td><td>LL Touring Frame - Yellow, 44</td><td>LL Touring Frame</td><td>Lightweight butted aluminum frame provides a more upright riding position for a trip around town.  Our ground-breaking design provides optimum comfort.</td><td>Yellow</td><td>44</td><td>U</td><td>199.8519</td><td>333.42</td></tr><tr><td>507</td><td>16</td><td>FR-T67Y-50</td><td>LL Touring Frame - Yellow, 50</td><td>LL Touring Frame</td><td>Lightweight butted aluminum frame provides a more upright riding position for a trip around town.  Our ground-breaking design provides optimum comfort.</td><td>Yellow</td><td>50</td><td>U</td><td>199.8519</td><td>333.42</td></tr><tr><td>508</td><td>16</td><td>FR-T67Y-54</td><td>LL Touring Frame - Yellow, 54</td><td>LL Touring Frame</td><td>Lightweight butted aluminum frame provides a more upright riding position for a trip around town.  Our ground-breaking design provides optimum comfort.</td><td>Yellow</td><td>54</td><td>U</td><td>199.8519</td><td>333.42</td></tr><tr><td>509</td><td>16</td><td>FR-T67Y-58</td><td>LL Touring Frame - Yellow, 58</td><td>LL Touring Frame</td><td>Lightweight butted aluminum frame provides a more upright riding position for a trip around town.  Our ground-breaking design provides optimum comfort.</td><td>Yellow</td><td>58</td><td>U</td><td>199.8519</td><td>333.42</td></tr><tr><td>510</td><td>16</td><td>FR-T67U-44</td><td>LL Touring Frame - Blue, 44</td><td>LL Touring Frame</td><td>Lightweight butted aluminum frame provides a more upright riding position for a trip around town.  Our ground-breaking design provides optimum comfort.</td><td>Blue</td><td>44</td><td>U</td><td>199.8519</td><td>333.42</td></tr><tr><td>511</td><td>12</td><td>FR-M63S-40</td><td>ML Mountain Frame-W - Silver, 40</td><td>ML Mountain Frame-W</td><td>The ML frame is a heat-treated aluminum frame made with the same detail and quality as our HL frame. It offers superior performance. Men's version.</td><td>Silver</td><td>40</td><td>W</td><td>199.3757</td><td>364.09</td></tr><tr><td>512</td><td>12</td><td>FR-M63S-42</td><td>ML Mountain Frame-W - Silver, 42</td><td>ML Mountain Frame-W</td><td>The ML frame is a heat-treated aluminum frame made with the same detail and quality as our HL frame. It offers superior performance. Men's version.</td><td>Silver</td><td>42</td><td>W</td><td>199.3757</td><td>364.09</td></tr><tr><td>513</td><td>12</td><td>FR-M63S-46</td><td>ML Mountain Frame-W - Silver, 46</td><td>ML Mountain Frame-W</td><td>The ML frame is a heat-treated aluminum frame made with the same detail and quality as our HL frame. It offers superior performance. Men's version.</td><td>Silver</td><td>46</td><td>W</td><td>199.3757</td><td>364.09</td></tr><tr><td>514</td><td>6</td><td>RB-9231</td><td>Rear Brakes</td><td>Rear Brakes</td><td>0</td><td>Silver</td><td>0</td><td>0</td><td>47.286</td><td>106.5</td></tr><tr><td>515</td><td>15</td><td>SE-M236</td><td>LL Mountain Seat/Saddle</td><td>LL Mountain Seat/Saddle 2</td><td>Synthetic leather. Features gel for increased comfort.</td><td>NA</td><td>0</td><td>0</td><td>12.0413</td><td>27.12</td></tr><tr><td>516</td><td>15</td><td>SE-M798</td><td>ML Mountain Seat/Saddle</td><td>ML Mountain Seat/Saddle 2</td><td>Designed to absorb shock.</td><td>NA</td><td>0</td><td>0</td><td>17.3782</td><td>39.14</td></tr><tr><td>517</td><td>15</td><td>SE-M940</td><td>HL Mountain Seat/Saddle</td><td>HL Mountain Seat/Saddle 2</td><td>Anatomic design for a full-day of riding in comfort. Durable leather.</td><td>NA</td><td>0</td><td>0</td><td>23.3722</td><td>52.64</td></tr><tr><td>518</td><td>15</td><td>SE-R581</td><td>LL Road Seat/Saddle</td><td>LL Road Seat/Saddle 1</td><td>Lightweight foam-padded saddle.</td><td>NA</td><td>0</td><td>0</td><td>12.0413</td><td>27.12</td></tr><tr><td>519</td><td>15</td><td>SE-R908</td><td>ML Road Seat/Saddle</td><td>ML Road Seat/Saddle 2</td><td>Rubber bumpers absorb bumps.</td><td>NA</td><td>0</td><td>0</td><td>17.3782</td><td>39.14</td></tr><tr><td>520</td><td>15</td><td>SE-R995</td><td>HL Road Seat/Saddle</td><td>HL Road Seat/Saddle 2</td><td>Lightweight kevlar racing saddle. Leather.</td><td>NA</td><td>0</td><td>0</td><td>23.3722</td><td>52.64</td></tr><tr><td>521</td><td>15</td><td>SE-T312</td><td>LL Touring Seat/Saddle</td><td>LL Touring Seat/Saddle</td><td>Comfortable, ergonomically shaped gel saddle.</td><td>NA</td><td>0</td><td>0</td><td>12.0413</td><td>27.12</td></tr><tr><td>522</td><td>15</td><td>SE-T762</td><td>ML Touring Seat/Saddle</td><td>ML Touring Seat/Saddle</td><td>New design relieves pressure for long rides.</td><td>NA</td><td>0</td><td>0</td><td>17.3782</td><td>39.14</td></tr><tr><td>523</td><td>15</td><td>SE-T924</td><td>HL Touring Seat/Saddle</td><td>HL Touring Seat/Saddle</td><td>Cut-out shell for a more comfortable ride.</td><td>NA</td><td>0</td><td>0</td><td>23.3722</td><td>52.64</td></tr><tr><td>524</td><td>12</td><td>FR-M21S-42</td><td>LL Mountain Frame - Silver, 42</td><td>LL Mountain Frame</td><td>Our best value utilizing the same, ground-breaking frame technology as the ML aluminum frame.</td><td>Silver</td><td>42</td><td>U</td><td>144.5938</td><td>264.05</td></tr><tr><td>525</td><td>12</td><td>FR-M21S-44</td><td>LL Mountain Frame - Silver, 44</td><td>LL Mountain Frame</td><td>Our best value utilizing the same, ground-breaking frame technology as the ML aluminum frame.</td><td>Silver</td><td>44</td><td>U</td><td>144.5938</td><td>264.05</td></tr><tr><td>526</td><td>12</td><td>FR-M21S-48</td><td>LL Mountain Frame - Silver, 48</td><td>LL Mountain Frame</td><td>Our best value utilizing the same, ground-breaking frame technology as the ML aluminum frame.</td><td>Silver</td><td>48</td><td>U</td><td>144.5938</td><td>264.05</td></tr><tr><td>527</td><td>12</td><td>FR-M21S-52</td><td>LL Mountain Frame - Silver, 52</td><td>LL Mountain Frame</td><td>Our best value utilizing the same, ground-breaking frame technology as the ML aluminum frame.</td><td>Silver</td><td>52</td><td>U</td><td>144.5938</td><td>264.05</td></tr><tr><td>528</td><td>37</td><td>TT-M928</td><td>Mountain Tire Tube</td><td>Mountain Tire Tube</td><td>Self-sealing tube.</td><td>NA</td><td>0</td><td>0</td><td>1.8663</td><td>4.99</td></tr><tr><td>529</td><td>37</td><td>TT-R982</td><td>Road Tire Tube</td><td>Road Tire Tube</td><td>Conventional all-purpose tube.</td><td>NA</td><td>0</td><td>0</td><td>1.4923</td><td>3.99</td></tr><tr><td>530</td><td>37</td><td>TT-T092</td><td>Touring Tire Tube</td><td>Touring Tire Tube</td><td>General purpose tube.</td><td>NA</td><td>0</td><td>0</td><td>1.8663</td><td>4.99</td></tr><tr><td>531</td><td>12</td><td>FR-M21B-42</td><td>LL Mountain Frame - Black, 42</td><td>LL Mountain Frame</td><td>Our best value utilizing the same, ground-breaking frame technology as the ML aluminum frame.</td><td>Black</td><td>42</td><td>U</td><td>136.785</td><td>249.79</td></tr><tr><td>532</td><td>12</td><td>FR-M21B-44</td><td>LL Mountain Frame - Black, 44</td><td>LL Mountain Frame</td><td>Our best value utilizing the same, ground-breaking frame technology as the ML aluminum frame.</td><td>Black</td><td>44</td><td>U</td><td>136.785</td><td>249.79</td></tr><tr><td>533</td><td>12</td><td>FR-M21B-48</td><td>LL Mountain Frame - Black, 48</td><td>LL Mountain Frame</td><td>Our best value utilizing the same, ground-breaking frame technology as the ML aluminum frame.</td><td>Black</td><td>48</td><td>U</td><td>136.785</td><td>249.79</td></tr><tr><td>534</td><td>12</td><td>FR-M21B-52</td><td>LL Mountain Frame - Black, 52</td><td>LL Mountain Frame</td><td>Our best value utilizing the same, ground-breaking frame technology as the ML aluminum frame.</td><td>Black</td><td>52</td><td>U</td><td>136.785</td><td>249.79</td></tr><tr><td>535</td><td>37</td><td>TI-M267</td><td>LL Mountain Tire</td><td>LL Mountain Tire</td><td>Comparible traction, less expensive wire bead casing.</td><td>NA</td><td>0</td><td>0</td><td>9.3463</td><td>24.99</td></tr><tr><td>536</td><td>37</td><td>TI-M602</td><td>ML Mountain Tire</td><td>ML Mountain Tire</td><td>Great traction, high-density rubber.</td><td>NA</td><td>0</td><td>0</td><td>11.2163</td><td>29.99</td></tr><tr><td>537</td><td>37</td><td>TI-M823</td><td>HL Mountain Tire</td><td>HL Mountain Tire</td><td>Incredible traction, lightweight carbon reinforced.</td><td>NA</td><td>0</td><td>0</td><td>13.09</td><td>35</td></tr><tr><td>538</td><td>37</td><td>TI-R092</td><td>LL Road Tire</td><td>LL Road Tire</td><td>Same great treads as more expensive tire with a less expensive wire bead casing.</td><td>NA</td><td>0</td><td>0</td><td>8.0373</td><td>21.49</td></tr><tr><td>539</td><td>37</td><td>TI-R628</td><td>ML Road Tire</td><td>ML Road Tire</td><td>Higher density rubber.</td><td>NA</td><td>0</td><td>0</td><td>9.3463</td><td>24.99</td></tr><tr><td>540</td><td>37</td><td>TI-R982</td><td>HL Road Tire</td><td>HL Road Tire</td><td>Lightweight carbon reinforced  for an unrivaled ride at an un-compromised weight.</td><td>NA</td><td>0</td><td>0</td><td>12.1924</td><td>32.6</td></tr><tr><td>541</td><td>37</td><td>TI-T723</td><td>Touring Tire</td><td>Touring Tire</td><td>High-density rubber.</td><td>NA</td><td>0</td><td>0</td><td>10.8423</td><td>28.99</td></tr><tr><td>542</td><td>13</td><td>PD-M282</td><td>LL Mountain Pedal</td><td>LL Mountain Pedal</td><td>Expanded platform so you can ride in any shoes; great for all-around riding.</td><td>Silver/Black</td><td>0</td><td>0</td><td>17.9776</td><td>40.49</td></tr><tr><td>543</td><td>13</td><td>PD-M340</td><td>ML Mountain Pedal</td><td>ML Mountain Pedal</td><td>Lightweight, durable, clipless pedal with adjustable tension.</td><td>Silver/Black</td><td>0</td><td>0</td><td>27.568</td><td>62.09</td></tr><tr><td>544</td><td>13</td><td>PD-M562</td><td>HL Mountain Pedal</td><td>HL Mountain Pedal</td><td>Stainless steel; designed to shed mud easily.</td><td>Silver/Black</td><td>0</td><td>0</td><td>35.9596</td><td>80.99</td></tr><tr><td>545</td><td>13</td><td>PD-R347</td><td>LL Road Pedal</td><td>LL Road Pedal</td><td>Clipless pedals - aluminum.</td><td>Silver/Black</td><td>0</td><td>0</td><td>17.9776</td><td>40.49</td></tr><tr><td>546</td><td>13</td><td>PD-R563</td><td>ML Road Pedal</td><td>ML Road Pedal</td><td>Lightweight aluminum alloy construction.</td><td>Silver/Black</td><td>0</td><td>0</td><td>27.568</td><td>62.09</td></tr><tr><td>547</td><td>13</td><td>PD-R853</td><td>HL Road Pedal</td><td>HL Road Pedal</td><td>Top-of-the-line clipless pedals with adjustable tension.</td><td>Silver/Black</td><td>0</td><td>0</td><td>35.9596</td><td>80.99</td></tr><tr><td>548</td><td>13</td><td>PD-T852</td><td>Touring Pedal</td><td>Touring Pedal</td><td>A stable pedal for all-day riding.</td><td>Silver/Black</td><td>0</td><td>0</td><td>35.9596</td><td>80.99</td></tr><tr><td>549</td><td>12</td><td>FR-M63S-38</td><td>ML Mountain Frame-W - Silver, 38</td><td>ML Mountain Frame-W</td><td>The ML frame is a heat-treated aluminum frame made with the same detail and quality as our HL frame. It offers superior performance. Men's version.</td><td>Silver</td><td>38</td><td>W</td><td>199.3757</td><td>364.09</td></tr><tr><td>550</td><td>12</td><td>FR-M21B-40</td><td>LL Mountain Frame - Black, 40</td><td>LL Mountain Frame</td><td>Our best value utilizing the same, ground-breaking frame technology as the ML aluminum frame.</td><td>Black</td><td>40</td><td>U</td><td>136.785</td><td>249.79</td></tr><tr><td>551</td><td>12</td><td>FR-M21S-40</td><td>LL Mountain Frame - Silver, 40</td><td>LL Mountain Frame</td><td>Our best value utilizing the same, ground-breaking frame technology as the ML aluminum frame.</td><td>Silver</td><td>40</td><td>U</td><td>144.5938</td><td>264.05</td></tr><tr><td>552</td><td>9</td><td>FD-2342</td><td>Front Derailleur</td><td>Front Derailleur</td><td>Wide-link design.</td><td>Silver</td><td>0</td><td>0</td><td>40.6216</td><td>91.49</td></tr><tr><td>553</td><td>4</td><td>HB-T721</td><td>LL Touring Handlebars</td><td>LL Touring Handlebars</td><td>Unique shape reduces fatigue for entry level riders.</td><td>NA</td><td>0</td><td>0</td><td>20.464</td><td>46.09</td></tr><tr><td>554</td><td>4</td><td>HB-T928</td><td>HL Touring Handlebars</td><td>HL Touring Handlebars</td><td>A light yet stiff aluminum bar for long distance riding.</td><td>NA</td><td>0</td><td>0</td><td>40.6571</td><td>91.57</td></tr><tr><td>555</td><td>6</td><td>FB-9873</td><td>Front Brakes</td><td>Front Brakes</td><td>All-weather brake pads; provides superior stopping by applying more surface to the rim.</td><td>Silver</td><td>0</td><td>0</td><td>47.286</td><td>106.5</td></tr><tr><td>556</td><td>8</td><td>CS-4759</td><td>LL Crankset</td><td>LL Crankset</td><td>Super rigid spindle.</td><td>Black</td><td>0</td><td>0</td><td>77.9176</td><td>175.49</td></tr><tr><td>557</td><td>8</td><td>CS-6583</td><td>ML Crankset</td><td>ML Crankset</td><td>High-strength crank arm.</td><td>Black</td><td>0</td><td>0</td><td>113.8816</td><td>256.49</td></tr><tr><td>558</td><td>8</td><td>CS-9183</td><td>HL Crankset</td><td>HL Crankset</td><td>Triple crankset; alumunim crank arm; flawless shifting.</td><td>Black</td><td>0</td><td>0</td><td>179.8156</td><td>404.99</td></tr><tr><td>559</td><td>7</td><td>CH-0234</td><td>Chain</td><td>Chain</td><td>Superior shifting performance.</td><td>Silver</td><td>0</td><td>0</td><td>8.9866</td><td>20.24</td></tr><tr><td>560</td><td>3</td><td>BK-T44U-60</td><td>Touring-2000 Blue, 60</td><td>Touring-2000</td><td>The plush custom saddle keeps you riding all day,  and there's plenty of space to add panniers and bike bags to the newly-redesigned carrier.  This bike has stability when fully-loaded.</td><td>Blue</td><td>60</td><td>U</td><td>755.1508</td><td>1214.85</td></tr><tr><td>561</td><td>3</td><td>BK-T79Y-46</td><td>Touring-1000 Yellow, 46</td><td>Touring-1000</td><td>Travel in style and comfort. Designed for maximum comfort and safety. Wide gear range takes on all hills. High-tech aluminum alloy construction provides durability without added weight.</td><td>Yellow</td><td>46</td><td>U</td><td>1481.9379</td><td>2384.07</td></tr><tr><td>562</td><td>3</td><td>BK-T79Y-50</td><td>Touring-1000 Yellow, 50</td><td>Touring-1000</td><td>Travel in style and comfort. Designed for maximum comfort and safety. Wide gear range takes on all hills. High-tech aluminum alloy construction provides durability without added weight.</td><td>Yellow</td><td>50</td><td>U</td><td>1481.9379</td><td>2384.07</td></tr><tr><td>563</td><td>3</td><td>BK-T79Y-54</td><td>Touring-1000 Yellow, 54</td><td>Touring-1000</td><td>Travel in style and comfort. Designed for maximum comfort and safety. Wide gear range takes on all hills. High-tech aluminum alloy construction provides durability without added weight.</td><td>Yellow</td><td>54</td><td>U</td><td>1481.9379</td><td>2384.07</td></tr><tr><td>564</td><td>3</td><td>BK-T79Y-60</td><td>Touring-1000 Yellow, 60</td><td>Touring-1000</td><td>Travel in style and comfort. Designed for maximum comfort and safety. Wide gear range takes on all hills. High-tech aluminum alloy construction provides durability without added weight.</td><td>Yellow</td><td>60</td><td>U</td><td>1481.9379</td><td>2384.07</td></tr><tr><td>565</td><td>3</td><td>BK-T18U-54</td><td>Touring-3000 Blue, 54</td><td>Touring-3000</td><td>All-occasion value bike with our basic comfort and safety features. Offers wider, more stable tires for a ride around town or weekend trip.</td><td>Blue</td><td>54</td><td>U</td><td>461.4448</td><td>742.35</td></tr><tr><td>566</td><td>3</td><td>BK-T18U-58</td><td>Touring-3000 Blue, 58</td><td>Touring-3000</td><td>All-occasion value bike with our basic comfort and safety features. Offers wider, more stable tires for a ride around town or weekend trip.</td><td>Blue</td><td>58</td><td>U</td><td>461.4448</td><td>742.35</td></tr><tr><td>567</td><td>3</td><td>BK-T18U-62</td><td>Touring-3000 Blue, 62</td><td>Touring-3000</td><td>All-occasion value bike with our basic comfort and safety features. Offers wider, more stable tires for a ride around town or weekend trip.</td><td>Blue</td><td>62</td><td>U</td><td>461.4448</td><td>742.35</td></tr><tr><td>568</td><td>3</td><td>BK-T18Y-44</td><td>Touring-3000 Yellow, 44</td><td>Touring-3000</td><td>All-occasion value bike with our basic comfort and safety features. Offers wider, more stable tires for a ride around town or weekend trip.</td><td>Yellow</td><td>44</td><td>U</td><td>461.4448</td><td>742.35</td></tr><tr><td>569</td><td>3</td><td>BK-T18Y-50</td><td>Touring-3000 Yellow, 50</td><td>Touring-3000</td><td>All-occasion value bike with our basic comfort and safety features. Offers wider, more stable tires for a ride around town or weekend trip.</td><td>Yellow</td><td>50</td><td>U</td><td>461.4448</td><td>742.35</td></tr><tr><td>570</td><td>3</td><td>BK-T18Y-54</td><td>Touring-3000 Yellow, 54</td><td>Touring-3000</td><td>All-occasion value bike with our basic comfort and safety features. Offers wider, more stable tires for a ride around town or weekend trip.</td><td>Yellow</td><td>54</td><td>U</td><td>461.4448</td><td>742.35</td></tr><tr><td>571</td><td>3</td><td>BK-T18Y-58</td><td>Touring-3000 Yellow, 58</td><td>Touring-3000</td><td>All-occasion value bike with our basic comfort and safety features. Offers wider, more stable tires for a ride around town or weekend trip.</td><td>Yellow</td><td>58</td><td>U</td><td>461.4448</td><td>742.35</td></tr><tr><td>572</td><td>3</td><td>BK-T18Y-62</td><td>Touring-3000 Yellow, 62</td><td>Touring-3000</td><td>All-occasion value bike with our basic comfort and safety features. Offers wider, more stable tires for a ride around town or weekend trip.</td><td>Yellow</td><td>62</td><td>U</td><td>461.4448</td><td>742.35</td></tr><tr><td>573</td><td>3</td><td>BK-T79U-46</td><td>Touring-1000 Blue, 46</td><td>Touring-1000</td><td>Travel in style and comfort. Designed for maximum comfort and safety. Wide gear range takes on all hills. High-tech aluminum alloy construction provides durability without added weight.</td><td>Blue</td><td>46</td><td>U</td><td>1481.9379</td><td>2384.07</td></tr><tr><td>574</td><td>3</td><td>BK-T79U-50</td><td>Touring-1000 Blue, 50</td><td>Touring-1000</td><td>Travel in style and comfort. Designed for maximum comfort and safety. Wide gear range takes on all hills. High-tech aluminum alloy construction provides durability without added weight.</td><td>Blue</td><td>50</td><td>U</td><td>1481.9379</td><td>2384.07</td></tr><tr><td>575</td><td>3</td><td>BK-T79U-54</td><td>Touring-1000 Blue, 54</td><td>Touring-1000</td><td>Travel in style and comfort. Designed for maximum comfort and safety. Wide gear range takes on all hills. High-tech aluminum alloy construction provides durability without added weight.</td><td>Blue</td><td>54</td><td>U</td><td>1481.9379</td><td>2384.07</td></tr><tr><td>576</td><td>3</td><td>BK-T79U-60</td><td>Touring-1000 Blue, 60</td><td>Touring-1000</td><td>Travel in style and comfort. Designed for maximum comfort and safety. Wide gear range takes on all hills. High-tech aluminum alloy construction provides durability without added weight.</td><td>Blue</td><td>60</td><td>U</td><td>1481.9379</td><td>2384.07</td></tr><tr><td>577</td><td>3</td><td>BK-T44U-46</td><td>Touring-2000 Blue, 46</td><td>Touring-2000</td><td>The plush custom saddle keeps you riding all day,  and there's plenty of space to add panniers and bike bags to the newly-redesigned carrier.  This bike has stability when fully-loaded.</td><td>Blue</td><td>46</td><td>U</td><td>755.1508</td><td>1214.85</td></tr><tr><td>578</td><td>3</td><td>BK-T44U-50</td><td>Touring-2000 Blue, 50</td><td>Touring-2000</td><td>The plush custom saddle keeps you riding all day,  and there's plenty of space to add panniers and bike bags to the newly-redesigned carrier.  This bike has stability when fully-loaded.</td><td>Blue</td><td>50</td><td>U</td><td>755.1508</td><td>1214.85</td></tr><tr><td>579</td><td>3</td><td>BK-T44U-54</td><td>Touring-2000 Blue, 54</td><td>Touring-2000</td><td>The plush custom saddle keeps you riding all day,  and there's plenty of space to add panniers and bike bags to the newly-redesigned carrier.  This bike has stability when fully-loaded.</td><td>Blue</td><td>54</td><td>U</td><td>755.1508</td><td>1214.85</td></tr><tr><td>580</td><td>2</td><td>BK-R79Y-40</td><td>Road-350-W Yellow, 40</td><td>Road-350-W</td><td>Cross-train, race, or just socialize on a sleek, aerodynamic bike designed for a woman.  Advanced seat technology provides comfort all day.</td><td>Yellow</td><td>40</td><td>W</td><td>1082.51</td><td>1700.99</td></tr><tr><td>581</td><td>2</td><td>BK-R79Y-42</td><td>Road-350-W Yellow, 42</td><td>Road-350-W</td><td>Cross-train, race, or just socialize on a sleek, aerodynamic bike designed for a woman.  Advanced seat technology provides comfort all day.</td><td>Yellow</td><td>42</td><td>W</td><td>1082.51</td><td>1700.99</td></tr><tr><td>582</td><td>2</td><td>BK-R79Y-44</td><td>Road-350-W Yellow, 44</td><td>Road-350-W</td><td>Cross-train, race, or just socialize on a sleek, aerodynamic bike designed for a woman.  Advanced seat technology provides comfort all day.</td><td>Yellow</td><td>44</td><td>W</td><td>1082.51</td><td>1700.99</td></tr><tr><td>583</td><td>2</td><td>BK-R79Y-48</td><td>Road-350-W Yellow, 48</td><td>Road-350-W</td><td>Cross-train, race, or just socialize on a sleek, aerodynamic bike designed for a woman.  Advanced seat technology provides comfort all day.</td><td>Yellow</td><td>48</td><td>W</td><td>1082.51</td><td>1700.99</td></tr><tr><td>584</td><td>2</td><td>BK-R19B-58</td><td>Road-750 Black, 58</td><td>Road-750</td><td>Entry level adult bike; offers a comfortable ride cross-country or down the block. Quick-release hubs and rims.</td><td>Black</td><td>58</td><td>U</td><td>343.6496</td><td>539.99</td></tr><tr><td>585</td><td>3</td><td>BK-T18U-44</td><td>Touring-3000 Blue, 44</td><td>Touring-3000</td><td>All-occasion value bike with our basic comfort and safety features. Offers wider, more stable tires for a ride around town or weekend trip.</td><td>Blue</td><td>44</td><td>U</td><td>461.4448</td><td>742.35</td></tr><tr><td>586</td><td>3</td><td>BK-T18U-50</td><td>Touring-3000 Blue, 50</td><td>Touring-3000</td><td>All-occasion value bike with our basic comfort and safety features. Offers wider, more stable tires for a ride around town or weekend trip.</td><td>Blue</td><td>50</td><td>U</td><td>461.4448</td><td>742.35</td></tr><tr><td>587</td><td>1</td><td>BK-M38S-38</td><td>Mountain-400-W Silver, 38</td><td>Mountain-400-W</td><td>This bike delivers a high-level of performance on a budget. It is responsive and maneuverable, and offers peace-of-mind when you decide to go off-road.</td><td>Silver</td><td>38</td><td>W</td><td>419.7784</td><td>769.49</td></tr><tr><td>588</td><td>1</td><td>BK-M38S-40</td><td>Mountain-400-W Silver, 40</td><td>Mountain-400-W</td><td>This bike delivers a high-level of performance on a budget. It is responsive and maneuverable, and offers peace-of-mind when you decide to go off-road.</td><td>Silver</td><td>40</td><td>W</td><td>419.7784</td><td>769.49</td></tr><tr><td>589</td><td>1</td><td>BK-M38S-42</td><td>Mountain-400-W Silver, 42</td><td>Mountain-400-W</td><td>This bike delivers a high-level of performance on a budget. It is responsive and maneuverable, and offers peace-of-mind when you decide to go off-road.</td><td>Silver</td><td>42</td><td>W</td><td>419.7784</td><td>769.49</td></tr><tr><td>590</td><td>1</td><td>BK-M38S-46</td><td>Mountain-400-W Silver, 46</td><td>Mountain-400-W</td><td>This bike delivers a high-level of performance on a budget. It is responsive and maneuverable, and offers peace-of-mind when you decide to go off-road.</td><td>Silver</td><td>46</td><td>W</td><td>419.7784</td><td>769.49</td></tr><tr><td>591</td><td>1</td><td>BK-M18S-40</td><td>Mountain-500 Silver, 40</td><td>Mountain-500</td><td>Suitable for any type of riding, on or off-road. Fits any budget. Smooth-shifting with a comfortable ride.</td><td>Silver</td><td>40</td><td>U</td><td>308.2179</td><td>564.99</td></tr><tr><td>592</td><td>1</td><td>BK-M18S-42</td><td>Mountain-500 Silver, 42</td><td>Mountain-500</td><td>Suitable for any type of riding, on or off-road. Fits any budget. Smooth-shifting with a comfortable ride.</td><td>Silver</td><td>42</td><td>U</td><td>308.2179</td><td>564.99</td></tr><tr><td>593</td><td>1</td><td>BK-M18S-44</td><td>Mountain-500 Silver, 44</td><td>Mountain-500</td><td>Suitable for any type of riding, on or off-road. Fits any budget. Smooth-shifting with a comfortable ride.</td><td>Silver</td><td>44</td><td>U</td><td>308.2179</td><td>564.99</td></tr><tr><td>594</td><td>1</td><td>BK-M18S-48</td><td>Mountain-500 Silver, 48</td><td>Mountain-500</td><td>Suitable for any type of riding, on or off-road. Fits any budget. Smooth-shifting with a comfortable ride.</td><td>Silver</td><td>48</td><td>U</td><td>308.2179</td><td>564.99</td></tr><tr><td>595</td><td>1</td><td>BK-M18S-52</td><td>Mountain-500 Silver, 52</td><td>Mountain-500</td><td>Suitable for any type of riding, on or off-road. Fits any budget. Smooth-shifting with a comfortable ride.</td><td>Silver</td><td>52</td><td>U</td><td>308.2179</td><td>564.99</td></tr><tr><td>596</td><td>1</td><td>BK-M18B-40</td><td>Mountain-500 Black, 40</td><td>Mountain-500</td><td>Suitable for any type of riding, on or off-road. Fits any budget. Smooth-shifting with a comfortable ride.</td><td>Black</td><td>40</td><td>U</td><td>294.5797</td><td>539.99</td></tr><tr><td>597</td><td>1</td><td>BK-M18B-42</td><td>Mountain-500 Black, 42</td><td>Mountain-500</td><td>Suitable for any type of riding, on or off-road. Fits any budget. Smooth-shifting with a comfortable ride.</td><td>Black</td><td>42</td><td>U</td><td>294.5797</td><td>539.99</td></tr><tr><td>598</td><td>1</td><td>BK-M18B-44</td><td>Mountain-500 Black, 44</td><td>Mountain-500</td><td>Suitable for any type of riding, on or off-road. Fits any budget. Smooth-shifting with a comfortable ride.</td><td>Black</td><td>44</td><td>U</td><td>294.5797</td><td>539.99</td></tr><tr><td>599</td><td>1</td><td>BK-M18B-48</td><td>Mountain-500 Black, 48</td><td>Mountain-500</td><td>Suitable for any type of riding, on or off-road. Fits any budget. Smooth-shifting with a comfortable ride.</td><td>Black</td><td>48</td><td>U</td><td>294.5797</td><td>539.99</td></tr><tr><td>600</td><td>1</td><td>BK-M18B-52</td><td>Mountain-500 Black, 52</td><td>Mountain-500</td><td>Suitable for any type of riding, on or off-road. Fits any budget. Smooth-shifting with a comfortable ride.</td><td>Black</td><td>52</td><td>U</td><td>294.5797</td><td>539.99</td></tr><tr><td>601</td><td>5</td><td>BB-7421</td><td>LL Bottom Bracket</td><td>LL Bottom Bracket</td><td>Chromoly steel.</td><td>NA</td><td>0</td><td>0</td><td>23.9716</td><td>53.99</td></tr><tr><td>602</td><td>5</td><td>BB-8107</td><td>ML Bottom Bracket</td><td>ML Bottom Bracket</td><td>Aluminum alloy cups; large diameter spindle.</td><td>NA</td><td>0</td><td>0</td><td>44.9506</td><td>101.24</td></tr><tr><td>603</td><td>5</td><td>BB-9108</td><td>HL Bottom Bracket</td><td>HL Bottom Bracket</td><td>Aluminum alloy cups and a hollow axle.</td><td>NA</td><td>0</td><td>0</td><td>53.9416</td><td>121.49</td></tr><tr><td>604</td><td>2</td><td>BK-R19B-44</td><td>Road-750 Black, 44</td><td>Road-750</td><td>Entry level adult bike; offers a comfortable ride cross-country or down the block. Quick-release hubs and rims.</td><td>Black</td><td>44</td><td>U</td><td>343.6496</td><td>539.99</td></tr><tr><td>605</td><td>2</td><td>BK-R19B-48</td><td>Road-750 Black, 48</td><td>Road-750</td><td>Entry level adult bike; offers a comfortable ride cross-country or down the block. Quick-release hubs and rims.</td><td>Black</td><td>48</td><td>U</td><td>343.6496</td><td>539.99</td></tr><tr><td>606</td><td>2</td><td>BK-R19B-52</td><td>Road-750 Black, 52</td><td>Road-750</td><td>Entry level adult bike; offers a comfortable ride cross-country or down the block. Quick-release hubs and rims.</td><td>Black</td><td>52</td><td>U</td><td>343.6496</td><td>539.99</td></tr></tbody></table></div>"
      ]
     },
     "metadata": {
      "application/vnd.databricks.v1+output": {
       "addedWidgets": {},
       "aggData": [],
       "aggError": "",
       "aggOverflow": false,
       "aggSchema": [],
       "aggSeriesLimitReached": false,
       "aggType": "",
       "arguments": {},
       "columnCustomDisplayInfos": {},
       "data": [
        [
         "ProductKey",
         "ProductSubcategoryKey",
         "ProductSKU",
         "ProductName",
         "ModelName",
         "ProductDescription",
         "ProductColor",
         "ProductSize",
         "ProductStyle",
         "ProductCost",
         "ProductPrice"
        ],
        [
         "214",
         "31",
         "HL-U509-R",
         "Sport-100 Helmet, Red",
         "Sport-100",
         "Universal fit, well-vented, lightweight , snap-on visor.",
         "Red",
         "0",
         "0",
         "13.0863",
         "34.99"
        ],
        [
         "215",
         "31",
         "HL-U509",
         "Sport-100 Helmet, Black",
         "Sport-100",
         "Universal fit, well-vented, lightweight , snap-on visor.",
         "Black",
         "0",
         "0",
         "12.0278",
         "33.6442"
        ],
        [
         "218",
         "23",
         "SO-B909-M",
         "Mountain Bike Socks, M",
         "Mountain Bike Socks",
         "Combination of natural and synthetic fibers stays dry and provides just the right cushioning.",
         "White",
         "M",
         "U",
         "3.3963",
         "9.5"
        ],
        [
         "219",
         "23",
         "SO-B909-L",
         "Mountain Bike Socks, L",
         "Mountain Bike Socks",
         "Combination of natural and synthetic fibers stays dry and provides just the right cushioning.",
         "White",
         "L",
         "U",
         "3.3963",
         "9.5"
        ],
        [
         "220",
         "31",
         "HL-U509-B",
         "Sport-100 Helmet, Blue",
         "Sport-100",
         "Universal fit, well-vented, lightweight , snap-on visor.",
         "Blue",
         "0",
         "0",
         "12.0278",
         "33.6442"
        ],
        [
         "223",
         "19",
         "CA-1098",
         "AWC Logo Cap",
         "Cycling Cap",
         "Traditional style with a flip-up brim; one-size fits all.",
         "Multi",
         "0",
         "U",
         "5.7052",
         "8.6442"
        ],
        [
         "226",
         "21",
         "LJ-0192-S",
         "Long-Sleeve Logo Jersey, S",
         "Long-Sleeve Logo Jersey",
         "Unisex long-sleeve AWC logo microfiber cycling jersey",
         "Multi",
         "S",
         "U",
         "31.7244",
         "48.0673"
        ],
        [
         "229",
         "21",
         "LJ-0192-M",
         "Long-Sleeve Logo Jersey, M",
         "Long-Sleeve Logo Jersey",
         "Unisex long-sleeve AWC logo microfiber cycling jersey",
         "Multi",
         "M",
         "U",
         "31.7244",
         "48.0673"
        ],
        [
         "232",
         "21",
         "LJ-0192-L",
         "Long-Sleeve Logo Jersey, L",
         "Long-Sleeve Logo Jersey",
         "Unisex long-sleeve AWC logo microfiber cycling jersey",
         "Multi",
         "L",
         "U",
         "31.7244",
         "48.0673"
        ],
        [
         "235",
         "21",
         "LJ-0192-X",
         "Long-Sleeve Logo Jersey, XL",
         "Long-Sleeve Logo Jersey",
         "Unisex long-sleeve AWC logo microfiber cycling jersey",
         "Multi",
         "XL",
         "U",
         "31.7244",
         "48.0673"
        ],
        [
         "238",
         "14",
         "FR-R92R-62",
         "HL Road Frame - Red, 62",
         "HL Road Frame",
         "Our lightest and best quality aluminum frame made from the newest alloy; it is welded and heat-treated for strength. Our innovative design results in maximum comfort and performance.",
         "Red",
         "62",
         "U",
         "747.9682",
         "1263.4598"
        ],
        [
         "241",
         "14",
         "FR-R92R-44",
         "HL Road Frame - Red, 44",
         "HL Road Frame",
         "Our lightest and best quality aluminum frame made from the newest alloy; it is welded and heat-treated for strength. Our innovative design results in maximum comfort and performance.",
         "Red",
         "44",
         "U",
         "747.9682",
         "1263.4598"
        ],
        [
         "244",
         "14",
         "FR-R92R-48",
         "HL Road Frame - Red, 48",
         "HL Road Frame",
         "Our lightest and best quality aluminum frame made from the newest alloy; it is welded and heat-treated for strength. Our innovative design results in maximum comfort and performance.",
         "Red",
         "48",
         "U",
         "747.9682",
         "1263.4598"
        ],
        [
         "247",
         "14",
         "FR-R92R-52",
         "HL Road Frame - Red, 52",
         "HL Road Frame",
         "Our lightest and best quality aluminum frame made from the newest alloy; it is welded and heat-treated for strength. Our innovative design results in maximum comfort and performance.",
         "Red",
         "52",
         "U",
         "747.9682",
         "1263.4598"
        ],
        [
         "250",
         "14",
         "FR-R92R-56",
         "HL Road Frame - Red, 56",
         "HL Road Frame",
         "Our lightest and best quality aluminum frame made from the newest alloy; it is welded and heat-treated for strength. Our innovative design results in maximum comfort and performance.",
         "Red",
         "56",
         "U",
         "747.9682",
         "1263.4598"
        ],
        [
         "253",
         "14",
         "FR-R38B-58",
         "LL Road Frame - Black, 58",
         "LL Road Frame",
         "The LL Frame provides a safe comfortable ride, while offering superior bump absorption in a value-priced aluminum frame.",
         "Black",
         "58",
         "U",
         "176.1997",
         "297.6346"
        ],
        [
         "256",
         "14",
         "FR-R38B-60",
         "LL Road Frame - Black, 60",
         "LL Road Frame",
         "The LL Frame provides a safe comfortable ride, while offering superior bump absorption in a value-priced aluminum frame.",
         "Black",
         "60",
         "U",
         "176.1997",
         "297.6346"
        ],
        [
         "259",
         "14",
         "FR-R38B-62",
         "LL Road Frame - Black, 62",
         "LL Road Frame",
         "The LL Frame provides a safe comfortable ride, while offering superior bump absorption in a value-priced aluminum frame.",
         "Black",
         "62",
         "U",
         "176.1997",
         "297.6346"
        ],
        [
         "262",
         "14",
         "FR-R38R-44",
         "LL Road Frame - Red, 44",
         "LL Road Frame",
         "The LL Frame provides a safe comfortable ride, while offering superior bump absorption in a value-priced aluminum frame.",
         "Red",
         "44",
         "U",
         "181.4857",
         "306.5636"
        ],
        [
         "264",
         "14",
         "FR-R38R-48",
         "LL Road Frame - Red, 48",
         "LL Road Frame",
         "The LL Frame provides a safe comfortable ride, while offering superior bump absorption in a value-priced aluminum frame.",
         "Red",
         "48",
         "U",
         "181.4857",
         "306.5636"
        ],
        [
         "266",
         "14",
         "FR-R38R-52",
         "LL Road Frame - Red, 52",
         "LL Road Frame",
         "The LL Frame provides a safe comfortable ride, while offering superior bump absorption in a value-priced aluminum frame.",
         "Red",
         "52",
         "U",
         "181.4857",
         "306.5636"
        ],
        [
         "268",
         "14",
         "FR-R38R-58",
         "LL Road Frame - Red, 58",
         "LL Road Frame",
         "The LL Frame provides a safe comfortable ride, while offering superior bump absorption in a value-priced aluminum frame.",
         "Red",
         "58",
         "U",
         "181.4857",
         "306.5636"
        ],
        [
         "270",
         "14",
         "FR-R38R-60",
         "LL Road Frame - Red, 60",
         "LL Road Frame",
         "The LL Frame provides a safe comfortable ride, while offering superior bump absorption in a value-priced aluminum frame.",
         "Red",
         "60",
         "U",
         "181.4857",
         "306.5636"
        ],
        [
         "272",
         "14",
         "FR-R38R-62",
         "LL Road Frame - Red, 62",
         "LL Road Frame",
         "The LL Frame provides a safe comfortable ride, while offering superior bump absorption in a value-priced aluminum frame.",
         "Red",
         "62",
         "U",
         "181.4857",
         "306.5636"
        ],
        [
         "274",
         "14",
         "FR-R72R-44",
         "ML Road Frame - Red, 44",
         "ML Road Frame",
         "Made from the same aluminum alloy as our top-of-the line HL frame, the ML features a lightweight down-tube milled to the perfect diameter for optimal strength. Men's version.",
         "Red",
         "44",
         "U",
         "352.1394",
         "594.83"
        ],
        [
         "275",
         "14",
         "FR-R72R-48",
         "ML Road Frame - Red, 48",
         "ML Road Frame",
         "Made from the same aluminum alloy as our top-of-the line HL frame, the ML features a lightweight down-tube milled to the perfect diameter for optimal strength. Men's version.",
         "Red",
         "48",
         "U",
         "352.1394",
         "594.83"
        ],
        [
         "276",
         "14",
         "FR-R72R-52",
         "ML Road Frame - Red, 52",
         "ML Road Frame",
         "Made from the same aluminum alloy as our top-of-the line HL frame, the ML features a lightweight down-tube milled to the perfect diameter for optimal strength. Men's version.",
         "Red",
         "52",
         "U",
         "352.1394",
         "594.83"
        ],
        [
         "277",
         "14",
         "FR-R72R-58",
         "ML Road Frame - Red, 58",
         "ML Road Frame",
         "Made from the same aluminum alloy as our top-of-the line HL frame, the ML features a lightweight down-tube milled to the perfect diameter for optimal strength. Men's version.",
         "Red",
         "58",
         "U",
         "352.1394",
         "594.83"
        ],
        [
         "278",
         "14",
         "FR-R72R-60",
         "ML Road Frame - Red, 60",
         "ML Road Frame",
         "Made from the same aluminum alloy as our top-of-the line HL frame, the ML features a lightweight down-tube milled to the perfect diameter for optimal strength. Men's version.",
         "Red",
         "60",
         "U",
         "352.1394",
         "594.83"
        ],
        [
         "279",
         "14",
         "FR-R38B-44",
         "LL Road Frame - Black, 44",
         "LL Road Frame",
         "The LL Frame provides a safe comfortable ride, while offering superior bump absorption in a value-priced aluminum frame.",
         "Black",
         "44",
         "U",
         "176.1997",
         "297.6346"
        ],
        [
         "282",
         "14",
         "FR-R38B-48",
         "LL Road Frame - Black, 48",
         "LL Road Frame",
         "The LL Frame provides a safe comfortable ride, while offering superior bump absorption in a value-priced aluminum frame.",
         "Black",
         "48",
         "U",
         "176.1997",
         "297.6346"
        ],
        [
         "285",
         "14",
         "FR-R38B-52",
         "LL Road Frame - Black, 52",
         "LL Road Frame",
         "The LL Frame provides a safe comfortable ride, while offering superior bump absorption in a value-priced aluminum frame.",
         "Black",
         "52",
         "U",
         "176.1997",
         "297.6346"
        ],
        [
         "288",
         "12",
         "FR-M94S-42",
         "HL Mountain Frame - Silver, 42",
         "HL Mountain Frame",
         "Each frame is hand-crafted in our Bothell facility to the optimum diameter and wall-thickness required of a premium mountain frame. The heat-treated welded aluminum frame has a larger diameter tube that absorbs the bumps.",
         "Silver",
         "42",
         "U",
         "623.8403",
         "1204.3248"
        ],
        [
         "291",
         "12",
         "FR-M94S-44",
         "HL Mountain Frame - Silver, 44",
         "HL Mountain Frame",
         "Each frame is hand-crafted in our Bothell facility to the optimum diameter and wall-thickness required of a premium mountain frame. The heat-treated welded aluminum frame has a larger diameter tube that absorbs the bumps.",
         "Silver",
         "44",
         "U",
         "706.811",
         "1364.5"
        ],
        [
         "292",
         "12",
         "FR-M94S-52",
         "HL Mountain Frame - Silver, 48",
         "HL Mountain Frame",
         "Each frame is hand-crafted in our Bothell facility to the optimum diameter and wall-thickness required of a premium mountain frame. The heat-treated welded aluminum frame has a larger diameter tube that absorbs the bumps.",
         "Silver",
         "48",
         "U",
         "706.811",
         "1364.5"
        ],
        [
         "293",
         "12",
         "FR-M94S-46",
         "HL Mountain Frame - Silver, 46",
         "HL Mountain Frame",
         "Each frame is hand-crafted in our Bothell facility to the optimum diameter and wall-thickness required of a premium mountain frame. The heat-treated welded aluminum frame has a larger diameter tube that absorbs the bumps.",
         "Silver",
         "46",
         "U",
         "623.8403",
         "1204.3248"
        ],
        [
         "296",
         "12",
         "FR-M94B-42",
         "HL Mountain Frame - Black, 42",
         "HL Mountain Frame",
         "Each frame is hand-crafted in our Bothell facility to the optimum diameter and wall-thickness required of a premium mountain frame. The heat-treated welded aluminum frame has a larger diameter tube that absorbs the bumps.",
         "Black",
         "42",
         "U",
         "617.0281",
         "1191.1739"
        ],
        [
         "299",
         "12",
         "FR-M94B-44",
         "HL Mountain Frame - Black, 44",
         "HL Mountain Frame",
         "Each frame is hand-crafted in our Bothell facility to the optimum diameter and wall-thickness required of a premium mountain frame. The heat-treated welded aluminum frame has a larger diameter tube that absorbs the bumps.",
         "Black",
         "44",
         "U",
         "699.0928",
         "1349.6"
        ],
        [
         "300",
         "12",
         "FR-M94B-48",
         "HL Mountain Frame - Black, 48",
         "HL Mountain Frame",
         "Each frame is hand-crafted in our Bothell facility to the optimum diameter and wall-thickness required of a premium mountain frame. The heat-treated welded aluminum frame has a larger diameter tube that absorbs the bumps.",
         "Black",
         "48",
         "U",
         "699.0928",
         "1349.6"
        ],
        [
         "301",
         "12",
         "FR-M94B-46",
         "HL Mountain Frame - Black, 46",
         "HL Mountain Frame",
         "Each frame is hand-crafted in our Bothell facility to the optimum diameter and wall-thickness required of a premium mountain frame. The heat-treated welded aluminum frame has a larger diameter tube that absorbs the bumps.",
         "Black",
         "46",
         "U",
         "617.0281",
         "1191.1739"
        ],
        [
         "304",
         "12",
         "FR-M94B-38",
         "HL Mountain Frame - Black, 38",
         "HL Mountain Frame",
         "Each frame is hand-crafted in our Bothell facility to the optimum diameter and wall-thickness required of a premium mountain frame. The heat-treated welded aluminum frame has a larger diameter tube that absorbs the bumps.",
         "Black",
         "38",
         "U",
         "617.0281",
         "1191.1739"
        ],
        [
         "307",
         "12",
         "FR-M94S-38",
         "HL Mountain Frame - Silver, 38",
         "HL Mountain Frame",
         "Each frame is hand-crafted in our Bothell facility to the optimum diameter and wall-thickness required of a premium mountain frame. The heat-treated welded aluminum frame has a larger diameter tube that absorbs the bumps.",
         "Silver",
         "38",
         "U",
         "623.8403",
         "1204.3248"
        ],
        [
         "310",
         "2",
         "BK-R93R-62",
         "Road-150 Red, 62",
         "Road-150",
         "This bike is ridden by race winners. Developed with the Adventure Works Cycles professional race team, it has a extremely light heat-treated aluminum frame, and steering that allows precision control.",
         "Red",
         "62",
         "U",
         "2171.2942",
         "3578.27"
        ],
        [
         "311",
         "2",
         "BK-R93R-44",
         "Road-150 Red, 44",
         "Road-150",
         "This bike is ridden by race winners. Developed with the Adventure Works Cycles professional race team, it has a extremely light heat-treated aluminum frame, and steering that allows precision control.",
         "Red",
         "44",
         "U",
         "2171.2942",
         "3578.27"
        ],
        [
         "312",
         "2",
         "BK-R93R-48",
         "Road-150 Red, 48",
         "Road-150",
         "This bike is ridden by race winners. Developed with the Adventure Works Cycles professional race team, it has a extremely light heat-treated aluminum frame, and steering that allows precision control.",
         "Red",
         "48",
         "U",
         "2171.2942",
         "3578.27"
        ],
        [
         "313",
         "2",
         "BK-R93R-52",
         "Road-150 Red, 52",
         "Road-150",
         "This bike is ridden by race winners. Developed with the Adventure Works Cycles professional race team, it has a extremely light heat-treated aluminum frame, and steering that allows precision control.",
         "Red",
         "52",
         "U",
         "2171.2942",
         "3578.27"
        ],
        [
         "314",
         "2",
         "BK-R93R-56",
         "Road-150 Red, 56",
         "Road-150",
         "This bike is ridden by race winners. Developed with the Adventure Works Cycles professional race team, it has a extremely light heat-treated aluminum frame, and steering that allows precision control.",
         "Red",
         "56",
         "U",
         "2171.2942",
         "3578.27"
        ],
        [
         "315",
         "2",
         "BK-R68R-58",
         "Road-450 Red, 58",
         "Road-450",
         "A true multi-sport bike that offers streamlined riding and a revolutionary design. Aerodynamic design lets you ride with the pros, and the gearing will conquer hilly roads.",
         "Red",
         "58",
         "U",
         "884.7083",
         "1457.99"
        ],
        [
         "316",
         "2",
         "BK-R68R-60",
         "Road-450 Red, 60",
         "Road-450",
         "A true multi-sport bike that offers streamlined riding and a revolutionary design. Aerodynamic design lets you ride with the pros, and the gearing will conquer hilly roads.",
         "Red",
         "60",
         "U",
         "884.7083",
         "1457.99"
        ],
        [
         "317",
         "2",
         "BK-R68R-44",
         "Road-450 Red, 44",
         "Road-450",
         "A true multi-sport bike that offers streamlined riding and a revolutionary design. Aerodynamic design lets you ride with the pros, and the gearing will conquer hilly roads.",
         "Red",
         "44",
         "U",
         "884.7083",
         "1457.99"
        ],
        [
         "318",
         "2",
         "BK-R68R-48",
         "Road-450 Red, 48",
         "Road-450",
         "A true multi-sport bike that offers streamlined riding and a revolutionary design. Aerodynamic design lets you ride with the pros, and the gearing will conquer hilly roads.",
         "Red",
         "48",
         "U",
         "884.7083",
         "1457.99"
        ],
        [
         "319",
         "2",
         "BK-R68R-52",
         "Road-450 Red, 52",
         "Road-450",
         "A true multi-sport bike that offers streamlined riding and a revolutionary design. Aerodynamic design lets you ride with the pros, and the gearing will conquer hilly roads.",
         "Red",
         "52",
         "U",
         "884.7083",
         "1457.99"
        ],
        [
         "320",
         "2",
         "BK-R50R-58",
         "Road-650 Red, 58",
         "Road-650",
         "Value-priced bike with many features of our top-of-the-line models. Has the same light, stiff frame, and the quick acceleration we're famous for.",
         "Red",
         "58",
         "U",
         "413.1463",
         "699.0982"
        ],
        [
         "322",
         "2",
         "BK-R50R-60",
         "Road-650 Red, 60",
         "Road-650",
         "Value-priced bike with many features of our top-of-the-line models. Has the same light, stiff frame, and the quick acceleration we're famous for.",
         "Red",
         "60",
         "U",
         "413.1463",
         "699.0982"
        ],
        [
         "324",
         "2",
         "BK-R50R-62",
         "Road-650 Red, 62",
         "Road-650",
         "Value-priced bike with many features of our top-of-the-line models. Has the same light, stiff frame, and the quick acceleration we're famous for.",
         "Red",
         "62",
         "U",
         "413.1463",
         "699.0982"
        ],
        [
         "326",
         "2",
         "BK-R50R-44",
         "Road-650 Red, 44",
         "Road-650",
         "Value-priced bike with many features of our top-of-the-line models. Has the same light, stiff frame, and the quick acceleration we're famous for.",
         "Red",
         "44",
         "U",
         "413.1463",
         "699.0982"
        ],
        [
         "328",
         "2",
         "BK-R50R-48",
         "Road-650 Red, 48",
         "Road-650",
         "Value-priced bike with many features of our top-of-the-line models. Has the same light, stiff frame, and the quick acceleration we're famous for.",
         "Red",
         "48",
         "U",
         "413.1463",
         "699.0982"
        ],
        [
         "330",
         "2",
         "BK-R50R-52",
         "Road-650 Red, 52",
         "Road-650",
         "Value-priced bike with many features of our top-of-the-line models. Has the same light, stiff frame, and the quick acceleration we're famous for.",
         "Red",
         "52",
         "U",
         "413.1463",
         "699.0982"
        ],
        [
         "332",
         "2",
         "BK-R50B-58",
         "Road-650 Black, 58",
         "Road-650",
         "Value-priced bike with many features of our top-of-the-line models. Has the same light, stiff frame, and the quick acceleration we're famous for.",
         "Black",
         "58",
         "U",
         "413.1463",
         "699.0982"
        ],
        [
         "334",
         "2",
         "BK-R50B-60",
         "Road-650 Black, 60",
         "Road-650",
         "Value-priced bike with many features of our top-of-the-line models. Has the same light, stiff frame, and the quick acceleration we're famous for.",
         "Black",
         "60",
         "U",
         "413.1463",
         "699.0982"
        ],
        [
         "336",
         "2",
         "BK-R50B-62",
         "Road-650 Black, 62",
         "Road-650",
         "Value-priced bike with many features of our top-of-the-line models. Has the same light, stiff frame, and the quick acceleration we're famous for.",
         "Black",
         "62",
         "U",
         "413.1463",
         "699.0982"
        ],
        [
         "338",
         "2",
         "BK-R50B-44",
         "Road-650 Black, 44",
         "Road-650",
         "Value-priced bike with many features of our top-of-the-line models. Has the same light, stiff frame, and the quick acceleration we're famous for.",
         "Black",
         "44",
         "U",
         "413.1463",
         "699.0982"
        ],
        [
         "340",
         "2",
         "BK-R50B-48",
         "Road-650 Black, 48",
         "Road-650",
         "Value-priced bike with many features of our top-of-the-line models. Has the same light, stiff frame, and the quick acceleration we're famous for.",
         "Black",
         "48",
         "U",
         "413.1463",
         "699.0982"
        ],
        [
         "342",
         "2",
         "BK-R50B-52",
         "Road-650 Black, 52",
         "Road-650",
         "Value-priced bike with many features of our top-of-the-line models. Has the same light, stiff frame, and the quick acceleration we're famous for.",
         "Black",
         "52",
         "U",
         "413.1463",
         "699.0982"
        ],
        [
         "344",
         "1",
         "BK-M82S-38",
         "Mountain-100 Silver, 38",
         "Mountain-100",
         "Top-of-the-line competition mountain bike. Performance-enhancing options include the innovative HL Frame, super-smooth front suspension, and traction for all terrain.",
         "Silver",
         "38",
         "U",
         "1912.1544",
         "3399.99"
        ],
        [
         "345",
         "1",
         "BK-M82S-42",
         "Mountain-100 Silver, 42",
         "Mountain-100",
         "Top-of-the-line competition mountain bike. Performance-enhancing options include the innovative HL Frame, super-smooth front suspension, and traction for all terrain.",
         "Silver",
         "42",
         "U",
         "1912.1544",
         "3399.99"
        ],
        [
         "346",
         "1",
         "BK-M82S-44",
         "Mountain-100 Silver, 44",
         "Mountain-100",
         "Top-of-the-line competition mountain bike. Performance-enhancing options include the innovative HL Frame, super-smooth front suspension, and traction for all terrain.",
         "Silver",
         "44",
         "U",
         "1912.1544",
         "3399.99"
        ],
        [
         "347",
         "1",
         "BK-M82S-48",
         "Mountain-100 Silver, 48",
         "Mountain-100",
         "Top-of-the-line competition mountain bike. Performance-enhancing options include the innovative HL Frame, super-smooth front suspension, and traction for all terrain.",
         "Silver",
         "48",
         "U",
         "1912.1544",
         "3399.99"
        ],
        [
         "348",
         "1",
         "BK-M82B-38",
         "Mountain-100 Black, 38",
         "Mountain-100",
         "Top-of-the-line competition mountain bike. Performance-enhancing options include the innovative HL Frame, super-smooth front suspension, and traction for all terrain.",
         "Black",
         "38",
         "U",
         "1898.0944",
         "3374.99"
        ],
        [
         "349",
         "1",
         "BK-M82B-42",
         "Mountain-100 Black, 42",
         "Mountain-100",
         "Top-of-the-line competition mountain bike. Performance-enhancing options include the innovative HL Frame, super-smooth front suspension, and traction for all terrain.",
         "Black",
         "42",
         "U",
         "1898.0944",
         "3374.99"
        ],
        [
         "350",
         "1",
         "BK-M82B-44",
         "Mountain-100 Black, 44",
         "Mountain-100",
         "Top-of-the-line competition mountain bike. Performance-enhancing options include the innovative HL Frame, super-smooth front suspension, and traction for all terrain.",
         "Black",
         "44",
         "U",
         "1898.0944",
         "3374.99"
        ],
        [
         "351",
         "1",
         "BK-M82B-48",
         "Mountain-100 Black, 48",
         "Mountain-100",
         "Top-of-the-line competition mountain bike. Performance-enhancing options include the innovative HL Frame, super-smooth front suspension, and traction for all terrain.",
         "Black",
         "48",
         "U",
         "1898.0944",
         "3374.99"
        ],
        [
         "352",
         "1",
         "BK-M68S-38",
         "Mountain-200 Silver, 38",
         "Mountain-200",
         "Serious back-country riding. Perfect for all levels of competition. Uses the same HL Frame as the Mountain-100.",
         "Silver",
         "38",
         "U",
         "1117.8559",
         "2071.4196"
        ],
        [
         "354",
         "1",
         "BK-M68S-42",
         "Mountain-200 Silver, 42",
         "Mountain-200",
         "Serious back-country riding. Perfect for all levels of competition. Uses the same HL Frame as the Mountain-100.",
         "Silver",
         "42",
         "U",
         "1117.8559",
         "2071.4196"
        ],
        [
         "356",
         "1",
         "BK-M68S-46",
         "Mountain-200 Silver, 46",
         "Mountain-200",
         "Serious back-country riding. Perfect for all levels of competition. Uses the same HL Frame as the Mountain-100.",
         "Silver",
         "46",
         "U",
         "1117.8559",
         "2071.4196"
        ],
        [
         "358",
         "1",
         "BK-M68B-38",
         "Mountain-200 Black, 38",
         "Mountain-200",
         "Serious back-country riding. Perfect for all levels of competition. Uses the same HL Frame as the Mountain-100.",
         "Black",
         "38",
         "U",
         "1105.81",
         "2049.0982"
        ],
        [
         "360",
         "1",
         "BK-M68B-42",
         "Mountain-200 Black, 42",
         "Mountain-200",
         "Serious back-country riding. Perfect for all levels of competition. Uses the same HL Frame as the Mountain-100.",
         "Black",
         "42",
         "U",
         "1105.81",
         "2049.0982"
        ],
        [
         "362",
         "1",
         "BK-M68B-46",
         "Mountain-200 Black, 46",
         "Mountain-200",
         "Serious back-country riding. Perfect for all levels of competition. Uses the same HL Frame as the Mountain-100.",
         "Black",
         "46",
         "U",
         "1105.81",
         "2049.0982"
        ],
        [
         "364",
         "1",
         "BK-M47B-38",
         "Mountain-300 Black, 38",
         "Mountain-300",
         "For true trail addicts.  An extremely durable bike that will go anywhere and keep you in control on challenging terrain - without breaking your budget.",
         "Black",
         "38",
         "U",
         "598.4354",
         "1079.99"
        ],
        [
         "365",
         "1",
         "BK-M47B-40",
         "Mountain-300 Black, 40",
         "Mountain-300",
         "For true trail addicts.  An extremely durable bike that will go anywhere and keep you in control on challenging terrain - without breaking your budget.",
         "Black",
         "40",
         "U",
         "598.4354",
         "1079.99"
        ],
        [
         "366",
         "1",
         "BK-M47B-44",
         "Mountain-300 Black, 44",
         "Mountain-300",
         "For true trail addicts.  An extremely durable bike that will go anywhere and keep you in control on challenging terrain - without breaking your budget.",
         "Black",
         "44",
         "U",
         "598.4354",
         "1079.99"
        ],
        [
         "367",
         "1",
         "BK-M47B-48",
         "Mountain-300 Black, 48",
         "Mountain-300",
         "For true trail addicts.  An extremely durable bike that will go anywhere and keep you in control on challenging terrain - without breaking your budget.",
         "Black",
         "48",
         "U",
         "598.4354",
         "1079.99"
        ],
        [
         "368",
         "2",
         "BK-R89R-44",
         "Road-250 Red, 44",
         "Road-250",
         "Alluminum-alloy frame provides a light, stiff ride, whether you are racing in the velodrome or on a demanding club ride on country roads.",
         "Red",
         "44",
         "U",
         "1518.7864",
         "2443.35"
        ],
        [
         "369",
         "2",
         "BK-R89R-48",
         "Road-250 Red, 48",
         "Road-250",
         "Alluminum-alloy frame provides a light, stiff ride, whether you are racing in the velodrome or on a demanding club ride on country roads.",
         "Red",
         "48",
         "U",
         "1518.7864",
         "2443.35"
        ],
        [
         "370",
         "2",
         "BK-R89R-52",
         "Road-250 Red, 52",
         "Road-250",
         "Alluminum-alloy frame provides a light, stiff ride, whether you are racing in the velodrome or on a demanding club ride on country roads.",
         "Red",
         "52",
         "U",
         "1518.7864",
         "2443.35"
        ],
        [
         "371",
         "2",
         "BK-R89R-58",
         "Road-250 Red, 58",
         "Road-250",
         "Alluminum-alloy frame provides a light, stiff ride, whether you are racing in the velodrome or on a demanding club ride on country roads.",
         "Red",
         "58",
         "U",
         "1320.6838",
         "2181.5625"
        ],
        [
         "373",
         "2",
         "BK-R89B-44",
         "Road-250 Black, 44",
         "Road-250",
         "Alluminum-alloy frame provides a light, stiff ride, whether you are racing in the velodrome or on a demanding club ride on country roads.",
         "Black",
         "44",
         "U",
         "1320.6838",
         "2181.5625"
        ],
        [
         "375",
         "2",
         "BK-R89B-48",
         "Road-250 Black, 48",
         "Road-250",
         "Alluminum-alloy frame provides a light, stiff ride, whether you are racing in the velodrome or on a demanding club ride on country roads.",
         "Black",
         "48",
         "U",
         "1320.6838",
         "2181.5625"
        ],
        [
         "377",
         "2",
         "BK-R89B-52",
         "Road-250 Black, 52",
         "Road-250",
         "Alluminum-alloy frame provides a light, stiff ride, whether you are racing in the velodrome or on a demanding club ride on country roads.",
         "Black",
         "52",
         "U",
         "1320.6838",
         "2181.5625"
        ],
        [
         "379",
         "2",
         "BK-R89B-58",
         "Road-250 Black, 58",
         "Road-250",
         "Alluminum-alloy frame provides a light, stiff ride, whether you are racing in the velodrome or on a demanding club ride on country roads.",
         "Black",
         "58",
         "U",
         "1320.6838",
         "2181.5625"
        ],
        [
         "381",
         "2",
         "BK-R64Y-38",
         "Road-550-W Yellow, 38",
         "Road-550-W",
         "Same technology as all of our Road series bikes, but the frame is sized for a woman.  Perfect all-around bike for road or racing.",
         "Yellow",
         "38",
         "W",
         "605.6492",
         "1000.4375"
        ],
        [
         "383",
         "2",
         "BK-R64Y-40",
         "Road-550-W Yellow, 40",
         "Road-550-W",
         "Same technology as all of our Road series bikes, but the frame is sized for a woman.  Perfect all-around bike for road or racing.",
         "Yellow",
         "40",
         "W",
         "605.6492",
         "1000.4375"
        ],
        [
         "385",
         "2",
         "BK-R64Y-42",
         "Road-550-W Yellow, 42",
         "Road-550-W",
         "Same technology as all of our Road series bikes, but the frame is sized for a woman.  Perfect all-around bike for road or racing.",
         "Yellow",
         "42",
         "W",
         "605.6492",
         "1000.4375"
        ],
        [
         "387",
         "2",
         "BK-R64Y-44",
         "Road-550-W Yellow, 44",
         "Road-550-W",
         "Same technology as all of our Road series bikes, but the frame is sized for a woman.  Perfect all-around bike for road or racing.",
         "Yellow",
         "44",
         "W",
         "605.6492",
         "1000.4375"
        ],
        [
         "389",
         "2",
         "BK-R64Y-48",
         "Road-550-W Yellow, 48",
         "Road-550-W",
         "Same technology as all of our Road series bikes, but the frame is sized for a woman.  Perfect all-around bike for road or racing.",
         "Yellow",
         "48",
         "W",
         "605.6492",
         "1000.4375"
        ],
        [
         "391",
         "10",
         "FK-1639",
         "LL Fork",
         "LL Fork",
         "Stout design absorbs shock and offers more precise steering.",
         "NA",
         "0",
         "0",
         "65.8097",
         "148.22"
        ],
        [
         "392",
         "10",
         "FK-5136",
         "ML Fork",
         "ML Fork",
         "Composite road fork with an aluminum steerer tube.",
         "NA",
         "0",
         "0",
         "77.9176",
         "175.49"
        ],
        [
         "393",
         "10",
         "FK-9939",
         "HL Fork",
         "HL Fork",
         "High-performance carbon road fork with curved legs.",
         "NA",
         "0",
         "0",
         "101.8936",
         "229.49"
        ],
        [
         "394",
         "11",
         "HS-0296",
         "LL Headset",
         "LL Headset",
         "Threadless headset provides quality at an economical price.",
         "NA",
         "0",
         "0",
         "15.1848",
         "34.2"
        ],
        [
         "395",
         "11",
         "HS-2451",
         "ML Headset",
         "ML Headset",
         "Sealed cartridge keeps dirt out.",
         "NA",
         "0",
         "0",
         "45.4168",
         "102.29"
        ],
        [
         "396",
         "11",
         "HS-3479",
         "HL Headset",
         "HL Headset",
         "\"High-quality 1\"\" threadless headset with a grease port for quick lubrication.\"",
         "NA",
         "0",
         "0",
         "55.3801",
         "124.73"
        ],
        [
         "397",
         "4",
         "HB-M243",
         "LL Mountain Handlebars",
         "LL Mountain Handlebars",
         "All-purpose bar for on or off-road.",
         "NA",
         "0",
         "0",
         "17.978",
         "40.4909"
        ],
        [
         "399",
         "4",
         "HB-M763",
         "ML Mountain Handlebars",
         "ML Mountain Handlebars",
         "Tough aluminum alloy bars for downhill.",
         "NA",
         "0",
         "0",
         "24.9932",
         "56.2909"
        ],
        [
         "401",
         "4",
         "HB-M918",
         "HL Mountain Handlebars",
         "HL Mountain Handlebars",
         "Flat bar strong enough for the pro circuit.",
         "NA",
         "0",
         "0",
         "48.5453",
         "109.3364"
        ],
        [
         "403",
         "4",
         "HB-R504",
         "LL Road Handlebars",
         "LL Road Handlebars",
         "Unique shape provides easier reach to the levers.",
         "NA",
         "0",
         "0",
         "17.978",
         "40.4909"
        ],
        [
         "405",
         "4",
         "HB-R720",
         "ML Road Handlebars",
         "ML Road Handlebars",
         "Anatomically shaped aluminum tube bar will suit all riders.",
         "NA",
         "0",
         "0",
         "24.9932",
         "56.2909"
        ],
        [
         "407",
         "4",
         "HB-R956",
         "HL Road Handlebars",
         "HL Road Handlebars",
         "Designed for racers; high-end anatomically shaped bar from aluminum alloy.",
         "NA",
         "0",
         "0",
         "48.5453",
         "109.3364"
        ],
        [
         "409",
         "12",
         "FR-M63B-38",
         "ML Mountain Frame - Black, 38",
         "ML Mountain Frame-W",
         "The ML frame is a heat-treated aluminum frame made with the same detail and quality as our HL frame. It offers superior performance. Men's version.",
         "Black",
         "38",
         "U",
         "185.8193",
         "348.76"
        ],
        [
         "410",
         "17",
         "FW-M423",
         "LL Mountain Front Wheel",
         "LL Mountain Front Wheel",
         "Replacement mountain wheel for entry-level rider.",
         "Black",
         "0",
         "0",
         "26.9708",
         "60.745"
        ],
        [
         "411",
         "17",
         "FW-M762",
         "ML Mountain Front Wheel",
         "ML Mountain Front Wheel",
         "Replacement mountain wheel for the casual to serious rider.",
         "Black",
         "0",
         "0",
         "92.8071",
         "209.025"
        ],
        [
         "412",
         "17",
         "FW-M928",
         "HL Mountain Front Wheel",
         "HL Mountain Front Wheel",
         "High-performance mountain replacement wheel.",
         "Black",
         "0",
         "0",
         "133.2955",
         "300.215"
        ],
        [
         "413",
         "17",
         "FW-R623",
         "LL Road Front Wheel",
         "LL Road Front Wheel",
         "Replacement road front wheel for entry-level cyclist.",
         "Black",
         "0",
         "0",
         "37.9909",
         "85.565"
        ],
        [
         "414",
         "17",
         "FW-R762",
         "ML Road Front Wheel",
         "ML Road Front Wheel",
         "Sturdy alloy features a quick-release hub.",
         "Black",
         "0",
         "0",
         "110.2829",
         "248.385"
        ],
        [
         "415",
         "17",
         "FW-R820",
         "HL Road Front Wheel",
         "HL Road Front Wheel",
         "Strong wheel with double-walled rim.",
         "Black",
         "0",
         "0",
         "146.5466",
         "330.06"
        ],
        [
         "416",
         "17",
         "FW-T905",
         "Touring Front Wheel",
         "Touring Front Wheel",
         "Aerodynamic rims for smooth riding.",
         "Black",
         "0",
         "0",
         "96.7964",
         "218.01"
        ],
        [
         "417",
         "14",
         "FR-R72Y-38",
         "ML Road Frame-W - Yellow, 38",
         "ML Road Frame-W",
         "Made from the same aluminum alloy as our top-of-the line HL frame, the ML features a lightweight down-tube milled to the perfect diameter for optimal strength. Women's version.",
         "Yellow",
         "38",
         "W",
         "300.1188",
         "540.7545"
        ],
        [
         "419",
         "17",
         "RW-M423",
         "LL Mountain Rear Wheel",
         "LL Mountain Rear Wheel",
         "Replacement mountain wheel for entry-level rider.",
         "Black",
         "0",
         "0",
         "38.9588",
         "87.745"
        ],
        [
         "420",
         "17",
         "RW-M762",
         "ML Mountain Rear Wheel",
         "ML Mountain Rear Wheel",
         "Replacement mountain wheel for the casual to serious rider.",
         "Black",
         "0",
         "0",
         "104.7951",
         "236.025"
        ],
        [
         "421",
         "17",
         "RW-M928",
         "HL Mountain Rear Wheel",
         "HL Mountain Rear Wheel",
         "High-performance mountain replacement wheel.",
         "Black",
         "0",
         "0",
         "145.2835",
         "327.215"
        ],
        [
         "422",
         "17",
         "RW-R623",
         "LL Road Rear Wheel",
         "LL Road Rear Wheel",
         "Replacement road rear wheel for entry-level cyclist.",
         "Black",
         "0",
         "0",
         "49.9789",
         "112.565"
        ],
        [
         "423",
         "17",
         "RW-R762",
         "ML Road Rear Wheel",
         "ML Road Rear Wheel",
         "Aluminum alloy rim with stainless steel spokes; built for speed.",
         "Black",
         "0",
         "0",
         "122.2709",
         "275.385"
        ],
        [
         "424",
         "17",
         "RW-R820",
         "HL Road Rear Wheel",
         "HL Road Rear Wheel",
         "Strong rear wheel with double-walled rim.",
         "Black",
         "0",
         "0",
         "158.5346",
         "357.06"
        ],
        [
         "425",
         "17",
         "RW-T905",
         "Touring Rear Wheel",
         "Touring Rear Wheel",
         "Excellent aerodynamic rims guarantee a smooth ride.",
         "Black",
         "0",
         "0",
         "108.7844",
         "245.01"
        ],
        [
         "426",
         "12",
         "FR-M63B-40",
         "ML Mountain Frame - Black, 40",
         "ML Mountain Frame",
         "The ML frame is a heat-treated aluminum frame made with the same detail and quality as our HL frame. It offers superior performance. Women's version.",
         "Black",
         "40",
         "U",
         "185.8193",
         "348.76"
        ],
        [
         "427",
         "12",
         "FR-M63B-44",
         "ML Mountain Frame - Black, 44",
         "ML Mountain Frame",
         "The ML frame is a heat-treated aluminum frame made with the same detail and quality as our HL frame. It offers superior performance. Women's version.",
         "Black",
         "44",
         "U",
         "185.8193",
         "348.76"
        ],
        [
         "428",
         "12",
         "FR-M63B-48",
         "ML Mountain Frame - Black, 48",
         "ML Mountain Frame",
         "The ML frame is a heat-treated aluminum frame made with the same detail and quality as our HL frame. It offers superior performance. Women's version.",
         "Black",
         "48",
         "U",
         "185.8193",
         "348.76"
        ],
        [
         "429",
         "14",
         "FR-R72Y-40",
         "ML Road Frame-W - Yellow, 40",
         "ML Road Frame-W",
         "Made from the same aluminum alloy as our top-of-the line HL frame, the ML features a lightweight down-tube milled to the perfect diameter for optimal strength. Women's version.",
         "Yellow",
         "40",
         "W",
         "300.1188",
         "540.7545"
        ],
        [
         "431",
         "14",
         "FR-R72Y-42",
         "ML Road Frame-W - Yellow, 42",
         "ML Road Frame-W",
         "Made from the same aluminum alloy as our top-of-the line HL frame, the ML features a lightweight down-tube milled to the perfect diameter for optimal strength. Women's version.",
         "Yellow",
         "42",
         "W",
         "300.1188",
         "540.7545"
        ],
        [
         "433",
         "14",
         "FR-R72Y-44",
         "ML Road Frame-W - Yellow, 44",
         "ML Road Frame-W",
         "Made from the same aluminum alloy as our top-of-the line HL frame, the ML features a lightweight down-tube milled to the perfect diameter for optimal strength. Women's version.",
         "Yellow",
         "44",
         "W",
         "300.1188",
         "540.7545"
        ],
        [
         "435",
         "14",
         "FR-R72Y-48",
         "ML Road Frame-W - Yellow, 48",
         "ML Road Frame-W",
         "Made from the same aluminum alloy as our top-of-the line HL frame, the ML features a lightweight down-tube milled to the perfect diameter for optimal strength. Women's version.",
         "Yellow",
         "48",
         "W",
         "300.1188",
         "540.7545"
        ],
        [
         "437",
         "14",
         "FR-R92B-62",
         "HL Road Frame - Black, 62",
         "HL Road Frame",
         "Our lightest and best quality aluminum frame made from the newest alloy; it is welded and heat-treated for strength. Our innovative design results in maximum comfort and performance.",
         "Black",
         "62",
         "U",
         "722.2568",
         "1301.3636"
        ],
        [
         "439",
         "14",
         "FR-R92B-44",
         "HL Road Frame - Black, 44",
         "HL Road Frame",
         "Our lightest and best quality aluminum frame made from the newest alloy; it is welded and heat-treated for strength. Our innovative design results in maximum comfort and performance.",
         "Black",
         "44",
         "U",
         "722.2568",
         "1301.3636"
        ],
        [
         "441",
         "14",
         "FR-R92B-48",
         "HL Road Frame - Black, 48",
         "HL Road Frame",
         "Our lightest and best quality aluminum frame made from the newest alloy; it is welded and heat-treated for strength. Our innovative design results in maximum comfort and performance.",
         "Black",
         "48",
         "U",
         "722.2568",
         "1301.3636"
        ],
        [
         "443",
         "14",
         "FR-R92B-52",
         "HL Road Frame - Black, 52",
         "HL Road Frame",
         "Our lightest and best quality aluminum frame made from the newest alloy; it is welded and heat-treated for strength. Our innovative design results in maximum comfort and performance.",
         "Black",
         "52",
         "U",
         "722.2568",
         "1301.3636"
        ],
        [
         "445",
         "22",
         "SH-M897-S",
         "Men's Sports Shorts, S",
         "Men's Sports Shorts",
         "Men's 8-panel racing shorts - lycra with an elastic waistband and leg grippers.",
         "Black",
         "S",
         "M",
         "24.7459",
         "59.99"
        ],
        [
         "446",
         "35",
         "PA-T100",
         "Touring-Panniers, Large",
         "Touring-Panniers",
         "Durable, water-proof nylon construction with easy access. Large enough for weekend trips.",
         "Grey",
         "0",
         "0",
         "51.5625",
         "125"
        ],
        [
         "447",
         "34",
         "LO-C100",
         "Cable Lock",
         "Cable Lock",
         "Wraps to fit front and rear tires, carrier and 2 keys included.",
         "NA",
         "0",
         "0",
         "10.3125",
         "25"
        ],
        [
         "448",
         "36",
         "PU-0452",
         "Minipump",
         "Minipump",
         "Designed for convenience. Fits in your pocket. Aluminum barrel. 160psi rated.",
         "NA",
         "0",
         "0",
         "8.2459",
         "19.99"
        ],
        [
         "449",
         "36",
         "PU-M044",
         "Mountain Pump",
         "Mountain Pump",
         "Simple and light-weight. Emergency patches stored in handle.",
         "NA",
         "0",
         "0",
         "10.3084",
         "24.99"
        ],
        [
         "450",
         "33",
         "LT-T990",
         "Taillights - Battery-Powered",
         "Taillight",
         "Affordable light for safe night riding - uses 3 AAA batteries",
         "NA",
         "0",
         "0",
         "5.7709",
         "13.99"
        ],
        [
         "451",
         "33",
         "LT-H902",
         "Headlights - Dual-Beam",
         "Headlights - Dual-Beam",
         "Rechargeable dual-beam headlight.",
         "NA",
         "0",
         "0",
         "14.4334",
         "34.99"
        ],
        [
         "452",
         "33",
         "LT-H903",
         "Headlights - Weatherproof",
         "Headlights - Weatherproof",
         "Rugged weatherproof headlight.",
         "NA",
         "0",
         "0",
         "18.5584",
         "44.99"
        ],
        [
         "453",
         "22",
         "SH-M897-M",
         "Men's Sports Shorts, M",
         "Men's Sports Shorts",
         "Men's 8-panel racing shorts - lycra with an elastic waistband and leg grippers.",
         "Black",
         "M",
         "M",
         "24.7459",
         "59.99"
        ],
        [
         "454",
         "22",
         "SH-M897-L",
         "Men's Sports Shorts, L",
         "Men's Sports Shorts",
         "Men's 8-panel racing shorts - lycra with an elastic waistband and leg grippers.",
         "Black",
         "L",
         "M",
         "24.7459",
         "59.99"
        ],
        [
         "455",
         "22",
         "SH-M897-X",
         "Men's Sports Shorts, XL",
         "Men's Sports Shorts",
         "Men's 8-panel racing shorts - lycra with an elastic waistband and leg grippers.",
         "Black",
         "XL",
         "M",
         "24.7459",
         "59.99"
        ],
        [
         "456",
         "24",
         "TG-W091-S",
         "Women's Tights, S",
         "Women's Tights",
         "Warm spandex tights for winter riding; seamless chamois construction eliminates pressure points.",
         "Black",
         "S",
         "W",
         "30.9334",
         "74.99"
        ],
        [
         "457",
         "24",
         "TG-W091-M",
         "Women's Tights, M",
         "Women's Tights",
         "Warm spandex tights for winter riding; seamless chamois construction eliminates pressure points.",
         "Black",
         "M",
         "W",
         "30.9334",
         "74.99"
        ],
        [
         "458",
         "24",
         "TG-W091-L",
         "Women's Tights, L",
         "Women's Tights",
         "Warm spandex tights for winter riding; seamless chamois construction eliminates pressure points.",
         "Black",
         "L",
         "W",
         "30.9334",
         "74.99"
        ],
        [
         "459",
         "18",
         "SB-M891-S",
         "Men's Bib-Shorts, S",
         "Men's Bib-Shorts",
         "Designed for the AWC team with stay-put straps, moisture-control, chamois padding, and leg grippers.",
         "Multi",
         "S",
         "M",
         "37.1209",
         "89.99"
        ],
        [
         "460",
         "18",
         "SB-M891-M",
         "Men's Bib-Shorts, M",
         "Men's Bib-Shorts",
         "Designed for the AWC team with stay-put straps, moisture-control, chamois padding, and leg grippers.",
         "Multi",
         "M",
         "M",
         "37.1209",
         "89.99"
        ],
        [
         "461",
         "18",
         "SB-M891-L",
         "Men's Bib-Shorts, L",
         "Men's Bib-Shorts",
         "Designed for the AWC team with stay-put straps, moisture-control, chamois padding, and leg grippers.",
         "Multi",
         "L",
         "M",
         "37.1209",
         "89.99"
        ],
        [
         "462",
         "20",
         "GL-H102-S",
         "Half-Finger Gloves, S",
         "Half-Finger Gloves",
         "Full padding, improved finger flex, durable palm, adjustable closure.",
         "Black",
         "S",
         "U",
         "9.7136",
         "23.5481"
        ],
        [
         "464",
         "20",
         "GL-H102-M",
         "Half-Finger Gloves, M",
         "Half-Finger Gloves",
         "Full padding, improved finger flex, durable palm, adjustable closure.",
         "Black",
         "M",
         "U",
         "9.7136",
         "23.5481"
        ],
        [
         "466",
         "20",
         "GL-H102-L",
         "Half-Finger Gloves, L",
         "Half-Finger Gloves",
         "Full padding, improved finger flex, durable palm, adjustable closure.",
         "Black",
         "L",
         "U",
         "9.7136",
         "23.5481"
        ],
        [
         "468",
         "20",
         "GL-F110-S",
         "Full-Finger Gloves, S",
         "Full-Finger Gloves",
         "Synthetic palm, flexible knuckles, breathable mesh upper. Worn by the AWC team riders.",
         "Black",
         "S",
         "U",
         "15.6709",
         "37.99"
        ],
        [
         "469",
         "20",
         "GL-F110-M",
         "Full-Finger Gloves, M",
         "Full-Finger Gloves",
         "Synthetic palm, flexible knuckles, breathable mesh upper. Worn by the AWC team riders.",
         "Black",
         "M",
         "U",
         "15.6709",
         "37.99"
        ],
        [
         "470",
         "20",
         "GL-F110-L",
         "Full-Finger Gloves, L",
         "Full-Finger Gloves",
         "Synthetic palm, flexible knuckles, breathable mesh upper. Worn by the AWC team riders.",
         "Black",
         "L",
         "U",
         "15.6709",
         "37.99"
        ],
        [
         "471",
         "25",
         "VE-C304-S",
         "Classic Vest, S",
         "Classic Vest",
         "Light-weight, wind-resistant, packs to fit into a pocket.",
         "Blue",
         "S",
         "U",
         "23.749",
         "63.5"
        ],
        [
         "472",
         "25",
         "VE-C304-M",
         "Classic Vest, M",
         "Classic Vest",
         "Light-weight, wind-resistant, packs to fit into a pocket.",
         "Blue",
         "M",
         "U",
         "23.749",
         "63.5"
        ],
        [
         "473",
         "25",
         "VE-C304-L",
         "Classic Vest, L",
         "Classic Vest",
         "Light-weight, wind-resistant, packs to fit into a pocket.",
         "Blue",
         "L",
         "U",
         "23.749",
         "63.5"
        ],
        [
         "474",
         "22",
         "SH-W890-S",
         "Women's Mountain Shorts, S",
         "Women's Mountain Shorts",
         "Heavy duty, abrasion-resistant shorts feature seamless, lycra inner shorts with anti-bacterial chamois for comfort.",
         "Black",
         "S",
         "W",
         "26.1763",
         "69.99"
        ],
        [
         "475",
         "22",
         "SH-W890-M",
         "Women's Mountain Shorts, M",
         "Women's Mountain Shorts",
         "Heavy duty, abrasion-resistant shorts feature seamless, lycra inner shorts with anti-bacterial chamois for comfort.",
         "Black",
         "M",
         "W",
         "26.1763",
         "69.99"
        ],
        [
         "476",
         "22",
         "SH-W890-L",
         "Women's Mountain Shorts, L",
         "Women's Mountain Shorts",
         "Heavy duty, abrasion-resistant shorts feature seamless, lycra inner shorts with anti-bacterial chamois for comfort.",
         "Black",
         "L",
         "W",
         "26.1763",
         "69.99"
        ],
        [
         "477",
         "28",
         "WB-H098",
         "Water Bottle - 30 oz.",
         "Water Bottle",
         "AWC logo water bottle - holds 30 oz; leak-proof.",
         "NA",
         "0",
         "0",
         "1.8663",
         "4.99"
        ],
        [
         "478",
         "28",
         "BC-M005",
         "Mountain Bottle Cage",
         "Mountain Bottle Cage",
         "Tough aluminum cage holds bottle securly on tough terrain.",
         "NA",
         "0",
         "0",
         "3.7363",
         "9.99"
        ],
        [
         "479",
         "28",
         "BC-R205",
         "Road Bottle Cage",
         "Road Bottle Cage",
         "Aluminum cage is lighter than our mountain version; perfect for long distance trips.",
         "NA",
         "0",
         "0",
         "3.3623",
         "8.99"
        ],
        [
         "480",
         "37",
         "PK-7098",
         "Patch Kit/8 Patches",
         "Patch kit",
         "Includes 8 different size patches, glue and sandpaper.",
         "NA",
         "0",
         "0",
         "0.8565",
         "2.29"
        ],
        [
         "481",
         "23",
         "SO-R809-M",
         "Racing Socks, M",
         "Racing Socks",
         "Thin, lightweight and durable with cuffs that stay up.",
         "White",
         "M",
         "U",
         "3.3623",
         "8.99"
        ],
        [
         "482",
         "23",
         "SO-R809-L",
         "Racing Socks, L",
         "Racing Socks",
         "Thin, lightweight and durable with cuffs that stay up.",
         "White",
         "L",
         "U",
         "3.3623",
         "8.99"
        ],
        [
         "483",
         "26",
         "RA-H123",
         "Hitch Rack - 4-Bike",
         "Hitch Rack - 4-Bike",
         "\"Carries 4 bikes securely; steel construction, fits 2\"\" receiver hitch.\"",
         "NA",
         "0",
         "0",
         "44.88",
         "120"
        ],
        [
         "484",
         "29",
         "CL-9009",
         "Bike Wash - Dissolver",
         "Bike Wash",
         "Washes off the toughest road grime; dissolves grease, environmentally safe. 1-liter bottle.",
         "NA",
         "0",
         "0",
         "2.9733",
         "7.95"
        ],
        [
         "485",
         "30",
         "FE-6654",
         "Fender Set - Mountain",
         "Fender Set - Mountain",
         "Clip-on fenders fit most mountain bikes.",
         "NA",
         "0",
         "0",
         "8.2205",
         "21.98"
        ],
        [
         "486",
         "27",
         "ST-1401",
         "All-Purpose Bike Stand",
         "All-Purpose Bike Stand",
         "Perfect all-purpose bike stand for working on your bike at home. Quick-adjusting clamps and steel construction.",
         "NA",
         "0",
         "0",
         "59.466",
         "159"
        ],
        [
         "487",
         "32",
         "HY-1023-70",
         "Hydration Pack - 70 oz.",
         "Hydration Pack",
         "Versatile 70 oz hydration pack offers extra storage, easy-fill access, and a waist belt.",
         "Silver",
         "70",
         "0",
         "20.5663",
         "54.99"
        ],
        [
         "488",
         "21",
         "SJ-0194-S",
         "Short-Sleeve Classic Jersey, S",
         "Short-Sleeve Classic Jersey",
         "Short sleeve classic breathable jersey with superior moisture control, front zipper, and 3 back pockets.",
         "Yellow",
         "S",
         "U",
         "41.5723",
         "53.99"
        ],
        [
         "489",
         "21",
         "SJ-0194-M",
         "Short-Sleeve Classic Jersey, M",
         "Short-Sleeve Classic Jersey",
         "Short sleeve classic breathable jersey with superior moisture control, front zipper, and 3 back pockets.",
         "Yellow",
         "M",
         "U",
         "41.5723",
         "53.99"
        ],
        [
         "490",
         "21",
         "SJ-0194-L",
         "Short-Sleeve Classic Jersey, L",
         "Short-Sleeve Classic Jersey",
         "Short sleeve classic breathable jersey with superior moisture control, front zipper, and 3 back pockets.",
         "Yellow",
         "L",
         "U",
         "41.5723",
         "53.99"
        ],
        [
         "491",
         "21",
         "SJ-0194-X",
         "Short-Sleeve Classic Jersey, XL",
         "Short-Sleeve Classic Jersey",
         "Short sleeve classic breathable jersey with superior moisture control, front zipper, and 3 back pockets.",
         "Yellow",
         "XL",
         "U",
         "41.5723",
         "53.99"
        ],
        [
         "492",
         "16",
         "FR-T98Y-60",
         "HL Touring Frame - Yellow, 60",
         "HL Touring Frame",
         "The HL aluminum frame is custom-shaped for both good looks and strength; it will withstand the most rigorous challenges of daily riding. Men's version.",
         "Yellow",
         "60",
         "U",
         "601.7437",
         "1003.91"
        ],
        [
         "493",
         "16",
         "FR-T67Y-62",
         "LL Touring Frame - Yellow, 62",
         "LL Touring Frame",
         "Lightweight butted aluminum frame provides a more upright riding position for a trip around town.  Our ground-breaking design provides optimum comfort.",
         "Yellow",
         "62",
         "U",
         "199.8519",
         "333.42"
        ],
        [
         "494",
         "16",
         "FR-T98Y-46",
         "HL Touring Frame - Yellow, 46",
         "HL Touring Frame",
         "The HL aluminum frame is custom-shaped for both good looks and strength; it will withstand the most rigorous challenges of daily riding. Men's version.",
         "Yellow",
         "46",
         "U",
         "601.7437",
         "1003.91"
        ],
        [
         "495",
         "16",
         "FR-T98Y-50",
         "HL Touring Frame - Yellow, 50",
         "HL Touring Frame",
         "The HL aluminum frame is custom-shaped for both good looks and strength; it will withstand the most rigorous challenges of daily riding. Men's version.",
         "Yellow",
         "50",
         "U",
         "601.7437",
         "1003.91"
        ],
        [
         "496",
         "16",
         "FR-T98Y-54",
         "HL Touring Frame - Yellow, 54",
         "HL Touring Frame",
         "The HL aluminum frame is custom-shaped for both good looks and strength; it will withstand the most rigorous challenges of daily riding. Men's version.",
         "Yellow",
         "54",
         "U",
         "601.7437",
         "1003.91"
        ],
        [
         "497",
         "16",
         "FR-T98U-46",
         "HL Touring Frame - Blue, 46",
         "HL Touring Frame",
         "The HL aluminum frame is custom-shaped for both good looks and strength; it will withstand the most rigorous challenges of daily riding. Men's version.",
         "Blue",
         "46",
         "U",
         "601.7437",
         "1003.91"
        ],
        [
         "498",
         "16",
         "FR-T98U-50",
         "HL Touring Frame - Blue, 50",
         "HL Touring Frame",
         "The HL aluminum frame is custom-shaped for both good looks and strength; it will withstand the most rigorous challenges of daily riding. Men's version.",
         "Blue",
         "50",
         "U",
         "601.7437",
         "1003.91"
        ],
        [
         "499",
         "16",
         "FR-T98U-54",
         "HL Touring Frame - Blue, 54",
         "HL Touring Frame",
         "The HL aluminum frame is custom-shaped for both good looks and strength; it will withstand the most rigorous challenges of daily riding. Men's version.",
         "Blue",
         "54",
         "U",
         "601.7437",
         "1003.91"
        ],
        [
         "500",
         "16",
         "FR-T98U-60",
         "HL Touring Frame - Blue, 60",
         "HL Touring Frame",
         "The HL aluminum frame is custom-shaped for both good looks and strength; it will withstand the most rigorous challenges of daily riding. Men's version.",
         "Blue",
         "60",
         "U",
         "601.7437",
         "1003.91"
        ],
        [
         "501",
         "9",
         "RD-2308",
         "Rear Derailleur",
         "Rear Derailleur",
         "Wide-link design.",
         "Silver",
         "0",
         "0",
         "53.9282",
         "121.46"
        ],
        [
         "502",
         "16",
         "FR-T67U-50",
         "LL Touring Frame - Blue, 50",
         "LL Touring Frame",
         "Lightweight butted aluminum frame provides a more upright riding position for a trip around town.  Our ground-breaking design provides optimum comfort.",
         "Blue",
         "50",
         "U",
         "199.8519",
         "333.42"
        ],
        [
         "503",
         "16",
         "FR-T67U-54",
         "LL Touring Frame - Blue, 54",
         "LL Touring Frame",
         "Lightweight butted aluminum frame provides a more upright riding position for a trip around town.  Our ground-breaking design provides optimum comfort.",
         "Blue",
         "54",
         "U",
         "199.8519",
         "333.42"
        ],
        [
         "504",
         "16",
         "FR-T67U-58",
         "LL Touring Frame - Blue, 58",
         "LL Touring Frame",
         "Lightweight butted aluminum frame provides a more upright riding position for a trip around town.  Our ground-breaking design provides optimum comfort.",
         "Blue",
         "58",
         "U",
         "199.8519",
         "333.42"
        ],
        [
         "505",
         "16",
         "FR-T67U-62",
         "LL Touring Frame - Blue, 62",
         "LL Touring Frame",
         "Lightweight butted aluminum frame provides a more upright riding position for a trip around town.  Our ground-breaking design provides optimum comfort.",
         "Blue",
         "62",
         "U",
         "199.8519",
         "333.42"
        ],
        [
         "506",
         "16",
         "FR-T67Y-44",
         "LL Touring Frame - Yellow, 44",
         "LL Touring Frame",
         "Lightweight butted aluminum frame provides a more upright riding position for a trip around town.  Our ground-breaking design provides optimum comfort.",
         "Yellow",
         "44",
         "U",
         "199.8519",
         "333.42"
        ],
        [
         "507",
         "16",
         "FR-T67Y-50",
         "LL Touring Frame - Yellow, 50",
         "LL Touring Frame",
         "Lightweight butted aluminum frame provides a more upright riding position for a trip around town.  Our ground-breaking design provides optimum comfort.",
         "Yellow",
         "50",
         "U",
         "199.8519",
         "333.42"
        ],
        [
         "508",
         "16",
         "FR-T67Y-54",
         "LL Touring Frame - Yellow, 54",
         "LL Touring Frame",
         "Lightweight butted aluminum frame provides a more upright riding position for a trip around town.  Our ground-breaking design provides optimum comfort.",
         "Yellow",
         "54",
         "U",
         "199.8519",
         "333.42"
        ],
        [
         "509",
         "16",
         "FR-T67Y-58",
         "LL Touring Frame - Yellow, 58",
         "LL Touring Frame",
         "Lightweight butted aluminum frame provides a more upright riding position for a trip around town.  Our ground-breaking design provides optimum comfort.",
         "Yellow",
         "58",
         "U",
         "199.8519",
         "333.42"
        ],
        [
         "510",
         "16",
         "FR-T67U-44",
         "LL Touring Frame - Blue, 44",
         "LL Touring Frame",
         "Lightweight butted aluminum frame provides a more upright riding position for a trip around town.  Our ground-breaking design provides optimum comfort.",
         "Blue",
         "44",
         "U",
         "199.8519",
         "333.42"
        ],
        [
         "511",
         "12",
         "FR-M63S-40",
         "ML Mountain Frame-W - Silver, 40",
         "ML Mountain Frame-W",
         "The ML frame is a heat-treated aluminum frame made with the same detail and quality as our HL frame. It offers superior performance. Men's version.",
         "Silver",
         "40",
         "W",
         "199.3757",
         "364.09"
        ],
        [
         "512",
         "12",
         "FR-M63S-42",
         "ML Mountain Frame-W - Silver, 42",
         "ML Mountain Frame-W",
         "The ML frame is a heat-treated aluminum frame made with the same detail and quality as our HL frame. It offers superior performance. Men's version.",
         "Silver",
         "42",
         "W",
         "199.3757",
         "364.09"
        ],
        [
         "513",
         "12",
         "FR-M63S-46",
         "ML Mountain Frame-W - Silver, 46",
         "ML Mountain Frame-W",
         "The ML frame is a heat-treated aluminum frame made with the same detail and quality as our HL frame. It offers superior performance. Men's version.",
         "Silver",
         "46",
         "W",
         "199.3757",
         "364.09"
        ],
        [
         "514",
         "6",
         "RB-9231",
         "Rear Brakes",
         "Rear Brakes",
         "0",
         "Silver",
         "0",
         "0",
         "47.286",
         "106.5"
        ],
        [
         "515",
         "15",
         "SE-M236",
         "LL Mountain Seat/Saddle",
         "LL Mountain Seat/Saddle 2",
         "Synthetic leather. Features gel for increased comfort.",
         "NA",
         "0",
         "0",
         "12.0413",
         "27.12"
        ],
        [
         "516",
         "15",
         "SE-M798",
         "ML Mountain Seat/Saddle",
         "ML Mountain Seat/Saddle 2",
         "Designed to absorb shock.",
         "NA",
         "0",
         "0",
         "17.3782",
         "39.14"
        ],
        [
         "517",
         "15",
         "SE-M940",
         "HL Mountain Seat/Saddle",
         "HL Mountain Seat/Saddle 2",
         "Anatomic design for a full-day of riding in comfort. Durable leather.",
         "NA",
         "0",
         "0",
         "23.3722",
         "52.64"
        ],
        [
         "518",
         "15",
         "SE-R581",
         "LL Road Seat/Saddle",
         "LL Road Seat/Saddle 1",
         "Lightweight foam-padded saddle.",
         "NA",
         "0",
         "0",
         "12.0413",
         "27.12"
        ],
        [
         "519",
         "15",
         "SE-R908",
         "ML Road Seat/Saddle",
         "ML Road Seat/Saddle 2",
         "Rubber bumpers absorb bumps.",
         "NA",
         "0",
         "0",
         "17.3782",
         "39.14"
        ],
        [
         "520",
         "15",
         "SE-R995",
         "HL Road Seat/Saddle",
         "HL Road Seat/Saddle 2",
         "Lightweight kevlar racing saddle. Leather.",
         "NA",
         "0",
         "0",
         "23.3722",
         "52.64"
        ],
        [
         "521",
         "15",
         "SE-T312",
         "LL Touring Seat/Saddle",
         "LL Touring Seat/Saddle",
         "Comfortable, ergonomically shaped gel saddle.",
         "NA",
         "0",
         "0",
         "12.0413",
         "27.12"
        ],
        [
         "522",
         "15",
         "SE-T762",
         "ML Touring Seat/Saddle",
         "ML Touring Seat/Saddle",
         "New design relieves pressure for long rides.",
         "NA",
         "0",
         "0",
         "17.3782",
         "39.14"
        ],
        [
         "523",
         "15",
         "SE-T924",
         "HL Touring Seat/Saddle",
         "HL Touring Seat/Saddle",
         "Cut-out shell for a more comfortable ride.",
         "NA",
         "0",
         "0",
         "23.3722",
         "52.64"
        ],
        [
         "524",
         "12",
         "FR-M21S-42",
         "LL Mountain Frame - Silver, 42",
         "LL Mountain Frame",
         "Our best value utilizing the same, ground-breaking frame technology as the ML aluminum frame.",
         "Silver",
         "42",
         "U",
         "144.5938",
         "264.05"
        ],
        [
         "525",
         "12",
         "FR-M21S-44",
         "LL Mountain Frame - Silver, 44",
         "LL Mountain Frame",
         "Our best value utilizing the same, ground-breaking frame technology as the ML aluminum frame.",
         "Silver",
         "44",
         "U",
         "144.5938",
         "264.05"
        ],
        [
         "526",
         "12",
         "FR-M21S-48",
         "LL Mountain Frame - Silver, 48",
         "LL Mountain Frame",
         "Our best value utilizing the same, ground-breaking frame technology as the ML aluminum frame.",
         "Silver",
         "48",
         "U",
         "144.5938",
         "264.05"
        ],
        [
         "527",
         "12",
         "FR-M21S-52",
         "LL Mountain Frame - Silver, 52",
         "LL Mountain Frame",
         "Our best value utilizing the same, ground-breaking frame technology as the ML aluminum frame.",
         "Silver",
         "52",
         "U",
         "144.5938",
         "264.05"
        ],
        [
         "528",
         "37",
         "TT-M928",
         "Mountain Tire Tube",
         "Mountain Tire Tube",
         "Self-sealing tube.",
         "NA",
         "0",
         "0",
         "1.8663",
         "4.99"
        ],
        [
         "529",
         "37",
         "TT-R982",
         "Road Tire Tube",
         "Road Tire Tube",
         "Conventional all-purpose tube.",
         "NA",
         "0",
         "0",
         "1.4923",
         "3.99"
        ],
        [
         "530",
         "37",
         "TT-T092",
         "Touring Tire Tube",
         "Touring Tire Tube",
         "General purpose tube.",
         "NA",
         "0",
         "0",
         "1.8663",
         "4.99"
        ],
        [
         "531",
         "12",
         "FR-M21B-42",
         "LL Mountain Frame - Black, 42",
         "LL Mountain Frame",
         "Our best value utilizing the same, ground-breaking frame technology as the ML aluminum frame.",
         "Black",
         "42",
         "U",
         "136.785",
         "249.79"
        ],
        [
         "532",
         "12",
         "FR-M21B-44",
         "LL Mountain Frame - Black, 44",
         "LL Mountain Frame",
         "Our best value utilizing the same, ground-breaking frame technology as the ML aluminum frame.",
         "Black",
         "44",
         "U",
         "136.785",
         "249.79"
        ],
        [
         "533",
         "12",
         "FR-M21B-48",
         "LL Mountain Frame - Black, 48",
         "LL Mountain Frame",
         "Our best value utilizing the same, ground-breaking frame technology as the ML aluminum frame.",
         "Black",
         "48",
         "U",
         "136.785",
         "249.79"
        ],
        [
         "534",
         "12",
         "FR-M21B-52",
         "LL Mountain Frame - Black, 52",
         "LL Mountain Frame",
         "Our best value utilizing the same, ground-breaking frame technology as the ML aluminum frame.",
         "Black",
         "52",
         "U",
         "136.785",
         "249.79"
        ],
        [
         "535",
         "37",
         "TI-M267",
         "LL Mountain Tire",
         "LL Mountain Tire",
         "Comparible traction, less expensive wire bead casing.",
         "NA",
         "0",
         "0",
         "9.3463",
         "24.99"
        ],
        [
         "536",
         "37",
         "TI-M602",
         "ML Mountain Tire",
         "ML Mountain Tire",
         "Great traction, high-density rubber.",
         "NA",
         "0",
         "0",
         "11.2163",
         "29.99"
        ],
        [
         "537",
         "37",
         "TI-M823",
         "HL Mountain Tire",
         "HL Mountain Tire",
         "Incredible traction, lightweight carbon reinforced.",
         "NA",
         "0",
         "0",
         "13.09",
         "35"
        ],
        [
         "538",
         "37",
         "TI-R092",
         "LL Road Tire",
         "LL Road Tire",
         "Same great treads as more expensive tire with a less expensive wire bead casing.",
         "NA",
         "0",
         "0",
         "8.0373",
         "21.49"
        ],
        [
         "539",
         "37",
         "TI-R628",
         "ML Road Tire",
         "ML Road Tire",
         "Higher density rubber.",
         "NA",
         "0",
         "0",
         "9.3463",
         "24.99"
        ],
        [
         "540",
         "37",
         "TI-R982",
         "HL Road Tire",
         "HL Road Tire",
         "Lightweight carbon reinforced  for an unrivaled ride at an un-compromised weight.",
         "NA",
         "0",
         "0",
         "12.1924",
         "32.6"
        ],
        [
         "541",
         "37",
         "TI-T723",
         "Touring Tire",
         "Touring Tire",
         "High-density rubber.",
         "NA",
         "0",
         "0",
         "10.8423",
         "28.99"
        ],
        [
         "542",
         "13",
         "PD-M282",
         "LL Mountain Pedal",
         "LL Mountain Pedal",
         "Expanded platform so you can ride in any shoes; great for all-around riding.",
         "Silver/Black",
         "0",
         "0",
         "17.9776",
         "40.49"
        ],
        [
         "543",
         "13",
         "PD-M340",
         "ML Mountain Pedal",
         "ML Mountain Pedal",
         "Lightweight, durable, clipless pedal with adjustable tension.",
         "Silver/Black",
         "0",
         "0",
         "27.568",
         "62.09"
        ],
        [
         "544",
         "13",
         "PD-M562",
         "HL Mountain Pedal",
         "HL Mountain Pedal",
         "Stainless steel; designed to shed mud easily.",
         "Silver/Black",
         "0",
         "0",
         "35.9596",
         "80.99"
        ],
        [
         "545",
         "13",
         "PD-R347",
         "LL Road Pedal",
         "LL Road Pedal",
         "Clipless pedals - aluminum.",
         "Silver/Black",
         "0",
         "0",
         "17.9776",
         "40.49"
        ],
        [
         "546",
         "13",
         "PD-R563",
         "ML Road Pedal",
         "ML Road Pedal",
         "Lightweight aluminum alloy construction.",
         "Silver/Black",
         "0",
         "0",
         "27.568",
         "62.09"
        ],
        [
         "547",
         "13",
         "PD-R853",
         "HL Road Pedal",
         "HL Road Pedal",
         "Top-of-the-line clipless pedals with adjustable tension.",
         "Silver/Black",
         "0",
         "0",
         "35.9596",
         "80.99"
        ],
        [
         "548",
         "13",
         "PD-T852",
         "Touring Pedal",
         "Touring Pedal",
         "A stable pedal for all-day riding.",
         "Silver/Black",
         "0",
         "0",
         "35.9596",
         "80.99"
        ],
        [
         "549",
         "12",
         "FR-M63S-38",
         "ML Mountain Frame-W - Silver, 38",
         "ML Mountain Frame-W",
         "The ML frame is a heat-treated aluminum frame made with the same detail and quality as our HL frame. It offers superior performance. Men's version.",
         "Silver",
         "38",
         "W",
         "199.3757",
         "364.09"
        ],
        [
         "550",
         "12",
         "FR-M21B-40",
         "LL Mountain Frame - Black, 40",
         "LL Mountain Frame",
         "Our best value utilizing the same, ground-breaking frame technology as the ML aluminum frame.",
         "Black",
         "40",
         "U",
         "136.785",
         "249.79"
        ],
        [
         "551",
         "12",
         "FR-M21S-40",
         "LL Mountain Frame - Silver, 40",
         "LL Mountain Frame",
         "Our best value utilizing the same, ground-breaking frame technology as the ML aluminum frame.",
         "Silver",
         "40",
         "U",
         "144.5938",
         "264.05"
        ],
        [
         "552",
         "9",
         "FD-2342",
         "Front Derailleur",
         "Front Derailleur",
         "Wide-link design.",
         "Silver",
         "0",
         "0",
         "40.6216",
         "91.49"
        ],
        [
         "553",
         "4",
         "HB-T721",
         "LL Touring Handlebars",
         "LL Touring Handlebars",
         "Unique shape reduces fatigue for entry level riders.",
         "NA",
         "0",
         "0",
         "20.464",
         "46.09"
        ],
        [
         "554",
         "4",
         "HB-T928",
         "HL Touring Handlebars",
         "HL Touring Handlebars",
         "A light yet stiff aluminum bar for long distance riding.",
         "NA",
         "0",
         "0",
         "40.6571",
         "91.57"
        ],
        [
         "555",
         "6",
         "FB-9873",
         "Front Brakes",
         "Front Brakes",
         "All-weather brake pads; provides superior stopping by applying more surface to the rim.",
         "Silver",
         "0",
         "0",
         "47.286",
         "106.5"
        ],
        [
         "556",
         "8",
         "CS-4759",
         "LL Crankset",
         "LL Crankset",
         "Super rigid spindle.",
         "Black",
         "0",
         "0",
         "77.9176",
         "175.49"
        ],
        [
         "557",
         "8",
         "CS-6583",
         "ML Crankset",
         "ML Crankset",
         "High-strength crank arm.",
         "Black",
         "0",
         "0",
         "113.8816",
         "256.49"
        ],
        [
         "558",
         "8",
         "CS-9183",
         "HL Crankset",
         "HL Crankset",
         "Triple crankset; alumunim crank arm; flawless shifting.",
         "Black",
         "0",
         "0",
         "179.8156",
         "404.99"
        ],
        [
         "559",
         "7",
         "CH-0234",
         "Chain",
         "Chain",
         "Superior shifting performance.",
         "Silver",
         "0",
         "0",
         "8.9866",
         "20.24"
        ],
        [
         "560",
         "3",
         "BK-T44U-60",
         "Touring-2000 Blue, 60",
         "Touring-2000",
         "The plush custom saddle keeps you riding all day,  and there's plenty of space to add panniers and bike bags to the newly-redesigned carrier.  This bike has stability when fully-loaded.",
         "Blue",
         "60",
         "U",
         "755.1508",
         "1214.85"
        ],
        [
         "561",
         "3",
         "BK-T79Y-46",
         "Touring-1000 Yellow, 46",
         "Touring-1000",
         "Travel in style and comfort. Designed for maximum comfort and safety. Wide gear range takes on all hills. High-tech aluminum alloy construction provides durability without added weight.",
         "Yellow",
         "46",
         "U",
         "1481.9379",
         "2384.07"
        ],
        [
         "562",
         "3",
         "BK-T79Y-50",
         "Touring-1000 Yellow, 50",
         "Touring-1000",
         "Travel in style and comfort. Designed for maximum comfort and safety. Wide gear range takes on all hills. High-tech aluminum alloy construction provides durability without added weight.",
         "Yellow",
         "50",
         "U",
         "1481.9379",
         "2384.07"
        ],
        [
         "563",
         "3",
         "BK-T79Y-54",
         "Touring-1000 Yellow, 54",
         "Touring-1000",
         "Travel in style and comfort. Designed for maximum comfort and safety. Wide gear range takes on all hills. High-tech aluminum alloy construction provides durability without added weight.",
         "Yellow",
         "54",
         "U",
         "1481.9379",
         "2384.07"
        ],
        [
         "564",
         "3",
         "BK-T79Y-60",
         "Touring-1000 Yellow, 60",
         "Touring-1000",
         "Travel in style and comfort. Designed for maximum comfort and safety. Wide gear range takes on all hills. High-tech aluminum alloy construction provides durability without added weight.",
         "Yellow",
         "60",
         "U",
         "1481.9379",
         "2384.07"
        ],
        [
         "565",
         "3",
         "BK-T18U-54",
         "Touring-3000 Blue, 54",
         "Touring-3000",
         "All-occasion value bike with our basic comfort and safety features. Offers wider, more stable tires for a ride around town or weekend trip.",
         "Blue",
         "54",
         "U",
         "461.4448",
         "742.35"
        ],
        [
         "566",
         "3",
         "BK-T18U-58",
         "Touring-3000 Blue, 58",
         "Touring-3000",
         "All-occasion value bike with our basic comfort and safety features. Offers wider, more stable tires for a ride around town or weekend trip.",
         "Blue",
         "58",
         "U",
         "461.4448",
         "742.35"
        ],
        [
         "567",
         "3",
         "BK-T18U-62",
         "Touring-3000 Blue, 62",
         "Touring-3000",
         "All-occasion value bike with our basic comfort and safety features. Offers wider, more stable tires for a ride around town or weekend trip.",
         "Blue",
         "62",
         "U",
         "461.4448",
         "742.35"
        ],
        [
         "568",
         "3",
         "BK-T18Y-44",
         "Touring-3000 Yellow, 44",
         "Touring-3000",
         "All-occasion value bike with our basic comfort and safety features. Offers wider, more stable tires for a ride around town or weekend trip.",
         "Yellow",
         "44",
         "U",
         "461.4448",
         "742.35"
        ],
        [
         "569",
         "3",
         "BK-T18Y-50",
         "Touring-3000 Yellow, 50",
         "Touring-3000",
         "All-occasion value bike with our basic comfort and safety features. Offers wider, more stable tires for a ride around town or weekend trip.",
         "Yellow",
         "50",
         "U",
         "461.4448",
         "742.35"
        ],
        [
         "570",
         "3",
         "BK-T18Y-54",
         "Touring-3000 Yellow, 54",
         "Touring-3000",
         "All-occasion value bike with our basic comfort and safety features. Offers wider, more stable tires for a ride around town or weekend trip.",
         "Yellow",
         "54",
         "U",
         "461.4448",
         "742.35"
        ],
        [
         "571",
         "3",
         "BK-T18Y-58",
         "Touring-3000 Yellow, 58",
         "Touring-3000",
         "All-occasion value bike with our basic comfort and safety features. Offers wider, more stable tires for a ride around town or weekend trip.",
         "Yellow",
         "58",
         "U",
         "461.4448",
         "742.35"
        ],
        [
         "572",
         "3",
         "BK-T18Y-62",
         "Touring-3000 Yellow, 62",
         "Touring-3000",
         "All-occasion value bike with our basic comfort and safety features. Offers wider, more stable tires for a ride around town or weekend trip.",
         "Yellow",
         "62",
         "U",
         "461.4448",
         "742.35"
        ],
        [
         "573",
         "3",
         "BK-T79U-46",
         "Touring-1000 Blue, 46",
         "Touring-1000",
         "Travel in style and comfort. Designed for maximum comfort and safety. Wide gear range takes on all hills. High-tech aluminum alloy construction provides durability without added weight.",
         "Blue",
         "46",
         "U",
         "1481.9379",
         "2384.07"
        ],
        [
         "574",
         "3",
         "BK-T79U-50",
         "Touring-1000 Blue, 50",
         "Touring-1000",
         "Travel in style and comfort. Designed for maximum comfort and safety. Wide gear range takes on all hills. High-tech aluminum alloy construction provides durability without added weight.",
         "Blue",
         "50",
         "U",
         "1481.9379",
         "2384.07"
        ],
        [
         "575",
         "3",
         "BK-T79U-54",
         "Touring-1000 Blue, 54",
         "Touring-1000",
         "Travel in style and comfort. Designed for maximum comfort and safety. Wide gear range takes on all hills. High-tech aluminum alloy construction provides durability without added weight.",
         "Blue",
         "54",
         "U",
         "1481.9379",
         "2384.07"
        ],
        [
         "576",
         "3",
         "BK-T79U-60",
         "Touring-1000 Blue, 60",
         "Touring-1000",
         "Travel in style and comfort. Designed for maximum comfort and safety. Wide gear range takes on all hills. High-tech aluminum alloy construction provides durability without added weight.",
         "Blue",
         "60",
         "U",
         "1481.9379",
         "2384.07"
        ],
        [
         "577",
         "3",
         "BK-T44U-46",
         "Touring-2000 Blue, 46",
         "Touring-2000",
         "The plush custom saddle keeps you riding all day,  and there's plenty of space to add panniers and bike bags to the newly-redesigned carrier.  This bike has stability when fully-loaded.",
         "Blue",
         "46",
         "U",
         "755.1508",
         "1214.85"
        ],
        [
         "578",
         "3",
         "BK-T44U-50",
         "Touring-2000 Blue, 50",
         "Touring-2000",
         "The plush custom saddle keeps you riding all day,  and there's plenty of space to add panniers and bike bags to the newly-redesigned carrier.  This bike has stability when fully-loaded.",
         "Blue",
         "50",
         "U",
         "755.1508",
         "1214.85"
        ],
        [
         "579",
         "3",
         "BK-T44U-54",
         "Touring-2000 Blue, 54",
         "Touring-2000",
         "The plush custom saddle keeps you riding all day,  and there's plenty of space to add panniers and bike bags to the newly-redesigned carrier.  This bike has stability when fully-loaded.",
         "Blue",
         "54",
         "U",
         "755.1508",
         "1214.85"
        ],
        [
         "580",
         "2",
         "BK-R79Y-40",
         "Road-350-W Yellow, 40",
         "Road-350-W",
         "Cross-train, race, or just socialize on a sleek, aerodynamic bike designed for a woman.  Advanced seat technology provides comfort all day.",
         "Yellow",
         "40",
         "W",
         "1082.51",
         "1700.99"
        ],
        [
         "581",
         "2",
         "BK-R79Y-42",
         "Road-350-W Yellow, 42",
         "Road-350-W",
         "Cross-train, race, or just socialize on a sleek, aerodynamic bike designed for a woman.  Advanced seat technology provides comfort all day.",
         "Yellow",
         "42",
         "W",
         "1082.51",
         "1700.99"
        ],
        [
         "582",
         "2",
         "BK-R79Y-44",
         "Road-350-W Yellow, 44",
         "Road-350-W",
         "Cross-train, race, or just socialize on a sleek, aerodynamic bike designed for a woman.  Advanced seat technology provides comfort all day.",
         "Yellow",
         "44",
         "W",
         "1082.51",
         "1700.99"
        ],
        [
         "583",
         "2",
         "BK-R79Y-48",
         "Road-350-W Yellow, 48",
         "Road-350-W",
         "Cross-train, race, or just socialize on a sleek, aerodynamic bike designed for a woman.  Advanced seat technology provides comfort all day.",
         "Yellow",
         "48",
         "W",
         "1082.51",
         "1700.99"
        ],
        [
         "584",
         "2",
         "BK-R19B-58",
         "Road-750 Black, 58",
         "Road-750",
         "Entry level adult bike; offers a comfortable ride cross-country or down the block. Quick-release hubs and rims.",
         "Black",
         "58",
         "U",
         "343.6496",
         "539.99"
        ],
        [
         "585",
         "3",
         "BK-T18U-44",
         "Touring-3000 Blue, 44",
         "Touring-3000",
         "All-occasion value bike with our basic comfort and safety features. Offers wider, more stable tires for a ride around town or weekend trip.",
         "Blue",
         "44",
         "U",
         "461.4448",
         "742.35"
        ],
        [
         "586",
         "3",
         "BK-T18U-50",
         "Touring-3000 Blue, 50",
         "Touring-3000",
         "All-occasion value bike with our basic comfort and safety features. Offers wider, more stable tires for a ride around town or weekend trip.",
         "Blue",
         "50",
         "U",
         "461.4448",
         "742.35"
        ],
        [
         "587",
         "1",
         "BK-M38S-38",
         "Mountain-400-W Silver, 38",
         "Mountain-400-W",
         "This bike delivers a high-level of performance on a budget. It is responsive and maneuverable, and offers peace-of-mind when you decide to go off-road.",
         "Silver",
         "38",
         "W",
         "419.7784",
         "769.49"
        ],
        [
         "588",
         "1",
         "BK-M38S-40",
         "Mountain-400-W Silver, 40",
         "Mountain-400-W",
         "This bike delivers a high-level of performance on a budget. It is responsive and maneuverable, and offers peace-of-mind when you decide to go off-road.",
         "Silver",
         "40",
         "W",
         "419.7784",
         "769.49"
        ],
        [
         "589",
         "1",
         "BK-M38S-42",
         "Mountain-400-W Silver, 42",
         "Mountain-400-W",
         "This bike delivers a high-level of performance on a budget. It is responsive and maneuverable, and offers peace-of-mind when you decide to go off-road.",
         "Silver",
         "42",
         "W",
         "419.7784",
         "769.49"
        ],
        [
         "590",
         "1",
         "BK-M38S-46",
         "Mountain-400-W Silver, 46",
         "Mountain-400-W",
         "This bike delivers a high-level of performance on a budget. It is responsive and maneuverable, and offers peace-of-mind when you decide to go off-road.",
         "Silver",
         "46",
         "W",
         "419.7784",
         "769.49"
        ],
        [
         "591",
         "1",
         "BK-M18S-40",
         "Mountain-500 Silver, 40",
         "Mountain-500",
         "Suitable for any type of riding, on or off-road. Fits any budget. Smooth-shifting with a comfortable ride.",
         "Silver",
         "40",
         "U",
         "308.2179",
         "564.99"
        ],
        [
         "592",
         "1",
         "BK-M18S-42",
         "Mountain-500 Silver, 42",
         "Mountain-500",
         "Suitable for any type of riding, on or off-road. Fits any budget. Smooth-shifting with a comfortable ride.",
         "Silver",
         "42",
         "U",
         "308.2179",
         "564.99"
        ],
        [
         "593",
         "1",
         "BK-M18S-44",
         "Mountain-500 Silver, 44",
         "Mountain-500",
         "Suitable for any type of riding, on or off-road. Fits any budget. Smooth-shifting with a comfortable ride.",
         "Silver",
         "44",
         "U",
         "308.2179",
         "564.99"
        ],
        [
         "594",
         "1",
         "BK-M18S-48",
         "Mountain-500 Silver, 48",
         "Mountain-500",
         "Suitable for any type of riding, on or off-road. Fits any budget. Smooth-shifting with a comfortable ride.",
         "Silver",
         "48",
         "U",
         "308.2179",
         "564.99"
        ],
        [
         "595",
         "1",
         "BK-M18S-52",
         "Mountain-500 Silver, 52",
         "Mountain-500",
         "Suitable for any type of riding, on or off-road. Fits any budget. Smooth-shifting with a comfortable ride.",
         "Silver",
         "52",
         "U",
         "308.2179",
         "564.99"
        ],
        [
         "596",
         "1",
         "BK-M18B-40",
         "Mountain-500 Black, 40",
         "Mountain-500",
         "Suitable for any type of riding, on or off-road. Fits any budget. Smooth-shifting with a comfortable ride.",
         "Black",
         "40",
         "U",
         "294.5797",
         "539.99"
        ],
        [
         "597",
         "1",
         "BK-M18B-42",
         "Mountain-500 Black, 42",
         "Mountain-500",
         "Suitable for any type of riding, on or off-road. Fits any budget. Smooth-shifting with a comfortable ride.",
         "Black",
         "42",
         "U",
         "294.5797",
         "539.99"
        ],
        [
         "598",
         "1",
         "BK-M18B-44",
         "Mountain-500 Black, 44",
         "Mountain-500",
         "Suitable for any type of riding, on or off-road. Fits any budget. Smooth-shifting with a comfortable ride.",
         "Black",
         "44",
         "U",
         "294.5797",
         "539.99"
        ],
        [
         "599",
         "1",
         "BK-M18B-48",
         "Mountain-500 Black, 48",
         "Mountain-500",
         "Suitable for any type of riding, on or off-road. Fits any budget. Smooth-shifting with a comfortable ride.",
         "Black",
         "48",
         "U",
         "294.5797",
         "539.99"
        ],
        [
         "600",
         "1",
         "BK-M18B-52",
         "Mountain-500 Black, 52",
         "Mountain-500",
         "Suitable for any type of riding, on or off-road. Fits any budget. Smooth-shifting with a comfortable ride.",
         "Black",
         "52",
         "U",
         "294.5797",
         "539.99"
        ],
        [
         "601",
         "5",
         "BB-7421",
         "LL Bottom Bracket",
         "LL Bottom Bracket",
         "Chromoly steel.",
         "NA",
         "0",
         "0",
         "23.9716",
         "53.99"
        ],
        [
         "602",
         "5",
         "BB-8107",
         "ML Bottom Bracket",
         "ML Bottom Bracket",
         "Aluminum alloy cups; large diameter spindle.",
         "NA",
         "0",
         "0",
         "44.9506",
         "101.24"
        ],
        [
         "603",
         "5",
         "BB-9108",
         "HL Bottom Bracket",
         "HL Bottom Bracket",
         "Aluminum alloy cups and a hollow axle.",
         "NA",
         "0",
         "0",
         "53.9416",
         "121.49"
        ],
        [
         "604",
         "2",
         "BK-R19B-44",
         "Road-750 Black, 44",
         "Road-750",
         "Entry level adult bike; offers a comfortable ride cross-country or down the block. Quick-release hubs and rims.",
         "Black",
         "44",
         "U",
         "343.6496",
         "539.99"
        ],
        [
         "605",
         "2",
         "BK-R19B-48",
         "Road-750 Black, 48",
         "Road-750",
         "Entry level adult bike; offers a comfortable ride cross-country or down the block. Quick-release hubs and rims.",
         "Black",
         "48",
         "U",
         "343.6496",
         "539.99"
        ],
        [
         "606",
         "2",
         "BK-R19B-52",
         "Road-750 Black, 52",
         "Road-750",
         "Entry level adult bike; offers a comfortable ride cross-country or down the block. Quick-release hubs and rims.",
         "Black",
         "52",
         "U",
         "343.6496",
         "539.99"
        ]
       ],
       "datasetInfos": [],
       "dbfsResultPath": null,
       "isJsonSchema": true,
       "metadata": {
        "createTempViewForImplicitDf": true,
        "dataframeName": "_sqldf",
        "executionCount": 28
       },
       "overflow": false,
       "plotOptions": {
        "customPlotOptions": {},
        "displayType": "table",
        "pivotAggregation": null,
        "pivotColumns": null,
        "xColumns": null,
        "yColumns": null
       },
       "removedWidgets": [],
       "schema": [
        {
         "metadata": "{}",
         "name": "_c0",
         "type": "\"string\""
        },
        {
         "metadata": "{}",
         "name": "_c1",
         "type": "\"string\""
        },
        {
         "metadata": "{}",
         "name": "_c2",
         "type": "\"string\""
        },
        {
         "metadata": "{}",
         "name": "_c3",
         "type": "\"string\""
        },
        {
         "metadata": "{}",
         "name": "_c4",
         "type": "\"string\""
        },
        {
         "metadata": "{}",
         "name": "_c5",
         "type": "\"string\""
        },
        {
         "metadata": "{}",
         "name": "_c6",
         "type": "\"string\""
        },
        {
         "metadata": "{}",
         "name": "_c7",
         "type": "\"string\""
        },
        {
         "metadata": "{}",
         "name": "_c8",
         "type": "\"string\""
        },
        {
         "metadata": "{}",
         "name": "_c9",
         "type": "\"string\""
        },
        {
         "metadata": "{}",
         "name": "_c10",
         "type": "\"string\""
        }
       ],
       "type": "table"
      }
     },
     "output_type": "display_data"
    }
   ],
   "source": [
    "%sql\n",
    "select  *  from csv. `/Volumes/ext_catlog/ext_schema/myvolumetext/Products.csv`"
   ]
  }
 ],
 "metadata": {
  "application/vnd.databricks.v1+notebook": {
   "computePreferences": null,
   "dashboards": [],
   "environmentMetadata": {
    "base_environment": "",
    "client": "1"
   },
   "language": "python",
   "notebookMetadata": {
    "mostRecentlyExecutedCommandWithImplicitDF": {
     "commandId": 1511027513998285,
     "dataframes": [
      "_sqldf"
     ]
    },
    "pythonIndentUnit": 4
   },
   "notebookName": "unitytutorial",
   "widgets": {}
  },
  "language_info": {
   "name": "python"
  }
 },
 "nbformat": 4,
 "nbformat_minor": 0
}